{
 "cells": [
  {
   "cell_type": "code",
   "execution_count": 8,
   "metadata": {},
   "outputs": [],
   "source": [
    "from google.cloud import firestore\n",
    "from google.cloud import storage\n",
    "from tqdm import tqdm\n",
    "from pathlib import Path\n",
    "import json \n",
    "from geopy import distance\n",
    "from collections import Counter\n",
    "import geopandas\n",
    "import pandas as pd\n",
    "import numpy as np\n",
    "from sklearn.model_selection import train_test_split\n",
    "from sklearn.cluster import KMeans\n",
    "import matplotlib.pyplot as plt\n",
    "pd.set_option('display.max_columns', 500)\n",
    "pd.set_option('display.width', 1000)\n",
    "from datetime import datetime\n",
    "# new library\n",
    "import reverse_geocoder as rg"
   ]
  },
  {
   "cell_type": "markdown",
   "metadata": {},
   "source": [
    "#### Connect to Gcloud"
   ]
  },
  {
   "cell_type": "code",
   "execution_count": 2,
   "metadata": {},
   "outputs": [],
   "source": [
    "# Initialize connections to cloud storage and database\n",
    "# !gcloud auth login\n",
    "# !gcloud config set account <>\n",
    "# !gcloud config set project bsos-geog-harvest1\n",
    "# !gcloud auth application-default login\n",
    "client = storage.Client()\n",
    "db = firestore.Client()\n",
    "gcloud_labeling_bucket_str = 'street2sat-gcloud-labeling'\n",
    "coll = db.collection(\"street2sat\")"
   ]
  },
  {
   "cell_type": "markdown",
   "metadata": {},
   "source": [
    "### Get Model Prediction Results By Country And Crop\n",
    "\n",
    "1. Get list of images that were used by using yaml config file\n",
    "2. Run YOLOV5 validation script on train/validation splits store to txt file\n",
    "3. From txt extract images and fix paths\n",
    "4. Access original images and get locations of images \n",
    "5. Split results by region, and then run the validation script on each region. "
   ]
  },
  {
   "cell_type": "code",
   "execution_count": null,
   "metadata": {},
   "outputs": [],
   "source": [
    "\n",
    "\n"
   ]
  }
 ],
 "metadata": {
  "interpreter": {
   "hash": "c6e19b068c9dc8e9abbb63f4ebe6ba72967bfa9808ead93b8c4d20f84e90dab6"
  },
  "kernelspec": {
   "display_name": "Python 3.7.7 ('mads')",
   "language": "python",
   "name": "python3"
  },
  "language_info": {
   "codemirror_mode": {
    "name": "ipython",
    "version": 3
   },
   "file_extension": ".py",
   "mimetype": "text/x-python",
   "name": "python",
   "nbconvert_exporter": "python",
   "pygments_lexer": "ipython3",
   "version": "3.10.0"
  },
  "orig_nbformat": 4
 },
 "nbformat": 4,
 "nbformat_minor": 2
}

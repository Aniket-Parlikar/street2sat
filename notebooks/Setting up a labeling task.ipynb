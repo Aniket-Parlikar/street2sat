{
 "cells": [
  {
   "cell_type": "markdown",
   "id": "6d0c03ff",
   "metadata": {},
   "source": [
    "# Setting up a labeling task for Street2Sat\n",
    "This notebook provides code and necessary instructions for creating a street2sat labeling task from scratch"
   ]
  },
  {
   "cell_type": "markdown",
   "id": "19914c68",
   "metadata": {},
   "source": [
    "## 1. Generating list of random images to label"
   ]
  },
  {
   "cell_type": "code",
   "execution_count": null,
   "id": "f9860b4c",
   "metadata": {},
   "outputs": [],
   "source": [
    "from datetime import datetime\n",
    "from google.cloud import firestore\n",
    "from google.cloud import storage\n",
    "from tqdm.notebook import tqdm\n",
    "\n",
    "import pandas as pd\n",
    "import random"
   ]
  },
  {
   "cell_type": "code",
   "execution_count": null,
   "id": "5bb27283",
   "metadata": {},
   "outputs": [],
   "source": [
    "# You may need to run the below commands to authenticate GCloud and set the correct project\n",
    "# !gcloud auth login\n",
    "# !gcloud config set project bsos-geog-harvest1"
   ]
  },
  {
   "cell_type": "code",
   "execution_count": null,
   "id": "1676755f",
   "metadata": {},
   "outputs": [],
   "source": [
    "# Initialize connections to cloud storage and database\n",
    "client = storage.Client()\n",
    "db = firestore.Client()\n",
    "coll = db.collection(\"street2sat\")"
   ]
  },
  {
   "cell_type": "code",
   "execution_count": null,
   "id": "61aa9543",
   "metadata": {},
   "outputs": [],
   "source": [
    "# Get paths for images already in labelling tasks\n",
    "images_already_being_labelled = []\n",
    "csv_bucket = \"street2sat-gcloud-labeling\"\n",
    "csv_names = [blob.name for blob in client.list_blobs(csv_bucket, prefix=\"\") if blob.name.endswith(\".csv\")]\n",
    "\n",
    "for csv_name in tqdm(csv_names):\n",
    "    uris = pd.read_csv(f\"gs://{csv_bucket}/{csv_name}\", header=None, sep=\"\\n\")[0]\n",
    "    images_already_being_labelled += uris.to_list()"
   ]
  },
  {
   "cell_type": "code",
   "execution_count": null,
   "id": "76f59a84",
   "metadata": {},
   "outputs": [],
   "source": [
    "# Load in all available paths, this will take 3 minutes or so\n",
    "all_paths = [blob.name for blob in tqdm(client.list_blobs('street2sat-uploaded', prefix=\"\"))]  \n",
    "random.shuffle(all_paths)"
   ]
  },
  {
   "cell_type": "code",
   "execution_count": null,
   "id": "bce97958",
   "metadata": {},
   "outputs": [],
   "source": [
    "def amount_of_objects_detected(uri: str):\n",
    "    query = coll.where(\"input_img\", \"==\", uri).limit(1).get()\n",
    "    objects_detected = query[0].to_dict()[\"results\"]\n",
    "    return len(objects_detected)\n",
    "\n",
    "def get_paths_with_predicted_objects(amount: int, object_threshold: int = 5):\n",
    "    images_to_label = []\n",
    "    for i, p in enumerate(all_paths):\n",
    "        if len(images_to_label) >= amount:\n",
    "            break\n",
    "        uri = f\"gs://street2sat-uploaded/{p}\"\n",
    "        if uri in images_already_being_labelled:\n",
    "            continue\n",
    "        if amount_of_objects_detected(uri) > object_threshold:\n",
    "            images_to_label.append(uri)\n",
    "    return images_to_label"
   ]
  },
  {
   "cell_type": "code",
   "execution_count": null,
   "id": "42dbcf1b",
   "metadata": {},
   "outputs": [],
   "source": [
    "# Get random images to label with at least 5 objects predicted in each image\n",
    "images_to_label = get_paths_with_predicted_objects(100, object_threshold=5)"
   ]
  },
  {
   "cell_type": "code",
   "execution_count": null,
   "id": "bfda49eb",
   "metadata": {},
   "outputs": [],
   "source": [
    "csv_name = datetime.now().strftime(\"%Y-%m-%d_%H-%-M-%S\") + \".csv\"\n",
    "csv_name"
   ]
  },
  {
   "cell_type": "code",
   "execution_count": null,
   "id": "82176de6",
   "metadata": {},
   "outputs": [],
   "source": [
    "# Save image list to csv on Google Cloud Storage\n",
    "df = pd.DataFrame(images_to_label)\n",
    "df.to_csv(f\"gs://{csv_bucket}/{csv_name}\", sep=\"\\n\", index=False)"
   ]
  },
  {
   "attachments": {},
   "cell_type": "markdown",
   "id": "611b27e0",
   "metadata": {},
   "source": [
    "## 2. Creating a dataset on Vertex AI\n",
    "a. Navigate to: https://console.cloud.google.com/vertex-ai/datasets?project=bsos-geog-harvest1 \n",
    "\n",
    "b. Click **CREATE**\n",
    "\n",
    "c. For Dataset name: use the `Y-%m-%d_%H-%-M-%S` format (same as for csv)\n",
    "\n",
    "d. Select Image object detection radio button, your screen should look like this:\n",
    "\n",
    "![image.png](../assets/labeling-task/2d.png)\n",
    "\n",
    "e. Click **CREATE** at the bottom.\n",
    "\n",
    "f. Select the option to import files from Cloud Storage and locate the csv created above in the `street2sat-gcloud-labeling bucket`\n",
    "\n",
    "![image-2.png](../assets/labeling-task/2f.png)\n",
    "\n",
    "g. Click **Continue**"
   ]
  },
  {
   "attachments": {},
   "cell_type": "markdown",
   "id": "f6d2e54d",
   "metadata": {},
   "source": [
    "## 3. Creating a labeling task\n",
    "You can create a labeling task during or after dataset creation is complete.\n",
    "\n",
    "a. Click **CREATE LABELING TASK**\n",
    "\n",
    "b. For Labeling Task name: use the `%Y-%m-%d_%H-%-M-%S` format with a task suffix\n",
    "\n",
    "![image.png](../assets/labeling-task/3b.png)\n",
    "\n",
    "c. In step 2: input the labels as per [classes.txt](https://github.com/nasaharvest/street2sat_website/blob/main/street2sat_utils/crop_info/classes.txt)\n",
    "\n",
    "![image-2.png](../assets/labeling-task/3c.png)\n",
    "\n",
    "d. In step 3: select the instruction PDF available in `gs://street2sat-gcloud-labeling`. (This can be updated if necessary)\n",
    "\n",
    "![image-3.png](../assets/labeling-task/3d.png)\n",
    "\n",
    "e. In step 4: select the \"Street2sat Labelers\" group and add your email as a manager.\n",
    "\n",
    "![image-4.png](../assets/labeling-task/3e.png)\n",
    "\n",
    "f. After some time (maybe 15 minutes) you should receive an email from noreply-vertexai@google.com that looks like this:\n",
    "![image-6.png](../assets/labeling-task/3f.png)\n"
   ]
  },
  {
   "attachments": {},
   "cell_type": "markdown",
   "id": "1f16ab1b",
   "metadata": {},
   "source": [
    "## 4. Labeling Manager Console\n",
    "Using the second link the above email you can access the Manager console. \n",
    "- Tasks - shows the progress of the created Labeling task\n",
    "- Specialists - shows the list of available labelers (more can be added here)\n",
    "- Assignments - allows managing who is working on which task\n",
    "\n",
    "Tasks and Specialists are pretty intuitive, but to change Assignment you must:\n",
    "1. Populate the Specialists column with an existing specialist (labeler)\n",
    "2. Populate the Tasks column with a created task\n",
    "3. Make changes by checking or unchecking specialists\n",
    "4. Commit changes using the button on the top right\n",
    "\n",
    "![image.png](../assets/labeling-task/4.png)\n"
   ]
  },
  {
   "attachments": {},
   "cell_type": "markdown",
   "id": "12cfaeb8",
   "metadata": {},
   "source": [
    "# 5. Actual labeling\n",
    "Members of the Street2sat labelers group should receive an email like this upon assignment:\n",
    "![image.png](../assets/labeling-task/5.png)\n",
    "\n",
    "However these emails have not been consistent so a direct link from Step 3f email may need to be manually sent.\n",
    "\n",
    "Once the specialist clicks the link, they'll see the following page and will be ready to go:\n",
    "![image-2.png](../assets/labeling-task/5b.png)\n",
    "\n",
    "- Since this guide is for individuals creating labeling tasks, I'll leave details about actual labeling on Google Cloud to another slide/document."
   ]
  },
  {
   "attachments": {},
   "cell_type": "markdown",
   "id": "70c96207",
   "metadata": {},
   "source": [
    "## 6. Exporting the labels\n",
    "To export labels navigate to Vertex AI datasets, click the 3 dots on the desirable dataset and select Export dataset\n",
    "![image.png](../assets/labeling-task/6.png)\n",
    "\n",
    "Save the output file directly to the `street2sat-gcloud-labeling` bucket."
   ]
  },
  {
   "cell_type": "code",
   "execution_count": null,
   "id": "592fd8a5",
   "metadata": {},
   "outputs": [],
   "source": []
  }
 ],
 "metadata": {
  "kernelspec": {
   "display_name": "Python 3",
   "language": "python",
   "name": "python3"
  },
  "language_info": {
   "codemirror_mode": {
    "name": "ipython",
    "version": 3
   },
   "file_extension": ".py",
   "mimetype": "text/x-python",
   "name": "python",
   "nbconvert_exporter": "python",
   "pygments_lexer": "ipython3",
   "version": "3.7.0"
  }
 },
 "nbformat": 4,
 "nbformat_minor": 5
}

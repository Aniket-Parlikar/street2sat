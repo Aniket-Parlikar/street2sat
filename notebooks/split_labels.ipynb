{
 "cells": [
  {
   "cell_type": "markdown",
   "metadata": {},
   "source": [
    "## Analysis of the labels from Google Cloud"
   ]
  },
  {
   "cell_type": "code",
   "execution_count": 11,
   "metadata": {},
   "outputs": [],
   "source": [
    "from google.cloud import firestore\n",
    "from google.cloud import storage\n",
    "from tqdm import tqdm\n",
    "from pathlib import Path\n",
    "import json \n",
    "from geopy import distance\n",
    "from collections import Counter\n",
    "import geopandas\n",
    "import pandas as pd\n",
    "import numpy as np\n",
    "import contextily as cx\n",
    "from sklearn.model_selection import train_test_split\n",
    "from sklearn.cluster import KMeans\n",
    "import matplotlib.pyplot as plt\n",
    "# pd.set_option('display.max_columns', 500)\n",
    "# pd.set_option('display.width', 1000)\n",
    "pd.options.display.max_colwidth = 200\n",
    "from datetime import datetime\n",
    "from scipy.spatial import cKDTree\n",
    "import yaml\n",
    "import random\n",
    "# new library\n",
    "import reverse_geocoder as rg"
   ]
  },
  {
   "cell_type": "markdown",
   "metadata": {},
   "source": [
    "#### Initialize Connection to gcloud"
   ]
  },
  {
   "cell_type": "code",
   "execution_count": 2,
   "metadata": {},
   "outputs": [],
   "source": [
    "# Initialize connections to cloud storage and database\n",
    "client = storage.Client()\n",
    "db = firestore.Client()\n",
    "gcloud_labeling_bucket_str = 'street2sat-gcloud-labeling'\n",
    "coll = db.collection(\"street2sat\")"
   ]
  },
  {
   "cell_type": "markdown",
   "metadata": {},
   "source": [
    "#### Obtain all jsonl files"
   ]
  },
  {
   "cell_type": "code",
   "execution_count": 87,
   "metadata": {},
   "outputs": [
    {
     "name": "stdout",
     "output_type": "stream",
     "text": [
      "Found 5 jsonl files in the bucket.\n"
     ]
    }
   ],
   "source": [
    "jsonl_blobs = [file for file in client.list_blobs(gcloud_labeling_bucket_str) if file.name.endswith(\".jsonl\")]\n",
    "\n",
    "print(f\"Found {len(jsonl_blobs)} jsonl files in the bucket.\")"
   ]
  },
  {
   "cell_type": "markdown",
   "metadata": {},
   "source": [
    "Iterates through the jsonl files and creates two dataframes: one with all the images, and another with all the bounding boxes using the path as a foreign key to correspond to the image dataframe. "
   ]
  },
  {
   "cell_type": "code",
   "execution_count": 88,
   "metadata": {},
   "outputs": [
    {
     "name": "stderr",
     "output_type": "stream",
     "text": [
      "100%|██████████| 100/100 [00:02<00:00, 37.25it/s]\n",
      "100%|██████████| 100/100 [00:02<00:00, 43.09it/s]\n",
      "100%|██████████| 100/100 [00:02<00:00, 44.25it/s]\n",
      "100%|██████████| 100/100 [00:01<00:00, 51.29it/s]\n",
      "100%|██████████| 99/99 [00:02<00:00, 46.57it/s]\n"
     ]
    }
   ],
   "source": [
    "def get_image_and_bbox_df(blobs: list):\n",
    "    images = []\n",
    "    locations = []\n",
    "    bounding_boxes = []\n",
    "    for blob in blobs:\n",
    "        str_rep = blob.download_as_string()\n",
    "        for image_labels in tqdm(str_rep.splitlines()):\n",
    "            # contains all the bounding box info and image path\n",
    "            info_image = json.loads(image_labels)\n",
    "            image_path = info_image['imageGcsUri']\n",
    "            bounding_box_info = info_image['boundingBoxAnnotations']\n",
    "            for b in bounding_box_info: \n",
    "                b['path'] = image_path\n",
    "            # obtain image location from database and convert to tuple\n",
    "            query = coll.where(\"input_img\", \"==\", image_path).limit(1).get()\n",
    "            loc = query[0].to_dict()['coord']\n",
    "            loc = tuple(loc)\n",
    "            if (loc[0] == None or loc[1] == None):\n",
    "                # dont add image if no location is available \n",
    "                continue \n",
    "            locations.append(loc)\n",
    "            images.append(image_path)\n",
    "            bounding_boxes.extend(bounding_box_info)\n",
    "    results = rg.search(locations)\n",
    "    assert len(results) == len(images), \"Number of locations found is != to number of images.\"\n",
    "    df = pd.DataFrame(results)\n",
    "    df['path'] = images\n",
    "    df['lat'] = [coord[0] for coord in locations]\n",
    "    df['lon'] = [coord[1] for coord in locations]\n",
    "    df_bounding_boxes = pd.DataFrame(bounding_boxes)\n",
    "    return df, df_bounding_boxes\n",
    "\n",
    "image_info_df,bounding_box_df = get_image_and_bbox_df(jsonl_blobs)\n",
    "\n"
   ]
  },
  {
   "cell_type": "code",
   "execution_count": 89,
   "metadata": {},
   "outputs": [
    {
     "data": {
      "text/html": [
       "<div>\n",
       "<style scoped>\n",
       "    .dataframe tbody tr th:only-of-type {\n",
       "        vertical-align: middle;\n",
       "    }\n",
       "\n",
       "    .dataframe tbody tr th {\n",
       "        vertical-align: top;\n",
       "    }\n",
       "\n",
       "    .dataframe thead th {\n",
       "        text-align: right;\n",
       "    }\n",
       "</style>\n",
       "<table border=\"1\" class=\"dataframe\">\n",
       "  <thead>\n",
       "    <tr style=\"text-align: right;\">\n",
       "      <th></th>\n",
       "      <th>lat</th>\n",
       "      <th>lon</th>\n",
       "      <th>name</th>\n",
       "      <th>admin1</th>\n",
       "      <th>admin2</th>\n",
       "      <th>cc</th>\n",
       "      <th>path</th>\n",
       "    </tr>\n",
       "  </thead>\n",
       "  <tbody>\n",
       "    <tr>\n",
       "      <th>0</th>\n",
       "      <td>43.141348</td>\n",
       "      <td>-92.810015</td>\n",
       "      <td>Osage</td>\n",
       "      <td>Iowa</td>\n",
       "      <td>Mitchell County</td>\n",
       "      <td>US</td>\n",
       "      <td>gs://street2sat-uploaded/USA/2021-08-20-croptour/177GOPRO/G0394959.JPG</td>\n",
       "    </tr>\n",
       "    <tr>\n",
       "      <th>1</th>\n",
       "      <td>0.519084</td>\n",
       "      <td>32.636300</td>\n",
       "      <td>Bweyogerere</td>\n",
       "      <td>Central Region</td>\n",
       "      <td>Wakiso District</td>\n",
       "      <td>UG</td>\n",
       "      <td>gs://street2sat-uploaded/Uganda/2021-06-17_NACCRI-Catherine/stereo2/123GOPRO/G0181228.JPG</td>\n",
       "    </tr>\n",
       "    <tr>\n",
       "      <th>2</th>\n",
       "      <td>0.527763</td>\n",
       "      <td>32.623844</td>\n",
       "      <td>Bweyogerere</td>\n",
       "      <td>Central Region</td>\n",
       "      <td>Wakiso District</td>\n",
       "      <td>UG</td>\n",
       "      <td>gs://street2sat-uploaded/Uganda/2021-06-17_NACCRI-Kenan-Helmet/100GOPRO/G0017185.JPG</td>\n",
       "    </tr>\n",
       "    <tr>\n",
       "      <th>3</th>\n",
       "      <td>2.493243</td>\n",
       "      <td>31.875582</td>\n",
       "      <td>Nwoya</td>\n",
       "      <td>Northern Region</td>\n",
       "      <td>Nwoya District</td>\n",
       "      <td>UG</td>\n",
       "      <td>gs://street2sat-uploaded/Uganda/2021-06-29_Olwiyo_Hannah_left/2021-06-29_Olwiyo_Hannah_left/101GOPRO/G0018044.JPG</td>\n",
       "    </tr>\n",
       "    <tr>\n",
       "      <th>4</th>\n",
       "      <td>2.546518</td>\n",
       "      <td>31.897053</td>\n",
       "      <td>Nwoya</td>\n",
       "      <td>Northern Region</td>\n",
       "      <td>Nwoya District</td>\n",
       "      <td>UG</td>\n",
       "      <td>gs://street2sat-uploaded/Uganda/2021-06-29_Olwiyo_Catherine_left/2021-06-29_Olwiyo_Catherine_left/115GOPRO/GPAN0098.JPG</td>\n",
       "    </tr>\n",
       "  </tbody>\n",
       "</table>\n",
       "</div>"
      ],
      "text/plain": [
       "         lat        lon         name           admin1           admin2  cc  \\\n",
       "0  43.141348 -92.810015        Osage             Iowa  Mitchell County  US   \n",
       "1   0.519084  32.636300  Bweyogerere   Central Region  Wakiso District  UG   \n",
       "2   0.527763  32.623844  Bweyogerere   Central Region  Wakiso District  UG   \n",
       "3   2.493243  31.875582        Nwoya  Northern Region   Nwoya District  UG   \n",
       "4   2.546518  31.897053        Nwoya  Northern Region   Nwoya District  UG   \n",
       "\n",
       "                                                                                                                      path  \n",
       "0                                                   gs://street2sat-uploaded/USA/2021-08-20-croptour/177GOPRO/G0394959.JPG  \n",
       "1                                gs://street2sat-uploaded/Uganda/2021-06-17_NACCRI-Catherine/stereo2/123GOPRO/G0181228.JPG  \n",
       "2                                     gs://street2sat-uploaded/Uganda/2021-06-17_NACCRI-Kenan-Helmet/100GOPRO/G0017185.JPG  \n",
       "3        gs://street2sat-uploaded/Uganda/2021-06-29_Olwiyo_Hannah_left/2021-06-29_Olwiyo_Hannah_left/101GOPRO/G0018044.JPG  \n",
       "4  gs://street2sat-uploaded/Uganda/2021-06-29_Olwiyo_Catherine_left/2021-06-29_Olwiyo_Catherine_left/115GOPRO/GPAN0098.JPG  "
      ]
     },
     "execution_count": 89,
     "metadata": {},
     "output_type": "execute_result"
    }
   ],
   "source": [
    "image_info_df.head()"
   ]
  },
  {
   "cell_type": "code",
   "execution_count": 90,
   "metadata": {},
   "outputs": [
    {
     "data": {
      "text/html": [
       "<div>\n",
       "<style scoped>\n",
       "    .dataframe tbody tr th:only-of-type {\n",
       "        vertical-align: middle;\n",
       "    }\n",
       "\n",
       "    .dataframe tbody tr th {\n",
       "        vertical-align: top;\n",
       "    }\n",
       "\n",
       "    .dataframe thead th {\n",
       "        text-align: right;\n",
       "    }\n",
       "</style>\n",
       "<table border=\"1\" class=\"dataframe\">\n",
       "  <thead>\n",
       "    <tr style=\"text-align: right;\">\n",
       "      <th></th>\n",
       "      <th>displayName</th>\n",
       "      <th>xMin</th>\n",
       "      <th>xMax</th>\n",
       "      <th>yMin</th>\n",
       "      <th>yMax</th>\n",
       "      <th>annotationResourceLabels</th>\n",
       "      <th>path</th>\n",
       "    </tr>\n",
       "  </thead>\n",
       "  <tbody>\n",
       "    <tr>\n",
       "      <th>0</th>\n",
       "      <td>maize</td>\n",
       "      <td>0.305601</td>\n",
       "      <td>0.399506</td>\n",
       "      <td>0.372119</td>\n",
       "      <td>0.809001</td>\n",
       "      <td>{'aiplatform.googleapis.com/annotation_set_name': '7482370141062168576'}</td>\n",
       "      <td>gs://street2sat-uploaded/Uganda/2021-06-17_NACCRI-Catherine/stereo2/123GOPRO/G0181228.JPG</td>\n",
       "    </tr>\n",
       "    <tr>\n",
       "      <th>1</th>\n",
       "      <td>maize</td>\n",
       "      <td>0.456343</td>\n",
       "      <td>0.565074</td>\n",
       "      <td>0.339188</td>\n",
       "      <td>0.788145</td>\n",
       "      <td>{'aiplatform.googleapis.com/annotation_set_name': '7482370141062168576'}</td>\n",
       "      <td>gs://street2sat-uploaded/Uganda/2021-06-17_NACCRI-Catherine/stereo2/123GOPRO/G0181228.JPG</td>\n",
       "    </tr>\n",
       "    <tr>\n",
       "      <th>2</th>\n",
       "      <td>maize</td>\n",
       "      <td>0.789951</td>\n",
       "      <td>0.900329</td>\n",
       "      <td>0.358946</td>\n",
       "      <td>0.989023</td>\n",
       "      <td>{'aiplatform.googleapis.com/annotation_set_name': '7482370141062168576'}</td>\n",
       "      <td>gs://street2sat-uploaded/Uganda/2021-06-17_NACCRI-Catherine/stereo2/123GOPRO/G0181228.JPG</td>\n",
       "    </tr>\n",
       "    <tr>\n",
       "      <th>3</th>\n",
       "      <td>maize</td>\n",
       "      <td>0.906919</td>\n",
       "      <td>0.986820</td>\n",
       "      <td>0.431394</td>\n",
       "      <td>0.727772</td>\n",
       "      <td>{'aiplatform.googleapis.com/annotation_set_name': '7482370141062168576'}</td>\n",
       "      <td>gs://street2sat-uploaded/Uganda/2021-06-17_NACCRI-Catherine/stereo2/123GOPRO/G0181228.JPG</td>\n",
       "    </tr>\n",
       "    <tr>\n",
       "      <th>4</th>\n",
       "      <td>maize</td>\n",
       "      <td>0.098847</td>\n",
       "      <td>0.194399</td>\n",
       "      <td>0.345774</td>\n",
       "      <td>0.818880</td>\n",
       "      <td>{'aiplatform.googleapis.com/annotation_set_name': '7482370141062168576'}</td>\n",
       "      <td>gs://street2sat-uploaded/Uganda/2021-06-17_NACCRI-Catherine/stereo2/123GOPRO/G0181228.JPG</td>\n",
       "    </tr>\n",
       "  </tbody>\n",
       "</table>\n",
       "</div>"
      ],
      "text/plain": [
       "  displayName      xMin      xMax      yMin      yMax  \\\n",
       "0       maize  0.305601  0.399506  0.372119  0.809001   \n",
       "1       maize  0.456343  0.565074  0.339188  0.788145   \n",
       "2       maize  0.789951  0.900329  0.358946  0.989023   \n",
       "3       maize  0.906919  0.986820  0.431394  0.727772   \n",
       "4       maize  0.098847  0.194399  0.345774  0.818880   \n",
       "\n",
       "                                                   annotationResourceLabels  \\\n",
       "0  {'aiplatform.googleapis.com/annotation_set_name': '7482370141062168576'}   \n",
       "1  {'aiplatform.googleapis.com/annotation_set_name': '7482370141062168576'}   \n",
       "2  {'aiplatform.googleapis.com/annotation_set_name': '7482370141062168576'}   \n",
       "3  {'aiplatform.googleapis.com/annotation_set_name': '7482370141062168576'}   \n",
       "4  {'aiplatform.googleapis.com/annotation_set_name': '7482370141062168576'}   \n",
       "\n",
       "                                                                                        path  \n",
       "0  gs://street2sat-uploaded/Uganda/2021-06-17_NACCRI-Catherine/stereo2/123GOPRO/G0181228.JPG  \n",
       "1  gs://street2sat-uploaded/Uganda/2021-06-17_NACCRI-Catherine/stereo2/123GOPRO/G0181228.JPG  \n",
       "2  gs://street2sat-uploaded/Uganda/2021-06-17_NACCRI-Catherine/stereo2/123GOPRO/G0181228.JPG  \n",
       "3  gs://street2sat-uploaded/Uganda/2021-06-17_NACCRI-Catherine/stereo2/123GOPRO/G0181228.JPG  \n",
       "4  gs://street2sat-uploaded/Uganda/2021-06-17_NACCRI-Catherine/stereo2/123GOPRO/G0181228.JPG  "
      ]
     },
     "execution_count": 90,
     "metadata": {},
     "output_type": "execute_result"
    }
   ],
   "source": [
    "bounding_box_df.head()"
   ]
  },
  {
   "cell_type": "code",
   "execution_count": 91,
   "metadata": {},
   "outputs": [
    {
     "name": "stdout",
     "output_type": "stream",
     "text": [
      "UG    264\n",
      "KE    119\n",
      "US     93\n",
      "Name: cc, dtype: int64\n"
     ]
    }
   ],
   "source": [
    "vc = image_info_df['cc'].value_counts()\n",
    "countries = vc.keys()\n",
    "print(vc)"
   ]
  },
  {
   "cell_type": "markdown",
   "metadata": {},
   "source": [
    "Splits the data by each country randomly. "
   ]
  },
  {
   "cell_type": "code",
   "execution_count": 116,
   "metadata": {},
   "outputs": [],
   "source": [
    "train_set = pd.DataFrame()\n",
    "val_set = pd.DataFrame()\n",
    "for country in countries:\n",
    "    train, test = train_test_split(image_info_df[image_info_df['cc'] == country], test_size=0.2, shuffle = True)\n",
    "    train_set = train_set.append(train)\n",
    "    val_set = val_set.append(test)\n",
    "\n",
    "train_set = train_set.sample(frac = 1)\n",
    "val_set = val_set.sample(frac = 1)"
   ]
  },
  {
   "cell_type": "markdown",
   "metadata": {},
   "source": [
    " If there are points in the validation set that are close to any in the train set, then put them both in the train set"
   ]
  },
  {
   "cell_type": "code",
   "execution_count": 113,
   "metadata": {},
   "outputs": [],
   "source": [
    "'Returns distance and name of each neighbor in gdB from each point in gdA using a kd tree'\n",
    "def ckdnearest(gdA, gdB):\n",
    "    \n",
    "    nA = np.array(list(gdA.geometry.apply(lambda x: (x.x, x.y))))\n",
    "    nB = np.array(list(gdB.geometry.apply(lambda x: (x.x, x.y))))\n",
    "    btree = cKDTree(nB)\n",
    "    dist, idx = btree.query(nA, k=1)\n",
    "    gdB_nearest = gdB.iloc[idx].drop(columns=\"geometry\").reset_index(drop=True)\n",
    "    gdf = pd.concat(\n",
    "        [\n",
    "            gdA.reset_index(drop=True),\n",
    "            gdB_nearest,\n",
    "            pd.Series(dist, name='dist')\n",
    "        ], \n",
    "        axis=1)\n",
    "\n",
    "    return gdf\n",
    "\n",
    "\n",
    "'filters on closeby points and returns the new datasets'\n",
    "random.seed(10)\n",
    "def filter_closeby_points(train_set, val_set): \n",
    "\n",
    "    train_set_g = geopandas.GeoDataFrame(train_set.copy(), geometry=geopandas.points_from_xy(train_set.lon, train_set.lat, crs='EPSG:4326'))\n",
    "    val_set_g = geopandas.GeoDataFrame(val_set.copy(), geometry=geopandas.points_from_xy(val_set.lon, val_set.lat, crs='EPSG:4326'))\n",
    "\n",
    "    val_set_g.rename(columns = {'path':'val_path'}, inplace = True)\n",
    "    train_set_g.rename(columns = {'path':'train_path'}, inplace = True)\n",
    "\n",
    "\n",
    "    res = ckdnearest(val_set_g, train_set_g)\n",
    "\n",
    "\n",
    "    print('Found {} closeby points.'.format(len(res[res['dist'] < .001])))\n",
    "\n",
    "    # add images that are too close to each other to the same set randomly\n",
    "    old_val_len = len(val_set)\n",
    "    old_train_len = len(train_set)\n",
    "\n",
    "    for i,r in res[res['dist'] < .001].iterrows():\n",
    "        val_row = val_set[val_set['path'] == r['val_path']]\n",
    "        train_row = train_set[train_set['path'] == r['train_path']]\n",
    "        \n",
    "        which = random.choice(['train', 'val'])\n",
    "        if which == 'train':\n",
    "            val_set = val_set.drop(val_row.index)\n",
    "            train_set = pd.concat([train_set, val_row])\n",
    "        elif which == 'val':\n",
    "            train_set = train_set.drop(train_row.index)\n",
    "            val_set = pd.concat([val_set, train_row])\n",
    "        \n",
    "        assert old_train_len - len(train_set) == len(val_set) - old_val_len, 'lengths are incorrect'\n",
    "\n",
    "    \n",
    "    \n",
    "\n",
    "    return train_set, val_set, len(res[res['dist'] < .001])\n"
   ]
  },
  {
   "cell_type": "markdown",
   "metadata": {},
   "source": [
    "Run until 0 closeby points are found. "
   ]
  },
  {
   "cell_type": "code",
   "execution_count": 118,
   "metadata": {},
   "outputs": [
    {
     "name": "stdout",
     "output_type": "stream",
     "text": [
      "Found 8 closeby points.\n",
      "Found 2 closeby points.\n",
      "Found 2 closeby points.\n",
      "Found 2 closeby points.\n",
      "Found 4 closeby points.\n",
      "Found 4 closeby points.\n",
      "Found 4 closeby points.\n",
      "Found 3 closeby points.\n",
      "Found 0 closeby points.\n"
     ]
    }
   ],
   "source": [
    "closeby = -1\n",
    "while closeby != 0:\n",
    "    train_set, val_set, closeby = filter_closeby_points(train_set, val_set)\n",
    "\n",
    "\n"
   ]
  },
  {
   "cell_type": "code",
   "execution_count": 119,
   "metadata": {},
   "outputs": [
    {
     "data": {
      "text/html": [
       "<div>\n",
       "<style scoped>\n",
       "    .dataframe tbody tr th:only-of-type {\n",
       "        vertical-align: middle;\n",
       "    }\n",
       "\n",
       "    .dataframe tbody tr th {\n",
       "        vertical-align: top;\n",
       "    }\n",
       "\n",
       "    .dataframe thead th {\n",
       "        text-align: right;\n",
       "    }\n",
       "</style>\n",
       "<table border=\"1\" class=\"dataframe\">\n",
       "  <thead>\n",
       "    <tr style=\"text-align: right;\">\n",
       "      <th></th>\n",
       "      <th>lat</th>\n",
       "      <th>lon</th>\n",
       "      <th>name</th>\n",
       "      <th>admin1</th>\n",
       "      <th>admin2</th>\n",
       "      <th>cc</th>\n",
       "      <th>path</th>\n",
       "    </tr>\n",
       "  </thead>\n",
       "  <tbody>\n",
       "    <tr>\n",
       "      <th>16</th>\n",
       "      <td>2.565602</td>\n",
       "      <td>31.909522</td>\n",
       "      <td>Nwoya</td>\n",
       "      <td>Northern Region</td>\n",
       "      <td>Nwoya District</td>\n",
       "      <td>UG</td>\n",
       "      <td>gs://street2sat-uploaded/Uganda/2021-06-29_Olwiyo_Catherine_left/113GOPRO/GPAM9776.JPG</td>\n",
       "    </tr>\n",
       "    <tr>\n",
       "      <th>154</th>\n",
       "      <td>-0.314295</td>\n",
       "      <td>34.333900</td>\n",
       "      <td>Homa Bay</td>\n",
       "      <td>Homa Bay</td>\n",
       "      <td></td>\n",
       "      <td>KE</td>\n",
       "      <td>gs://street2sat-uploaded/KENYA/2021_07_21_T2/104GOPRO/GPEM4976.JPG</td>\n",
       "    </tr>\n",
       "    <tr>\n",
       "      <th>211</th>\n",
       "      <td>-1.096648</td>\n",
       "      <td>35.927507</td>\n",
       "      <td>Narok</td>\n",
       "      <td>Narok</td>\n",
       "      <td></td>\n",
       "      <td>KE</td>\n",
       "      <td>gs://street2sat-uploaded/KENYA/2021-08-04-T1/GPAS9205.JPG</td>\n",
       "    </tr>\n",
       "    <tr>\n",
       "      <th>207</th>\n",
       "      <td>0.043933</td>\n",
       "      <td>34.685936</td>\n",
       "      <td>Yala</td>\n",
       "      <td>Siaya</td>\n",
       "      <td></td>\n",
       "      <td>KE</td>\n",
       "      <td>gs://street2sat-uploaded/KENYA/2021_07_17_T2/103GOPRO/GPES7872.JPG</td>\n",
       "    </tr>\n",
       "    <tr>\n",
       "      <th>276</th>\n",
       "      <td>0.311213</td>\n",
       "      <td>30.195515</td>\n",
       "      <td>Kasese</td>\n",
       "      <td>Western Region</td>\n",
       "      <td>Kasese District</td>\n",
       "      <td>UG</td>\n",
       "      <td>gs://street2sat-uploaded/Uganda/2021-06-24_Kasese_Catherine_left/109GOPRO/G0034366.JPG</td>\n",
       "    </tr>\n",
       "    <tr>\n",
       "      <th>...</th>\n",
       "      <td>...</td>\n",
       "      <td>...</td>\n",
       "      <td>...</td>\n",
       "      <td>...</td>\n",
       "      <td>...</td>\n",
       "      <td>...</td>\n",
       "      <td>...</td>\n",
       "    </tr>\n",
       "    <tr>\n",
       "      <th>182</th>\n",
       "      <td>41.117705</td>\n",
       "      <td>-84.495900</td>\n",
       "      <td>Paulding</td>\n",
       "      <td>Ohio</td>\n",
       "      <td>Paulding County</td>\n",
       "      <td>US</td>\n",
       "      <td>gs://street2sat-uploaded/USA/2021-08-20-croptour/102GOPRO/G0015832.JPG</td>\n",
       "    </tr>\n",
       "    <tr>\n",
       "      <th>188</th>\n",
       "      <td>41.117720</td>\n",
       "      <td>-84.495874</td>\n",
       "      <td>Paulding</td>\n",
       "      <td>Ohio</td>\n",
       "      <td>Paulding County</td>\n",
       "      <td>US</td>\n",
       "      <td>gs://street2sat-uploaded/USA/2021-08-20-croptour/102GOPRO/G0016076.JPG</td>\n",
       "    </tr>\n",
       "    <tr>\n",
       "      <th>371</th>\n",
       "      <td>41.117732</td>\n",
       "      <td>-84.495898</td>\n",
       "      <td>Paulding</td>\n",
       "      <td>Ohio</td>\n",
       "      <td>Paulding County</td>\n",
       "      <td>US</td>\n",
       "      <td>gs://street2sat-uploaded/USA/2021-08-20-croptour/102GOPRO/G0015576.JPG</td>\n",
       "    </tr>\n",
       "    <tr>\n",
       "      <th>208</th>\n",
       "      <td>41.117697</td>\n",
       "      <td>-84.495927</td>\n",
       "      <td>Paulding</td>\n",
       "      <td>Ohio</td>\n",
       "      <td>Paulding County</td>\n",
       "      <td>US</td>\n",
       "      <td>gs://street2sat-uploaded/USA/2021-08-20-croptour/103GOPRO/G0016913.JPG</td>\n",
       "    </tr>\n",
       "    <tr>\n",
       "      <th>166</th>\n",
       "      <td>41.117702</td>\n",
       "      <td>-84.495900</td>\n",
       "      <td>Paulding</td>\n",
       "      <td>Ohio</td>\n",
       "      <td>Paulding County</td>\n",
       "      <td>US</td>\n",
       "      <td>gs://street2sat-uploaded/USA/2021-08-20-croptour/102GOPRO/G0015804.JPG</td>\n",
       "    </tr>\n",
       "  </tbody>\n",
       "</table>\n",
       "<p>383 rows × 7 columns</p>\n",
       "</div>"
      ],
      "text/plain": [
       "           lat        lon      name           admin1           admin2  cc  \\\n",
       "16    2.565602  31.909522     Nwoya  Northern Region   Nwoya District  UG   \n",
       "154  -0.314295  34.333900  Homa Bay         Homa Bay                   KE   \n",
       "211  -1.096648  35.927507     Narok            Narok                   KE   \n",
       "207   0.043933  34.685936      Yala            Siaya                   KE   \n",
       "276   0.311213  30.195515    Kasese   Western Region  Kasese District  UG   \n",
       "..         ...        ...       ...              ...              ...  ..   \n",
       "182  41.117705 -84.495900  Paulding             Ohio  Paulding County  US   \n",
       "188  41.117720 -84.495874  Paulding             Ohio  Paulding County  US   \n",
       "371  41.117732 -84.495898  Paulding             Ohio  Paulding County  US   \n",
       "208  41.117697 -84.495927  Paulding             Ohio  Paulding County  US   \n",
       "166  41.117702 -84.495900  Paulding             Ohio  Paulding County  US   \n",
       "\n",
       "                                                                                       path  \n",
       "16   gs://street2sat-uploaded/Uganda/2021-06-29_Olwiyo_Catherine_left/113GOPRO/GPAM9776.JPG  \n",
       "154                      gs://street2sat-uploaded/KENYA/2021_07_21_T2/104GOPRO/GPEM4976.JPG  \n",
       "211                               gs://street2sat-uploaded/KENYA/2021-08-04-T1/GPAS9205.JPG  \n",
       "207                      gs://street2sat-uploaded/KENYA/2021_07_17_T2/103GOPRO/GPES7872.JPG  \n",
       "276  gs://street2sat-uploaded/Uganda/2021-06-24_Kasese_Catherine_left/109GOPRO/G0034366.JPG  \n",
       "..                                                                                      ...  \n",
       "182                  gs://street2sat-uploaded/USA/2021-08-20-croptour/102GOPRO/G0015832.JPG  \n",
       "188                  gs://street2sat-uploaded/USA/2021-08-20-croptour/102GOPRO/G0016076.JPG  \n",
       "371                  gs://street2sat-uploaded/USA/2021-08-20-croptour/102GOPRO/G0015576.JPG  \n",
       "208                  gs://street2sat-uploaded/USA/2021-08-20-croptour/103GOPRO/G0016913.JPG  \n",
       "166                  gs://street2sat-uploaded/USA/2021-08-20-croptour/102GOPRO/G0015804.JPG  \n",
       "\n",
       "[383 rows x 7 columns]"
      ]
     },
     "execution_count": 119,
     "metadata": {},
     "output_type": "execute_result"
    }
   ],
   "source": [
    "train_set"
   ]
  },
  {
   "cell_type": "markdown",
   "metadata": {},
   "source": [
    "Helper function to visualize and analyze labels"
   ]
  },
  {
   "cell_type": "code",
   "execution_count": 120,
   "metadata": {},
   "outputs": [],
   "source": [
    "def visualize_labels(labels_df, bb_dataframe):\n",
    "    comb_df = pd.merge(labels_df, bb_dataframe, how = 'inner', on = 'path')\n",
    "    print('{} images found.'.format(len(labels_df)))\n",
    "    print('{} labels found.'.format(len(comb_df)))\n",
    "    print(comb_df['displayName'].value_counts())\n",
    "\n",
    "    gdf = geopandas.GeoDataFrame(comb_df, geometry=geopandas.points_from_xy(comb_df.lon, comb_df.lat, crs='EPSG:4326'))\n",
    "    \n",
    "    ax = gdf.to_crs('EPSG:3857').plot(\n",
    "        figsize=(10, 30), \n",
    "        marker='o', \n",
    "        column='displayName', \n",
    "        categorical=True,\n",
    "        markersize=15,\n",
    "        cmap = 'tab10',\n",
    "        legend=True\n",
    "    )\n",
    "    ax.set_title(\"Label Locations\")\n",
    "    return cx.add_basemap(ax, source = cx.providers.OpenStreetMap.Mapnik)\n",
    "\n",
    "    \n",
    "\n",
    "# visualize_labels(train_set)\n"
   ]
  },
  {
   "cell_type": "markdown",
   "metadata": {},
   "source": [
    "### Visualize labels\n",
    "The labels can be visualized by using the helper function above. Either the train_set or val_set can be filtered by country. Use the cc parameter as shown below and use 'KE' for Kenya, 'UG' for Uganda, or 'US' for USA. "
   ]
  },
  {
   "cell_type": "code",
   "execution_count": 121,
   "metadata": {},
   "outputs": [
    {
     "name": "stdout",
     "output_type": "stream",
     "text": [
      "383 images found.\n",
      "804 labels found.\n",
      "maize        640\n",
      "banana        83\n",
      "sugarcane     29\n",
      "soybean       27\n",
      "cassava       10\n",
      "millet         7\n",
      "coffee         5\n",
      "rice           3\n",
      "Name: displayName, dtype: int64\n"
     ]
    },
    {
     "data": {
      "image/png": "[encoded data removed]",
      "text/plain": [
       "<Figure size 720x2160 with 1 Axes>"
      ]
     },
     "metadata": {
      "needs_background": "light"
     },
     "output_type": "display_data"
    }
   ],
   "source": [
    "# visualize_labels(train_set[train_set['cc'] == 'UG'], bounding_box_df)\n",
    "visualize_labels(train_set, bounding_box_df)"
   ]
  },
  {
   "cell_type": "code",
   "execution_count": 122,
   "metadata": {},
   "outputs": [
    {
     "data": {
      "text/plain": [
       "{'tobacco': 0,\n",
       " 'coffee': 1,\n",
       " 'banana': 2,\n",
       " 'tea': 3,\n",
       " 'beans': 4,\n",
       " 'maize': 5,\n",
       " 'sorghum': 6,\n",
       " 'millet': 7,\n",
       " 'sweet_potatoes': 8,\n",
       " 'cassava': 9,\n",
       " 'rice': 10,\n",
       " 'sugarcane': 11,\n",
       " 'soybean': 12}"
      ]
     },
     "execution_count": 122,
     "metadata": {},
     "output_type": "execute_result"
    }
   ],
   "source": [
    "classes_dict = {}\n",
    "with open('../street2sat_utils/crop_info/classes.txt') as classes_file: \n",
    "    for i, line in enumerate(classes_file):\n",
    "        classes_dict[line.strip()] = i\n",
    "classes_dict"
   ]
  },
  {
   "cell_type": "code",
   "execution_count": 123,
   "metadata": {},
   "outputs": [
    {
     "name": "stdout",
     "output_type": "stream",
     "text": [
      "DATASET_2022-04-20_01:57:40_105742\n"
     ]
    }
   ],
   "source": [
    "gcloud_labeling_bucket = client.get_bucket(gcloud_labeling_bucket_str)\n",
    "folder = 'DATASET_' + str(datetime.now()).replace(' ', '_').replace('.', '_')\n",
    "uploaded_bucket = client.get_bucket('street2sat-uploaded')\n",
    "print(folder)"
   ]
  },
  {
   "cell_type": "code",
   "execution_count": null,
   "metadata": {},
   "outputs": [],
   "source": [
    "def convert_to_yolo(xmin, ymin, xmax, ymax):\n",
    "    xcenter = (xmax + xmin) / 2 \n",
    "    ycenter = (ymax + ymin) / 2\n",
    "\n",
    "    width = xmax - xmin \n",
    "    height = ymax - ymin \n",
    "\n",
    "    return xcenter, ycenter, width, height \n",
    "\n",
    "\n",
    "def convert_to_txt(df_for_image, name_to_class, path):\n",
    "    boxes = ''\n",
    "    for i,row in df_for_image.iterrows():\n",
    "        xcenter, ycenter, width, height = convert_to_yolo(row['xMin'], row['yMin'], row['xMax'], row['yMax'])\n",
    "        obj_class = name_to_class[row['displayName']]\n",
    "        boxes += f'{obj_class} {xcenter} {ycenter} {width} {height}\\n'\n",
    "    blob = gcloud_labeling_bucket.blob(path)\n",
    "    blob.upload_from_string(boxes)\n",
    "\n",
    "    "
   ]
  },
  {
   "cell_type": "code",
   "execution_count": null,
   "metadata": {},
   "outputs": [],
   "source": [
    "train_path = folder + '/train/labels/'\n",
    "for i,image in tqdm(train_set.iterrows(), total = train_set.shape[0]): \n",
    "    annotations = bounding_box_df[bounding_box_df['path'] == image['path']]\n",
    "    txt_path = train_path + image['path'].split('.')[0].replace('/', '*$') + '.txt'\n",
    "    convert_to_txt(annotations, classes_dict, txt_path)\n",
    "    "
   ]
  },
  {
   "cell_type": "code",
   "execution_count": null,
   "metadata": {},
   "outputs": [],
   "source": [
    "val_path = folder + '/val/labels/'\n",
    "for i,image in tqdm(val_set.iterrows(), total = val_set.shape[0]): \n",
    "    annotations = bounding_box_df[bounding_box_df['path'] == image['path']]\n",
    "    txt_path = val_path + image['path'].split('.')[0].replace('/', '*$') + '.txt'\n",
    "    convert_to_txt(annotations, classes_dict, txt_path)"
   ]
  },
  {
   "cell_type": "code",
   "execution_count": null,
   "metadata": {},
   "outputs": [],
   "source": [
    "train_image_path = folder + '/train/images/'\n",
    "for i,image in tqdm(train_set.iterrows(), total = train_set.shape[0]):\n",
    "    old_path = image['path'].split('street2sat-uploaded/')[1]\n",
    "    old_blob = uploaded_bucket.blob(old_path)\n",
    "    new_path = train_image_path + image['path'].split('.')[0].replace('/', '*$') + '.JPG'\n",
    "    new_blob = uploaded_bucket.copy_blob(old_blob, gcloud_labeling_bucket, new_path)\n",
    " "
   ]
  },
  {
   "cell_type": "code",
   "execution_count": null,
   "metadata": {},
   "outputs": [],
   "source": [
    "val_image_path = folder + '/val/images/'\n",
    "for i,image in tqdm(val_set.iterrows(), total = val_set.shape[0]):\n",
    "    old_path = image['path'].split('street2sat-uploaded/')[1]\n",
    "    old_blob = uploaded_bucket.blob(old_path)\n",
    "    new_path = val_image_path + image['path'].split('.')[0].replace('/', '*$') + '.JPG'\n",
    "    new_blob = uploaded_bucket.copy_blob(old_blob, gcloud_labeling_bucket, new_path)"
   ]
  },
  {
   "cell_type": "markdown",
   "metadata": {},
   "source": [
    "#### Create training yaml file"
   ]
  },
  {
   "cell_type": "code",
   "execution_count": null,
   "metadata": {},
   "outputs": [],
   "source": [
    "path = f'/gpfs/data1/cmongp1/mpaliyam/street2sat/data/{folder}'\n",
    "training_yaml = f'train: {path}/train/images/\\n' + \\\n",
    "    f'val: {path}/val/images\\n' + \\\n",
    "    f'nc: {len(classes_dict)}\\n' + \\\n",
    "    f'names: {list(classes_dict.keys())}'\n",
    "\n",
    "blob = gcloud_labeling_bucket.blob(folder + '/data_info.yaml')\n",
    "blob.upload_from_string(training_yaml, content_type = 'application/x-yaml')\n",
    "\n",
    "print(training_yaml)\n",
    "print('Uploaded to Bucket, double check to verify.')\n",
    "\n"
   ]
  },
  {
   "cell_type": "markdown",
   "metadata": {},
   "source": [
    "If gsutil is alrady installed activate is using: \n",
    "\n",
    "```module load```\n",
    "\n",
    "if not, SSH into instance or cluster and install gsutil using the link below: \n",
    "\n",
    "https://cloud.google.com/storage/docs/gsutil_install#linux\n",
    "\n",
    "\n",
    "gsutil cp the dataset into the directory: \n",
    "\n",
    "Example: (Replace the actual dataset name with the folder variable from above)\n",
    "\n",
    "```gsutil cp -r gs://street2sat-gcloud-labeling/DATASET_2022-02-02_12:01:20_954024/ .```\n",
    "\n",
    "Follow directions here to train: \n",
    "https://github.com/ultralytics/yolov5/wiki/Train-Custom-Data\n",
    "\n",
    "Example: \n",
    "\n",
    "```python train.py --img 800 --batch 8 --epochs 100 --data ../data/DATASET_2022-02-02_12\\:01\\:20_954024/data_info.yaml --weights yolov5s.pt --multi-scale```"
   ]
  },
  {
   "cell_type": "markdown",
   "metadata": {},
   "source": []
  }
 ],
 "metadata": {
  "interpreter": {
   "hash": "ccb4f65893dbe9d47c1a1e54317e30f4b499f75baf2387fb1cbae57a9c9ffda6"
  },
  "kernelspec": {
   "display_name": "Python 3.9.4 64-bit ('lacuna': conda)",
   "language": "python",
   "name": "python3"
  },
  "language_info": {
   "codemirror_mode": {
    "name": "ipython",
    "version": 3
   },
   "file_extension": ".py",
   "mimetype": "text/x-python",
   "name": "python",
   "nbconvert_exporter": "python",
   "pygments_lexer": "ipython3",
   "version": "3.7.11"
  },
  "orig_nbformat": 4
 },
 "nbformat": 4,
 "nbformat_minor": 2
}

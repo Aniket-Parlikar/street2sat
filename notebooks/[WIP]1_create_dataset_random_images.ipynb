{
 "cells": [
  {
   "cell_type": "markdown",
   "id": "6d0c03ff",
   "metadata": {},
   "source": [
    "# Setting up a labeling task for Street2Sat\n",
    "This notebook provides code and necessary instructions for creating a street2sat labeling task from scratch"
   ]
  },
  {
   "cell_type": "markdown",
   "id": "19914c68",
   "metadata": {},
   "source": [
    "## 1. Generating list of random images to label"
   ]
  },
  {
   "cell_type": "markdown",
   "id": "56f3ae3d",
   "metadata": {},
   "source": [
    "#### 1a. Connect to Gcloud and get all image paths"
   ]
  },
  {
   "cell_type": "code",
   "execution_count": 1,
   "id": "f9860b4c",
   "metadata": {},
   "outputs": [],
   "source": [
    "from datetime import datetime\n",
    "from pathlib import Path\n",
    "from google.cloud import aiplatform, firestore, storage\n",
    "from tqdm.notebook import tqdm\n",
    "\n",
    "import collections\n",
    "import pandas as pd\n",
    "import random"
   ]
  },
  {
   "cell_type": "code",
   "execution_count": 2,
   "id": "5bb27283",
   "metadata": {},
   "outputs": [],
   "source": [
    "# You may need to run the below commands to authenticate GCloud and set the correct project\n",
    "# !gcloud auth login\n",
    "# !gcloud config set project bsos-geog-harvest1"
   ]
  },
  {
   "cell_type": "code",
   "execution_count": 5,
   "id": "1676755f",
   "metadata": {},
   "outputs": [],
   "source": [
    "# Initialize connections to cloud storage and database\n",
    "client = storage.Client()\n",
    "db = firestore.Client()\n",
    "coll = db.collection(\"street2sat\")\n",
    "csv_bucket = \"street2sat-gcloud-labeling\""
   ]
  },
  {
   "cell_type": "code",
   "execution_count": 4,
   "id": "76f59a84",
   "metadata": {},
   "outputs": [
    {
     "data": {
      "application/vnd.jupyter.widget-view+json": {
       "model_id": "988114f20ab741a08f8a158d0cf377a7",
       "version_major": 2,
       "version_minor": 0
      },
      "text/plain": [
       "0it [00:00, ?it/s]"
      ]
     },
     "metadata": {},
     "output_type": "display_data"
    }
   ],
   "source": [
    "# Load in all available paths, this will take 3 minutes or so\n",
    "all_paths = [blob.name for blob in tqdm(client.list_blobs('street2sat-uploaded', prefix=\"\"))]  \n",
    "random.shuffle(all_paths)"
   ]
  },
  {
   "cell_type": "code",
   "execution_count": 110,
   "id": "e9dac807",
   "metadata": {},
   "outputs": [
    {
     "name": "stdout",
     "output_type": "stream",
     "text": [
      "INFO:google.cloud.aiplatform.datasets.dataset:ImageDataset data imported. Resource name: projects/1012768714927/locations/us-central1/datasets/32571932461236224\n",
      "INFO:google.cloud.aiplatform.datasets.dataset:ImageDataset data imported. Resource name: projects/1012768714927/locations/us-central1/datasets/6605575588608475136\n",
      "INFO:google.cloud.aiplatform.datasets.dataset:ImageDataset data imported. Resource name: projects/1012768714927/locations/us-central1/datasets/7294626331596161024\n",
      "INFO:google.cloud.aiplatform.datasets.dataset:ImageDataset data imported. Resource name: projects/1012768714927/locations/us-central1/datasets/4644257950888624128\n",
      "INFO:google.cloud.aiplatform.datasets.dataset:ImageDataset data imported. Resource name: projects/1012768714927/locations/us-central1/datasets/1199004235950194688\n",
      "INFO:google.cloud.aiplatform.datasets.dataset:ImageDataset data imported. Resource name: projects/1012768714927/locations/us-central1/datasets/1268810030174437376\n",
      "INFO:google.cloud.aiplatform.datasets.dataset:ImageDataset data imported. Resource name: projects/1012768714927/locations/us-central1/datasets/2338414941674930176\n",
      "INFO:google.cloud.aiplatform.datasets.dataset:ImageDataset data imported. Resource name: projects/1012768714927/locations/us-central1/datasets/8564641426514640896\n",
      "INFO:google.cloud.aiplatform.datasets.dataset:ImageDataset data imported. Resource name: projects/1012768714927/locations/us-central1/datasets/6963611758984429568\n",
      "INFO:google.cloud.aiplatform.datasets.dataset:ImageDataset data imported. Resource name: projects/1012768714927/locations/us-central1/datasets/7033417553208672256\n",
      "INFO:google.cloud.aiplatform.datasets.dataset:ImageDataset data imported. Resource name: projects/1012768714927/locations/us-central1/datasets/6950100960102318080\n",
      "INFO:google.cloud.aiplatform.datasets.dataset:ImageDataset data imported. Resource name: projects/1012768714927/locations/us-central1/datasets/1530018808561926144\n",
      "INFO:google.cloud.aiplatform.datasets.dataset:ImageDataset data imported. Resource name: projects/1012768714927/locations/us-central1/datasets/4299732579394781184\n",
      "INFO:google.cloud.aiplatform.datasets.dataset:ImageDataset data imported. Resource name: projects/1012768714927/locations/us-central1/datasets/16809333765439488\n"
     ]
    }
   ],
   "source": [
    "# Utility functions\n",
    "cached = {}\n",
    "\n",
    "def get_images_already_being_labelled():\n",
    "    \"\"\"Gets images already labelled\"\"\"\n",
    "    # need to double check if these changes work!!!!!\n",
    "    images_already_being_labelled = pd.read_csv('gs://street2sat-database-csv/database-info.csv')\n",
    "    # we want images already being labeled\n",
    "    images_already_being_labelled = images_already_being_labelled[images_already_being_labelled['being_labeled'] == True]\n",
    "    # and also images that are not in test set \n",
    "    images_already_being_labelled = images_already_being_labelled[images_already_being_labelled['test_set'] == False]\n",
    "\n",
    "    return list(images_already_being_labelled['input_img'])\n",
    "\n",
    "def amount_of_objects_detected(uri: str):\n",
    "    \"\"\"Finds amount of objects detected in image uri\"\"\"\n",
    "    if uri in cached:\n",
    "        return cached[uri]\n",
    "    \n",
    "    query = coll.where(\"input_img\", \"==\", uri).limit(1).get()\n",
    "    objects_detected = 0\n",
    "    if len(query) > 0:\n",
    "        item = query[0].to_dict()\n",
    "        if \"results\" in item:\n",
    "            objects_detected = len(item[\"results\"])\n",
    "    \n",
    "    cached[uri] = objects_detected     \n",
    "    return objects_detected\n",
    "\n",
    "def get_paths_with_predicted_objects(amount: int, object_threshold: int = 5):\n",
    "    \"\"\"Gets URIs for images with more than {object_threshold} objects\"\"\"\n",
    "    already_being_labelled = get_images_already_being_labelled()\n",
    "    images_to_label = []\n",
    "    with tqdm(total=amount, desc=\"Get URIs\") as pbar:\n",
    "        for i, p in enumerate(all_paths):\n",
    "            uri = f\"gs://street2sat-uploaded/{p}\"\n",
    "            if uri in already_being_labelled or amount_of_objects_detected(uri) <= object_threshold:\n",
    "                continue\n",
    "            pbar.update(1)\n",
    "            images_to_label.append(uri)\n",
    "            if len(images_to_label) == 1:\n",
    "                print(f\"Start range: {i}\")\n",
    "            if len(images_to_label) >= amount:\n",
    "                print(f\"End range: {i}\")\n",
    "                break\n",
    "    return images_to_label"
   ]
  },
  {
   "cell_type": "markdown",
   "id": "e2e93afe",
   "metadata": {},
   "source": [
    "#### 1b. Generate CSVs"
   ]
  },
  {
   "cell_type": "code",
   "execution_count": 81,
   "id": "61aa9543",
   "metadata": {},
   "outputs": [
    {
     "data": {
      "application/vnd.jupyter.widget-view+json": {
       "model_id": "495973ec2a424cff811adb88ced4d09a",
       "version_major": 2,
       "version_minor": 0
      },
      "text/plain": [
       "CSV Generation:   0%|          | 0/5 [00:00<?, ?it/s]"
      ]
     },
     "metadata": {},
     "output_type": "display_data"
    },
    {
     "data": {
      "application/vnd.jupyter.widget-view+json": {
       "model_id": "4de982d2e50340af92c07a3239e1ebf7",
       "version_major": 2,
       "version_minor": 0
      },
      "text/plain": [
       "Get already labelled:   0%|          | 0/18 [00:00<?, ?it/s]"
      ]
     },
     "metadata": {},
     "output_type": "display_data"
    },
    {
     "data": {
      "application/vnd.jupyter.widget-view+json": {
       "model_id": "adcafab4e8bc49f8a086f8bf7d540cb2",
       "version_major": 2,
       "version_minor": 0
      },
      "text/plain": [
       "Get URIs:   0%|          | 0/100 [00:00<?, ?it/s]"
      ]
     },
     "metadata": {},
     "output_type": "display_data"
    },
    {
     "name": "stdout",
     "output_type": "stream",
     "text": [
      "Start range: 6003\n",
      "End range: 6528\n",
      "Saving to 2021-11-22_13-3-20.csv\n"
     ]
    },
    {
     "data": {
      "application/vnd.jupyter.widget-view+json": {
       "model_id": "175ea1ca534049efbed9d6fd2f057d67",
       "version_major": 2,
       "version_minor": 0
      },
      "text/plain": [
       "Get already labelled:   0%|          | 0/19 [00:00<?, ?it/s]"
      ]
     },
     "metadata": {},
     "output_type": "display_data"
    },
    {
     "data": {
      "application/vnd.jupyter.widget-view+json": {
       "model_id": "b87124cb9a8348b8b8e87be07cf713a5",
       "version_major": 2,
       "version_minor": 0
      },
      "text/plain": [
       "Get URIs:   0%|          | 0/100 [00:00<?, ?it/s]"
      ]
     },
     "metadata": {},
     "output_type": "display_data"
    },
    {
     "name": "stdout",
     "output_type": "stream",
     "text": [
      "Start range: 6537\n",
      "End range: 7037\n",
      "Saving to 2021-11-22_13-3-48.csv\n"
     ]
    },
    {
     "data": {
      "application/vnd.jupyter.widget-view+json": {
       "model_id": "d6a9187a20ff40c5b5af8d3646e93002",
       "version_major": 2,
       "version_minor": 0
      },
      "text/plain": [
       "Get already labelled:   0%|          | 0/20 [00:00<?, ?it/s]"
      ]
     },
     "metadata": {},
     "output_type": "display_data"
    },
    {
     "data": {
      "application/vnd.jupyter.widget-view+json": {
       "model_id": "c81891dbdab04596a0d501739ef31f21",
       "version_major": 2,
       "version_minor": 0
      },
      "text/plain": [
       "Get URIs:   0%|          | 0/100 [00:00<?, ?it/s]"
      ]
     },
     "metadata": {},
     "output_type": "display_data"
    },
    {
     "name": "stdout",
     "output_type": "stream",
     "text": [
      "Start range: 7038\n",
      "End range: 7547\n",
      "Saving to 2021-11-22_13-4-20.csv\n"
     ]
    },
    {
     "data": {
      "application/vnd.jupyter.widget-view+json": {
       "model_id": "85f4dc30f4bb4f668d0e52d93526c291",
       "version_major": 2,
       "version_minor": 0
      },
      "text/plain": [
       "Get already labelled:   0%|          | 0/21 [00:00<?, ?it/s]"
      ]
     },
     "metadata": {},
     "output_type": "display_data"
    },
    {
     "data": {
      "application/vnd.jupyter.widget-view+json": {
       "model_id": "07b3cdfded7841df9ca8794d048042d0",
       "version_major": 2,
       "version_minor": 0
      },
      "text/plain": [
       "Get URIs:   0%|          | 0/100 [00:00<?, ?it/s]"
      ]
     },
     "metadata": {},
     "output_type": "display_data"
    },
    {
     "name": "stdout",
     "output_type": "stream",
     "text": [
      "Start range: 7553\n",
      "End range: 8067\n",
      "Saving to 2021-11-22_13-4-47.csv\n"
     ]
    },
    {
     "data": {
      "application/vnd.jupyter.widget-view+json": {
       "model_id": "50d39d0ffb75469caad008d261434633",
       "version_major": 2,
       "version_minor": 0
      },
      "text/plain": [
       "Get already labelled:   0%|          | 0/22 [00:00<?, ?it/s]"
      ]
     },
     "metadata": {},
     "output_type": "display_data"
    },
    {
     "data": {
      "application/vnd.jupyter.widget-view+json": {
       "model_id": "99837d91cc364daea1cd3a4bc08aa98e",
       "version_major": 2,
       "version_minor": 0
      },
      "text/plain": [
       "Get URIs:   0%|          | 0/100 [00:00<?, ?it/s]"
      ]
     },
     "metadata": {},
     "output_type": "display_data"
    },
    {
     "name": "stdout",
     "output_type": "stream",
     "text": [
      "Start range: 8068\n",
      "End range: 8660\n",
      "Saving to 2021-11-22_13-5-19.csv\n"
     ]
    }
   ],
   "source": [
    "amount_of_csvs_to_generate = 5\n",
    "for i in tqdm(range(amount_of_csvs_to_generate), desc=\"CSV Generation\"):\n",
    "    # Get random images to label with at least 5 objects predicted in each image\n",
    "    images_to_label = get_paths_with_predicted_objects(100, object_threshold=5)\n",
    "    csv_name = datetime.now().strftime(date_format) + \".csv\"\n",
    "    print(f\"Saving to {csv_name}\")\n",
    "    df = pd.DataFrame(images_to_label)\n",
    "    df.to_csv(f\"gs://{csv_bucket}/{csv_name}\", sep=\"\\n\", index=False, header=False)"
   ]
  },
  {
   "cell_type": "markdown",
   "id": "611b27e0",
   "metadata": {},
   "source": [
    "## 2. Creating a dataset on Vertex AI"
   ]
  },
  {
   "cell_type": "code",
   "execution_count": 6,
   "id": "fcf00fa0",
   "metadata": {},
   "outputs": [
    {
     "name": "stdout",
     "output_type": "stream",
     "text": [
      "Found 15 csvs_for_new_datasets\n"
     ]
    }
   ],
   "source": [
    "# Finds which csvs to make \n",
    "existing_dataset_dates = []\n",
    "for d in aiplatform.ImageDataset.list():\n",
    "    cleaned_display_name = d.display_name.replace(\" \", \"\") \n",
    "    existing_dataset_dates.append(datetime.strptime(cleaned_display_name, \"%Y-%m-%d_%H-%M-%S\"))\n",
    "\n",
    "csvs_for_new_datasets = []\n",
    "for blob in client.list_blobs(csv_bucket, prefix=\"\"):\n",
    "    if not blob.name.endswith(\".csv\"):\n",
    "        continue\n",
    "    csv_date = datetime.strptime(Path(blob.name).stem, \"%Y-%m-%d_%H-%M-%S\")\n",
    "    if csv_date in existing_dataset_dates:\n",
    "        continue\n",
    "    csvs_for_new_datasets.append(blob)\n",
    "print(f\"Found {len(csvs_for_new_datasets)} csvs_for_new_datasets\")"
   ]
  },
  {
   "cell_type": "code",
   "execution_count": 11,
   "id": "a976e146",
   "metadata": {},
   "outputs": [
    {
     "name": "stdout",
     "output_type": "stream",
     "text": [
      "INFO:google.cloud.aiplatform.datasets.dataset:Creating ImageDataset\n",
      "INFO:google.cloud.aiplatform.datasets.dataset:Create ImageDataset backing LRO: projects/1012768714927/locations/us-central1/datasets/6867910266902806528/operations/2591332371596836864\n",
      "INFO:google.cloud.aiplatform.datasets.dataset:ImageDataset created. Resource name: projects/1012768714927/locations/us-central1/datasets/6867910266902806528\n",
      "INFO:google.cloud.aiplatform.datasets.dataset:To use this ImageDataset in another session:\n",
      "INFO:google.cloud.aiplatform.datasets.dataset:ds = aiplatform.ImageDataset('projects/1012768714927/locations/us-central1/datasets/6867910266902806528')\n",
      "INFO:google.cloud.aiplatform.datasets.dataset:Importing ImageDataset data: projects/1012768714927/locations/us-central1/datasets/6867910266902806528\n",
      "INFO:google.cloud.aiplatform.datasets.dataset:Import ImageDataset data backing LRO: projects/1012768714927/locations/us-central1/datasets/6867910266902806528/operations/787640720834953216\n",
      "INFO:google.cloud.aiplatform.datasets.dataset:Creating ImageDataset\n",
      "INFO:google.cloud.aiplatform.datasets.dataset:Create ImageDataset backing LRO: projects/1012768714927/locations/us-central1/datasets/2179663054810120192/operations/8795040858299695104\n",
      "INFO:google.cloud.aiplatform.datasets.dataset:ImageDataset created. Resource name: projects/1012768714927/locations/us-central1/datasets/2179663054810120192\n",
      "INFO:google.cloud.aiplatform.datasets.dataset:To use this ImageDataset in another session:\n",
      "INFO:google.cloud.aiplatform.datasets.dataset:ds = aiplatform.ImageDataset('projects/1012768714927/locations/us-central1/datasets/2179663054810120192')\n",
      "INFO:google.cloud.aiplatform.datasets.dataset:Importing ImageDataset data: projects/1012768714927/locations/us-central1/datasets/2179663054810120192\n",
      "INFO:google.cloud.aiplatform.datasets.dataset:Import ImageDataset data backing LRO: projects/1012768714927/locations/us-central1/datasets/2179663054810120192/operations/3841081268192149504\n",
      "INFO:google.cloud.aiplatform.datasets.dataset:Creating ImageDataset\n",
      "INFO:google.cloud.aiplatform.datasets.dataset:Create ImageDataset backing LRO: projects/1012768714927/locations/us-central1/datasets/3682739430445023232/operations/5923996095851003904\n",
      "INFO:google.cloud.aiplatform.datasets.dataset:ImageDataset created. Resource name: projects/1012768714927/locations/us-central1/datasets/3682739430445023232\n",
      "INFO:google.cloud.aiplatform.datasets.dataset:To use this ImageDataset in another session:\n",
      "INFO:google.cloud.aiplatform.datasets.dataset:ds = aiplatform.ImageDataset('projects/1012768714927/locations/us-central1/datasets/3682739430445023232')\n",
      "INFO:google.cloud.aiplatform.datasets.dataset:Importing ImageDataset data: projects/1012768714927/locations/us-central1/datasets/3682739430445023232\n",
      "INFO:google.cloud.aiplatform.datasets.dataset:Import ImageDataset data backing LRO: projects/1012768714927/locations/us-central1/datasets/3682739430445023232/operations/3618153086637309952\n",
      "INFO:google.cloud.aiplatform.datasets.dataset:Creating ImageDataset\n",
      "INFO:google.cloud.aiplatform.datasets.dataset:Create ImageDataset backing LRO: projects/1012768714927/locations/us-central1/datasets/1727051292259385344/operations/3129512527067611136\n",
      "INFO:google.cloud.aiplatform.datasets.dataset:ImageDataset created. Resource name: projects/1012768714927/locations/us-central1/datasets/1727051292259385344\n",
      "INFO:google.cloud.aiplatform.datasets.dataset:To use this ImageDataset in another session:\n",
      "INFO:google.cloud.aiplatform.datasets.dataset:ds = aiplatform.ImageDataset('projects/1012768714927/locations/us-central1/datasets/1727051292259385344')\n",
      "INFO:google.cloud.aiplatform.datasets.dataset:Importing ImageDataset data: projects/1012768714927/locations/us-central1/datasets/1727051292259385344\n",
      "INFO:google.cloud.aiplatform.datasets.dataset:Import ImageDataset data backing LRO: projects/1012768714927/locations/us-central1/datasets/1727051292259385344/operations/3201570121105539072\n",
      "INFO:google.cloud.aiplatform.datasets.dataset:Creating ImageDataset\n",
      "INFO:google.cloud.aiplatform.datasets.dataset:Create ImageDataset backing LRO: projects/1012768714927/locations/us-central1/datasets/6453579101184720896/operations/5399326739262341120\n",
      "INFO:google.cloud.aiplatform.datasets.dataset:ImageDataset created. Resource name: projects/1012768714927/locations/us-central1/datasets/6453579101184720896\n",
      "INFO:google.cloud.aiplatform.datasets.dataset:To use this ImageDataset in another session:\n",
      "INFO:google.cloud.aiplatform.datasets.dataset:ds = aiplatform.ImageDataset('projects/1012768714927/locations/us-central1/datasets/6453579101184720896')\n",
      "INFO:google.cloud.aiplatform.datasets.dataset:Importing ImageDataset data: projects/1012768714927/locations/us-central1/datasets/6453579101184720896\n",
      "INFO:google.cloud.aiplatform.datasets.dataset:Import ImageDataset data backing LRO: projects/1012768714927/locations/us-central1/datasets/6453579101184720896/operations/6903529014804086784\n",
      "INFO:google.cloud.aiplatform.datasets.dataset:Creating ImageDataset\n",
      "INFO:google.cloud.aiplatform.datasets.dataset:Create ImageDataset backing LRO: projects/1012768714927/locations/us-central1/datasets/3936066909484613632/operations/2417943785943072768\n",
      "INFO:google.cloud.aiplatform.datasets.dataset:ImageDataset created. Resource name: projects/1012768714927/locations/us-central1/datasets/3936066909484613632\n",
      "INFO:google.cloud.aiplatform.datasets.dataset:To use this ImageDataset in another session:\n",
      "INFO:google.cloud.aiplatform.datasets.dataset:ds = aiplatform.ImageDataset('projects/1012768714927/locations/us-central1/datasets/3936066909484613632')\n",
      "INFO:google.cloud.aiplatform.datasets.dataset:Importing ImageDataset data: projects/1012768714927/locations/us-central1/datasets/3936066909484613632\n",
      "INFO:google.cloud.aiplatform.datasets.dataset:Import ImageDataset data backing LRO: projects/1012768714927/locations/us-central1/datasets/3936066909484613632/operations/5608744121935069184\n",
      "INFO:google.cloud.aiplatform.datasets.dataset:Creating ImageDataset\n",
      "INFO:google.cloud.aiplatform.datasets.dataset:Create ImageDataset backing LRO: projects/1012768714927/locations/us-central1/datasets/8483576633221971968/operations/3302901112721375232\n",
      "INFO:google.cloud.aiplatform.datasets.dataset:ImageDataset created. Resource name: projects/1012768714927/locations/us-central1/datasets/8483576633221971968\n",
      "INFO:google.cloud.aiplatform.datasets.dataset:To use this ImageDataset in another session:\n",
      "INFO:google.cloud.aiplatform.datasets.dataset:ds = aiplatform.ImageDataset('projects/1012768714927/locations/us-central1/datasets/8483576633221971968')\n",
      "INFO:google.cloud.aiplatform.datasets.dataset:Importing ImageDataset data: projects/1012768714927/locations/us-central1/datasets/8483576633221971968\n",
      "INFO:google.cloud.aiplatform.datasets.dataset:Import ImageDataset data backing LRO: projects/1012768714927/locations/us-central1/datasets/8483576633221971968/operations/1483446863263694848\n",
      "INFO:google.cloud.aiplatform.datasets.dataset:Creating ImageDataset\n",
      "INFO:google.cloud.aiplatform.datasets.dataset:Create ImageDataset backing LRO: projects/1012768714927/locations/us-central1/datasets/7955529576912781312/operations/681806129591746560\n",
      "INFO:google.cloud.aiplatform.datasets.dataset:ImageDataset created. Resource name: projects/1012768714927/locations/us-central1/datasets/7955529576912781312\n",
      "INFO:google.cloud.aiplatform.datasets.dataset:To use this ImageDataset in another session:\n",
      "INFO:google.cloud.aiplatform.datasets.dataset:ds = aiplatform.ImageDataset('projects/1012768714927/locations/us-central1/datasets/7955529576912781312')\n",
      "INFO:google.cloud.aiplatform.datasets.dataset:Importing ImageDataset data: projects/1012768714927/locations/us-central1/datasets/7955529576912781312\n",
      "INFO:google.cloud.aiplatform.datasets.dataset:Import ImageDataset data backing LRO: projects/1012768714927/locations/us-central1/datasets/7955529576912781312/operations/5993801890075246592\n",
      "INFO:google.cloud.aiplatform.datasets.dataset:Creating ImageDataset\n",
      "INFO:google.cloud.aiplatform.datasets.dataset:Create ImageDataset backing LRO: projects/1012768714927/locations/us-central1/datasets/989586853277466624/operations/7914587131148763136\n",
      "INFO:google.cloud.aiplatform.datasets.dataset:Creating ImageDataset\n"
     ]
    },
    {
     "name": "stdout",
     "output_type": "stream",
     "text": [
      "INFO:google.cloud.aiplatform.datasets.dataset:Create ImageDataset backing LRO: projects/1012768714927/locations/us-central1/datasets/7773133792004276224/operations/4030232452541710336\n",
      "INFO:google.cloud.aiplatform.datasets.dataset:ImageDataset created. Resource name: projects/1012768714927/locations/us-central1/datasets/989586853277466624\n",
      "INFO:google.cloud.aiplatform.datasets.dataset:To use this ImageDataset in another session:\n",
      "INFO:google.cloud.aiplatform.datasets.dataset:ds = aiplatform.ImageDataset('projects/1012768714927/locations/us-central1/datasets/989586853277466624')\n",
      "INFO:google.cloud.aiplatform.datasets.dataset:Importing ImageDataset data: projects/1012768714927/locations/us-central1/datasets/989586853277466624\n",
      "INFO:google.cloud.aiplatform.datasets.dataset:Import ImageDataset data backing LRO: projects/1012768714927/locations/us-central1/datasets/989586853277466624/operations/2149979608114528256\n",
      "INFO:google.cloud.aiplatform.datasets.dataset:ImageDataset created. Resource name: projects/1012768714927/locations/us-central1/datasets/7773133792004276224\n",
      "INFO:google.cloud.aiplatform.datasets.dataset:To use this ImageDataset in another session:\n",
      "INFO:google.cloud.aiplatform.datasets.dataset:ds = aiplatform.ImageDataset('projects/1012768714927/locations/us-central1/datasets/7773133792004276224')\n",
      "INFO:google.cloud.aiplatform.datasets.dataset:Importing ImageDataset data: projects/1012768714927/locations/us-central1/datasets/7773133792004276224\n",
      "INFO:google.cloud.aiplatform.datasets.dataset:Import ImageDataset data backing LRO: projects/1012768714927/locations/us-central1/datasets/7773133792004276224/operations/436359949900054528\n",
      "INFO:google.cloud.aiplatform.datasets.dataset:Creating ImageDataset\n",
      "INFO:google.cloud.aiplatform.datasets.dataset:Create ImageDataset backing LRO: projects/1012768714927/locations/us-central1/datasets/8547752927912001536/operations/7029629804370460672\n",
      "INFO:google.cloud.aiplatform.datasets.dataset:ImageDataset created. Resource name: projects/1012768714927/locations/us-central1/datasets/8547752927912001536\n",
      "INFO:google.cloud.aiplatform.datasets.dataset:To use this ImageDataset in another session:\n",
      "INFO:google.cloud.aiplatform.datasets.dataset:ds = aiplatform.ImageDataset('projects/1012768714927/locations/us-central1/datasets/8547752927912001536')\n",
      "INFO:google.cloud.aiplatform.datasets.dataset:Importing ImageDataset data: projects/1012768714927/locations/us-central1/datasets/8547752927912001536\n",
      "INFO:google.cloud.aiplatform.datasets.dataset:Import ImageDataset data backing LRO: projects/1012768714927/locations/us-central1/datasets/8547752927912001536/operations/9209372024017780736\n",
      "INFO:google.cloud.aiplatform.datasets.dataset:Creating ImageDataset\n",
      "INFO:google.cloud.aiplatform.datasets.dataset:Create ImageDataset backing LRO: projects/1012768714927/locations/us-central1/datasets/1560418106046676992/operations/6248255269021679616\n",
      "INFO:google.cloud.aiplatform.datasets.dataset:ImageDataset created. Resource name: projects/1012768714927/locations/us-central1/datasets/1560418106046676992\n",
      "INFO:google.cloud.aiplatform.datasets.dataset:To use this ImageDataset in another session:\n",
      "INFO:google.cloud.aiplatform.datasets.dataset:ds = aiplatform.ImageDataset('projects/1012768714927/locations/us-central1/datasets/1560418106046676992')\n",
      "INFO:google.cloud.aiplatform.datasets.dataset:Importing ImageDataset data: projects/1012768714927/locations/us-central1/datasets/1560418106046676992\n",
      "INFO:google.cloud.aiplatform.datasets.dataset:Import ImageDataset data backing LRO: projects/1012768714927/locations/us-central1/datasets/1560418106046676992/operations/3687958880861552640\n",
      "INFO:google.cloud.aiplatform.datasets.dataset:Creating ImageDataset\n",
      "INFO:google.cloud.aiplatform.datasets.dataset:Create ImageDataset backing LRO: projects/1012768714927/locations/us-central1/datasets/5658693766953828352/operations/256215964805234688\n",
      "INFO:google.cloud.aiplatform.datasets.dataset:ImageDataset created. Resource name: projects/1012768714927/locations/us-central1/datasets/5658693766953828352\n",
      "INFO:google.cloud.aiplatform.datasets.dataset:To use this ImageDataset in another session:\n",
      "INFO:google.cloud.aiplatform.datasets.dataset:ds = aiplatform.ImageDataset('projects/1012768714927/locations/us-central1/datasets/5658693766953828352')\n",
      "INFO:google.cloud.aiplatform.datasets.dataset:Importing ImageDataset data: projects/1012768714927/locations/us-central1/datasets/5658693766953828352\n",
      "INFO:google.cloud.aiplatform.datasets.dataset:Import ImageDataset data backing LRO: projects/1012768714927/locations/us-central1/datasets/5658693766953828352/operations/6761665626541916160\n",
      "INFO:google.cloud.aiplatform.datasets.dataset:Creating ImageDataset\n",
      "INFO:google.cloud.aiplatform.datasets.dataset:Create ImageDataset backing LRO: projects/1012768714927/locations/us-central1/datasets/2008526268970041344/operations/8641918470969098240\n",
      "INFO:google.cloud.aiplatform.datasets.dataset:Creating ImageDataset\n",
      "INFO:google.cloud.aiplatform.datasets.dataset:Create ImageDataset backing LRO: projects/1012768714927/locations/us-central1/datasets/5971693941056077824/operations/409338352135831552\n",
      "INFO:google.cloud.aiplatform.datasets.dataset:ImageDataset created. Resource name: projects/1012768714927/locations/us-central1/datasets/2008526268970041344\n",
      "INFO:google.cloud.aiplatform.datasets.dataset:To use this ImageDataset in another session:\n",
      "INFO:google.cloud.aiplatform.datasets.dataset:ds = aiplatform.ImageDataset('projects/1012768714927/locations/us-central1/datasets/2008526268970041344')\n",
      "INFO:google.cloud.aiplatform.datasets.dataset:Importing ImageDataset data: projects/1012768714927/locations/us-central1/datasets/2008526268970041344\n",
      "INFO:google.cloud.aiplatform.datasets.dataset:Import ImageDataset data backing LRO: projects/1012768714927/locations/us-central1/datasets/2008526268970041344/operations/4455822617328222208\n",
      "INFO:google.cloud.aiplatform.datasets.dataset:ImageDataset created. Resource name: projects/1012768714927/locations/us-central1/datasets/5971693941056077824\n",
      "INFO:google.cloud.aiplatform.datasets.dataset:To use this ImageDataset in another session:\n",
      "INFO:google.cloud.aiplatform.datasets.dataset:ds = aiplatform.ImageDataset('projects/1012768714927/locations/us-central1/datasets/5971693941056077824')\n",
      "INFO:google.cloud.aiplatform.datasets.dataset:Importing ImageDataset data: projects/1012768714927/locations/us-central1/datasets/5971693941056077824\n",
      "INFO:google.cloud.aiplatform.datasets.dataset:Import ImageDataset data backing LRO: projects/1012768714927/locations/us-central1/datasets/5971693941056077824/operations/5048045968327442432\n"
     ]
    }
   ],
   "source": [
    "# Create datasets\n",
    "new_datasets = []\n",
    "for csv_for_dataset in csvs_for_new_datasets:\n",
    "    display_name = Path(csv_for_dataset.name).stem\n",
    "    assert datetime.strptime(display_name, \"%Y-%m-%d_%H-%M-%S\")\n",
    "        \n",
    "    ds = aiplatform.ImageDataset.create(\n",
    "        display_name=display_name,\n",
    "        gcs_source=f\"gs://{csv_for_dataset.bucket.name}/{csv_for_dataset.name}\",\n",
    "        import_schema_uri=aiplatform.schema.dataset.ioformat.image.bounding_box,\n",
    "        sync=False,\n",
    "    )\n",
    "    new_datasets.append(ds)  "
   ]
  },
  {
   "cell_type": "code",
   "execution_count": 12,
   "id": "26921877",
   "metadata": {},
   "outputs": [
    {
     "name": "stdout",
     "output_type": "stream",
     "text": [
      "Completed processing: 0/15\n"
     ]
    }
   ],
   "source": [
    "# Check status\n",
    "done = len([_ for _ in new_datasets if ds._gca_resource])\n",
    "total = len(new_datasets)\n",
    "print(f\"Completed processing: {done}/{total}\")    "
   ]
  },
  {
   "cell_type": "markdown",
   "id": "f6d2e54d",
   "metadata": {},
   "source": [
    "## 3. Creating a labeling task\n",
    "You can create a labeling task during or after dataset creation is complete.\n",
    "\n",
    "a. Click **CREATE LABELING TASK**\n",
    "\n",
    "b. For Labeling Task name: use the `%Y-%m-%d_%H-%-M-%S` format with a task suffix\n",
    "\n",
    "![image.png](../assets/labeling-task/3b.png)\n",
    "\n",
    "c. In step 2: input the labels as per [classes.txt](https://github.com/nasaharvest/street2sat_website/blob/main/street2sat_utils/crop_info/classes.txt)\n",
    "\n",
    "![image-2.png](../assets/labeling-task/3c.png)\n",
    "\n",
    "d. In step 3: select the instruction PDF available in `gs://street2sat-gcloud-labeling`. (This can be updated if necessary)\n",
    "\n",
    "![image-3.png](../assets/labeling-task/3d.png)\n",
    "\n",
    "e. In step 4: select the \"Street2sat Labelers\" group and add your email as a manager.\n",
    "\n",
    "![image-4.png](../assets/labeling-task/3e.png)\n",
    "\n",
    "f. After some time (maybe 15 minutes) you should receive an email from noreply-vertexai@google.com that looks like this:\n",
    "![image-6.png](../assets/labeling-task/3f.png)\n"
   ]
  },
  {
   "cell_type": "markdown",
   "id": "1f16ab1b",
   "metadata": {},
   "source": [
    "## 4. Labeling Manager Console\n",
    "Using the second link the above email you can access the Manager console. \n",
    "- Tasks - shows the progress of the created Labeling task\n",
    "- Specialists - shows the list of available labelers (more can be added here)\n",
    "- Assignments - allows managing who is working on which task\n",
    "\n",
    "Tasks and Specialists are pretty intuitive, but to change Assignment you must:\n",
    "1. Populate the Specialists column with an existing specialist (labeler)\n",
    "2. Populate the Tasks column with a created task\n",
    "3. Make changes by checking or unchecking specialists\n",
    "4. Commit changes using the button on the top right\n",
    "\n",
    "![image.png](../assets/labeling-task/4.png)\n"
   ]
  },
  {
   "cell_type": "markdown",
   "id": "12cfaeb8",
   "metadata": {},
   "source": [
    "# 5. Actual labeling\n",
    "Members of the Street2sat labelers group should receive an email like this upon assignment:\n",
    "![image.png](../assets/labeling-task/5.png)\n",
    "\n",
    "However these emails have not been consistent so a direct link from Step 3f email may need to be manually sent.\n",
    "\n",
    "Once the specialist clicks the link, they'll see the following page and will be ready to go:\n",
    "![image-2.png](../assets/labeling-task/5b.png)\n",
    "\n",
    "- Since this guide is for individuals creating labeling tasks, I'll leave details about actual labeling on Google Cloud to another slide/document."
   ]
  },
  {
   "cell_type": "markdown",
   "id": "70c96207",
   "metadata": {},
   "source": [
    "## 6. Exporting the labels\n",
    "To export labels navigate to Vertex AI datasets, click the 3 dots on the desirable dataset and select Export dataset\n",
    "![image.png](../assets/labeling-task/6.png)\n",
    "\n",
    "Save the output file directly to the `street2sat-gcloud-labeling` bucket."
   ]
  },
  {
   "cell_type": "code",
   "execution_count": null,
   "id": "592fd8a5",
   "metadata": {},
   "outputs": [],
   "source": []
  }
 ],
 "metadata": {
  "kernelspec": {
   "display_name": "Python 3 (ipykernel)",
   "language": "python",
   "name": "python3"
  },
  "language_info": {
   "codemirror_mode": {
    "name": "ipython",
    "version": 3
   },
   "file_extension": ".py",
   "mimetype": "text/x-python",
   "name": "python",
   "nbconvert_exporter": "python",
   "pygments_lexer": "ipython3",
   "version": "3.7.0"
  }
 },
 "nbformat": 4,
 "nbformat_minor": 5
}

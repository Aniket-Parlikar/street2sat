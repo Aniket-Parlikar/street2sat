{
 "cells": [
  {
   "cell_type": "code",
   "execution_count": 71,
   "metadata": {},
   "outputs": [],
   "source": [
    "from google.cloud import storage\n",
    "from tqdm import tqdm\n",
    "import json \n",
    "import pandas as pd\n",
    "import numpy as np\n",
    "from sklearn.model_selection import train_test_split\n",
    "import geopandas\n",
    "import random\n",
    "from scipy.spatial import cKDTree"
   ]
  },
  {
   "cell_type": "markdown",
   "metadata": {},
   "source": [
    "# Generate Object Detection Dataset\n",
    "\n",
    "**Author:** Madhava Paliyam (madhavapaliyam@gmail.com)\n",
    "\n",
    "**Description:** Converts the images that have been labeled so far into a dataset on google cloud for future training of the YOLO v5 model. \n",
    "\n",
    "\n",
    "\n",
    "**Inputs**: Train/Validation split ratio (ex. .2), distance threshold for close points (ex. .001 degrees)\n",
    "\n",
    "**Outputs**: train.csv, val.csv updated in google cloud through dvc\n",
    "\n",
    "This is done through the following steps: \n",
    "\n",
    "1. Obtain and parse all .jsonl files from labeled bucket \n",
    "2. Split the data into train and validation sets randomly stratified by country \n",
    "3. Filter the sets to ensure nearby points are in the same set \n",
    "4. Track updates to train.csv and val.csv in google cloud "
   ]
  },
  {
   "cell_type": "code",
   "execution_count": 4,
   "metadata": {},
   "outputs": [],
   "source": [
    "##### SET PARAMETERS HERE ######\n",
    "\n",
    "TRAIN_VAL_SPLIT = .2        # proportion of validation/train images \n",
    "DISTANCE_THRESHOLD = .001   # min degrees of seperation between images in train and val "
   ]
  },
  {
   "cell_type": "markdown",
   "metadata": {},
   "source": [
    "#### Obtain and Parse all .jsonl files from labeled bucket"
   ]
  },
  {
   "cell_type": "code",
   "execution_count": 32,
   "metadata": {},
   "outputs": [
    {
     "name": "stdout",
     "output_type": "stream",
     "text": [
      "Found 5 jsonl files in the bucket.\n"
     ]
    },
    {
     "name": "stderr",
     "output_type": "stream",
     "text": [
      "/home/paliyamm/.conda/envs/lacuna/lib/python3.7/site-packages/IPython/core/interactiveshell.py:3457: DtypeWarning: Columns (7) have mixed types.Specify dtype option on import or set low_memory=False.\n",
      "  exec(code_obj, self.user_global_ns, self.user_ns)\n"
     ]
    }
   ],
   "source": [
    "# Initialize connections to cloud storage and database\n",
    "client = storage.Client()\n",
    "\n",
    "gcloud_labeling_bucket_str = 'street2sat-gcloud-labeling'\n",
    "# get all jsonl objects\n",
    "jsonl_blobs = [file for file in client.list_blobs(gcloud_labeling_bucket_str) if file.name.endswith(\".jsonl\")]\n",
    "\n",
    "# get all info about all images\n",
    "all_paths = pd.read_csv('gs://street2sat-database-csv/database-info.csv')\n",
    "\n",
    "print(f\"Found {len(jsonl_blobs)} jsonl files in the bucket.\")"
   ]
  },
  {
   "cell_type": "code",
   "execution_count": 52,
   "metadata": {},
   "outputs": [
    {
     "name": "stderr",
     "output_type": "stream",
     "text": [
      "100%|██████████| 100/100 [00:08<00:00, 11.71it/s]\n",
      "100%|██████████| 100/100 [00:08<00:00, 11.59it/s]\n",
      "100%|██████████| 100/100 [00:08<00:00, 11.59it/s]\n",
      "100%|██████████| 100/100 [00:08<00:00, 11.56it/s]\n",
      "100%|██████████| 99/99 [00:08<00:00, 11.38it/s]\n"
     ]
    }
   ],
   "source": [
    "# iterates through the jsonl files and creates two dataframes \n",
    "# image_info_df: \n",
    "def get_image_and_bbox_df(blobs: list):\n",
    "    images = []\n",
    "    country_codes = []\n",
    "    bounding_boxes = []\n",
    "    lat = []\n",
    "    lon = []\n",
    "    for blob in blobs:\n",
    "        str_rep = blob.download_as_string()\n",
    "        for image_labels in tqdm(str_rep.splitlines()):\n",
    "            # contains all the bounding box info and image path\n",
    "            info_image = json.loads(image_labels)\n",
    "            image_path = info_image['imageGcsUri']\n",
    "            bounding_box_info = info_image['boundingBoxAnnotations']\n",
    "            for b in bounding_box_info: \n",
    "                b['path'] = image_path\n",
    "\n",
    "            # obtain image location from database and convert to tuple\n",
    "            row = all_paths[all_paths['input_img'] == image_path]\n",
    "            assert len(row) == 1, f'got {len(row)} instead of 1'\n",
    "            row = row.iloc[0]\n",
    "\n",
    "            if (row['cc'] == np.nan):\n",
    "                # dont add image if no location is available \n",
    "                continue \n",
    "\n",
    "            lat.append(row['latitude'])\n",
    "            lon.append(row['longitude'])\n",
    "            country_codes.append(row['cc'])\n",
    "            images.append(image_path)\n",
    "            bounding_boxes.extend(bounding_box_info)\n",
    "   \n",
    "    df = pd.DataFrame()\n",
    "    df['path'] = images\n",
    "    df['cc'] = country_codes\n",
    "    df['lat'] = lat \n",
    "    df['lon'] = lon\n",
    "    df_bounding_boxes = pd.DataFrame(bounding_boxes)\n",
    "    return df, df_bounding_boxes\n",
    "\n",
    "image_info_df,bounding_box_df = get_image_and_bbox_df(jsonl_blobs)"
   ]
  },
  {
   "cell_type": "markdown",
   "metadata": {},
   "source": [
    "#### Split the data into train and validation sets randomly stratified by country "
   ]
  },
  {
   "cell_type": "code",
   "execution_count": 53,
   "metadata": {},
   "outputs": [
    {
     "name": "stdout",
     "output_type": "stream",
     "text": [
      "UG    264\n",
      "KE    119\n",
      "US     93\n",
      "Name: cc, dtype: int64\n"
     ]
    }
   ],
   "source": [
    "vc = image_info_df['cc'].value_counts()\n",
    "countries = vc.keys()\n",
    "print(vc)"
   ]
  },
  {
   "cell_type": "code",
   "execution_count": 54,
   "metadata": {},
   "outputs": [],
   "source": [
    "train_set = pd.DataFrame()\n",
    "val_set = pd.DataFrame()\n",
    "for country in countries:\n",
    "    train, test = train_test_split(image_info_df[image_info_df['cc'] == country], test_size=TRAIN_VAL_SPLIT, shuffle = True)\n",
    "    train_set = train_set.append(train)\n",
    "    val_set = val_set.append(test)\n",
    "\n",
    "# shuffle \n",
    "train_set = train_set.sample(frac = 1)\n",
    "val_set = val_set.sample(frac = 1)"
   ]
  },
  {
   "cell_type": "code",
   "execution_count": 55,
   "metadata": {},
   "outputs": [
    {
     "data": {
      "text/html": [
       "<div>\n",
       "<style scoped>\n",
       "    .dataframe tbody tr th:only-of-type {\n",
       "        vertical-align: middle;\n",
       "    }\n",
       "\n",
       "    .dataframe tbody tr th {\n",
       "        vertical-align: top;\n",
       "    }\n",
       "\n",
       "    .dataframe thead th {\n",
       "        text-align: right;\n",
       "    }\n",
       "</style>\n",
       "<table border=\"1\" class=\"dataframe\">\n",
       "  <thead>\n",
       "    <tr style=\"text-align: right;\">\n",
       "      <th></th>\n",
       "      <th>path</th>\n",
       "      <th>cc</th>\n",
       "      <th>lat</th>\n",
       "      <th>lon</th>\n",
       "    </tr>\n",
       "  </thead>\n",
       "  <tbody>\n",
       "    <tr>\n",
       "      <th>107</th>\n",
       "      <td>gs://street2sat-uploaded/Uganda/2021-06-27_Dri...</td>\n",
       "      <td>UG</td>\n",
       "      <td>1.144557</td>\n",
       "      <td>31.006343</td>\n",
       "    </tr>\n",
       "    <tr>\n",
       "      <th>83</th>\n",
       "      <td>gs://street2sat-uploaded/Uganda/1829244/2020-0...</td>\n",
       "      <td>UG</td>\n",
       "      <td>0.987803</td>\n",
       "      <td>34.172346</td>\n",
       "    </tr>\n",
       "    <tr>\n",
       "      <th>151</th>\n",
       "      <td>gs://street2sat-uploaded/KENYA/2021-07-17-T1/G...</td>\n",
       "      <td>KE</td>\n",
       "      <td>-0.669110</td>\n",
       "      <td>34.754026</td>\n",
       "    </tr>\n",
       "    <tr>\n",
       "      <th>148</th>\n",
       "      <td>gs://street2sat-uploaded/USA/2021-08-20-cropto...</td>\n",
       "      <td>US</td>\n",
       "      <td>40.522853</td>\n",
       "      <td>-85.825824</td>\n",
       "    </tr>\n",
       "    <tr>\n",
       "      <th>297</th>\n",
       "      <td>gs://street2sat-uploaded/KENYA/2021_07_12_T2/1...</td>\n",
       "      <td>KE</td>\n",
       "      <td>1.173325</td>\n",
       "      <td>35.110874</td>\n",
       "    </tr>\n",
       "    <tr>\n",
       "      <th>280</th>\n",
       "      <td>gs://street2sat-uploaded/KENYA/2021_07_13_T2/1...</td>\n",
       "      <td>KE</td>\n",
       "      <td>1.051638</td>\n",
       "      <td>34.927209</td>\n",
       "    </tr>\n",
       "    <tr>\n",
       "      <th>319</th>\n",
       "      <td>gs://street2sat-uploaded/Uganda/2021-06-25_Edr...</td>\n",
       "      <td>UG</td>\n",
       "      <td>0.211524</td>\n",
       "      <td>30.129432</td>\n",
       "    </tr>\n",
       "    <tr>\n",
       "      <th>481</th>\n",
       "      <td>gs://street2sat-uploaded/Uganda/1829244/2020-0...</td>\n",
       "      <td>UG</td>\n",
       "      <td>0.973047</td>\n",
       "      <td>34.308031</td>\n",
       "    </tr>\n",
       "    <tr>\n",
       "      <th>85</th>\n",
       "      <td>gs://street2sat-uploaded/Uganda/2021-06-25_Edr...</td>\n",
       "      <td>UG</td>\n",
       "      <td>0.007917</td>\n",
       "      <td>29.963238</td>\n",
       "    </tr>\n",
       "    <tr>\n",
       "      <th>345</th>\n",
       "      <td>gs://street2sat-uploaded/Uganda/2021-06-17_NAC...</td>\n",
       "      <td>UG</td>\n",
       "      <td>0.462347</td>\n",
       "      <td>32.618019</td>\n",
       "    </tr>\n",
       "  </tbody>\n",
       "</table>\n",
       "</div>"
      ],
      "text/plain": [
       "                                                  path  cc        lat  \\\n",
       "107  gs://street2sat-uploaded/Uganda/2021-06-27_Dri...  UG   1.144557   \n",
       "83   gs://street2sat-uploaded/Uganda/1829244/2020-0...  UG   0.987803   \n",
       "151  gs://street2sat-uploaded/KENYA/2021-07-17-T1/G...  KE  -0.669110   \n",
       "148  gs://street2sat-uploaded/USA/2021-08-20-cropto...  US  40.522853   \n",
       "297  gs://street2sat-uploaded/KENYA/2021_07_12_T2/1...  KE   1.173325   \n",
       "280  gs://street2sat-uploaded/KENYA/2021_07_13_T2/1...  KE   1.051638   \n",
       "319  gs://street2sat-uploaded/Uganda/2021-06-25_Edr...  UG   0.211524   \n",
       "481  gs://street2sat-uploaded/Uganda/1829244/2020-0...  UG   0.973047   \n",
       "85   gs://street2sat-uploaded/Uganda/2021-06-25_Edr...  UG   0.007917   \n",
       "345  gs://street2sat-uploaded/Uganda/2021-06-17_NAC...  UG   0.462347   \n",
       "\n",
       "           lon  \n",
       "107  31.006343  \n",
       "83   34.172346  \n",
       "151  34.754026  \n",
       "148 -85.825824  \n",
       "297  35.110874  \n",
       "280  34.927209  \n",
       "319  30.129432  \n",
       "481  34.308031  \n",
       "85   29.963238  \n",
       "345  32.618019  "
      ]
     },
     "execution_count": 55,
     "metadata": {},
     "output_type": "execute_result"
    }
   ],
   "source": [
    "train_set.sample(10)"
   ]
  },
  {
   "cell_type": "markdown",
   "metadata": {},
   "source": [
    "#### Filter the sets to ensure nearby points are in the same set "
   ]
  },
  {
   "cell_type": "code",
   "execution_count": 56,
   "metadata": {},
   "outputs": [],
   "source": [
    "'Returns distance and name of each neighbor in gdB from each point in gdA using a kd tree'\n",
    "def ckdnearest(gdA, gdB):\n",
    "    \n",
    "    nA = np.array(list(gdA.geometry.apply(lambda x: (x.x, x.y))))\n",
    "    nB = np.array(list(gdB.geometry.apply(lambda x: (x.x, x.y))))\n",
    "    btree = cKDTree(nB)\n",
    "    dist, idx = btree.query(nA, k=1)\n",
    "    gdB_nearest = gdB.iloc[idx].drop(columns=\"geometry\").reset_index(drop=True)\n",
    "    gdf = pd.concat(\n",
    "        [\n",
    "            gdA.reset_index(drop=True),\n",
    "            gdB_nearest,\n",
    "            pd.Series(dist, name='dist')\n",
    "        ], \n",
    "        axis=1)\n",
    "\n",
    "    return gdf\n",
    "\n",
    "\n",
    "'filters on closeby points and returns the new datasets'\n",
    "random.seed(10)\n",
    "def filter_closeby_points(train_set, val_set): \n",
    "\n",
    "    train_set_g = geopandas.GeoDataFrame(train_set.copy(), geometry=geopandas.points_from_xy(train_set.lon, train_set.lat, crs='EPSG:4326'))\n",
    "    val_set_g = geopandas.GeoDataFrame(val_set.copy(), geometry=geopandas.points_from_xy(val_set.lon, val_set.lat, crs='EPSG:4326'))\n",
    "\n",
    "    val_set_g.rename(columns = {'path':'val_path'}, inplace = True)\n",
    "    train_set_g.rename(columns = {'path':'train_path'}, inplace = True)\n",
    "\n",
    "\n",
    "    res = ckdnearest(val_set_g, train_set_g)\n",
    "\n",
    "\n",
    "    print('Found {} closeby points.'.format(len(res[res['dist'] < DISTANCE_THRESHOLD])))\n",
    "\n",
    "    # add images that are too close to each other to the same set randomly\n",
    "    old_val_len = len(val_set)\n",
    "    old_train_len = len(train_set)\n",
    "\n",
    "    for i,r in res[res['dist'] < .001].iterrows():\n",
    "        val_row = val_set[val_set['path'] == r['val_path']]\n",
    "        train_row = train_set[train_set['path'] == r['train_path']]\n",
    "        \n",
    "        which = random.choice(['train', 'val'])\n",
    "        if which == 'train':\n",
    "            val_set = val_set.drop(val_row.index)\n",
    "            train_set = pd.concat([train_set, val_row])\n",
    "        elif which == 'val':\n",
    "            train_set = train_set.drop(train_row.index)\n",
    "            val_set = pd.concat([val_set, train_row])\n",
    "        \n",
    "        assert old_train_len - len(train_set) == len(val_set) - old_val_len, 'lengths are incorrect'\n",
    "\n",
    "    \n",
    "    \n",
    "\n",
    "    return train_set, val_set, len(res[res['dist'] < DISTANCE_THRESHOLD])"
   ]
  },
  {
   "cell_type": "code",
   "execution_count": 57,
   "metadata": {},
   "outputs": [
    {
     "name": "stdout",
     "output_type": "stream",
     "text": [
      "Found 13 closeby points.\n",
      "Found 3 closeby points.\n",
      "Found 2 closeby points.\n",
      "Found 2 closeby points.\n",
      "Found 3 closeby points.\n",
      "Found 4 closeby points.\n",
      "Found 4 closeby points.\n",
      "Found 3 closeby points.\n",
      "Found 2 closeby points.\n",
      "Found 0 closeby points.\n"
     ]
    }
   ],
   "source": [
    "# run till 0 closeby points are found \n",
    "closeby = -1\n",
    "while closeby != 0:\n",
    "    train_set, val_set, closeby = filter_closeby_points(train_set, val_set)"
   ]
  },
  {
   "cell_type": "code",
   "execution_count": 67,
   "metadata": {},
   "outputs": [
    {
     "name": "stderr",
     "output_type": "stream",
     "text": [
      "100%|██████████| 383/383 [00:00<00:00, 1702.02it/s]\n",
      "100%|██████████| 93/93 [00:00<00:00, 1695.59it/s]\n"
     ]
    }
   ],
   "source": [
    "# converts google cloud labels to yolo format\n",
    "def convert_to_yolo(xmin, ymin, xmax, ymax):\n",
    "    xcenter = (xmax + xmin) / 2 \n",
    "    ycenter = (ymax + ymin) / 2\n",
    "\n",
    "    width = xmax - xmin \n",
    "    height = ymax - ymin \n",
    "\n",
    "    return xcenter, ycenter, width, height \n",
    "\n",
    "# open the classes to index dictionary\n",
    "classes_dict = {}\n",
    "with open('../street2sat_utils/crop_info/classes.txt') as classes_file: \n",
    "    for i, line in enumerate(classes_file):\n",
    "        classes_dict[line.strip()] = i\n",
    "\n",
    "\n",
    "# gets bounding boxes for each set in yolo format for the dataset\n",
    "def get_bounding_boxes_for_df(dataset, bounding_box_df, classes_dict):\n",
    "    bounding_box_list = []\n",
    "    for i,image in tqdm(dataset.iterrows(), total = dataset.shape[0]):\n",
    "        annotations_for_img = bounding_box_df[bounding_box_df['path'] == image['path']]\n",
    "        boxes = ''\n",
    "        for _,row in annotations_for_img.iterrows():\n",
    "            xcenter, ycenter, width, height = convert_to_yolo(row['xMin'], row['yMin'], row['xMax'], row['yMax'])\n",
    "            obj_class = classes_dict[row['displayName']]\n",
    "            boxes += f'{obj_class} {xcenter} {ycenter} {width} {height}\\n'\n",
    "\n",
    "        bounding_box_list.append(boxes)\n",
    "\n",
    "    return bounding_box_list\n",
    "\n",
    "\n",
    "train_set['bounding_boxes'] = get_bounding_boxes_for_df(train_set, bounding_box_df, classes_dict)\n",
    "val_set['bounding_boxes'] = get_bounding_boxes_for_df(val_set, bounding_box_df, classes_dict)\n"
   ]
  },
  {
   "cell_type": "code",
   "execution_count": 69,
   "metadata": {},
   "outputs": [
    {
     "data": {
      "text/html": [
       "<div>\n",
       "<style scoped>\n",
       "    .dataframe tbody tr th:only-of-type {\n",
       "        vertical-align: middle;\n",
       "    }\n",
       "\n",
       "    .dataframe tbody tr th {\n",
       "        vertical-align: top;\n",
       "    }\n",
       "\n",
       "    .dataframe thead th {\n",
       "        text-align: right;\n",
       "    }\n",
       "</style>\n",
       "<table border=\"1\" class=\"dataframe\">\n",
       "  <thead>\n",
       "    <tr style=\"text-align: right;\">\n",
       "      <th></th>\n",
       "      <th>path</th>\n",
       "      <th>cc</th>\n",
       "      <th>lat</th>\n",
       "      <th>lon</th>\n",
       "      <th>bounding_boxes</th>\n",
       "    </tr>\n",
       "  </thead>\n",
       "  <tbody>\n",
       "    <tr>\n",
       "      <th>413</th>\n",
       "      <td>gs://street2sat-uploaded/KENYA/2021_08_05_T2/1...</td>\n",
       "      <td>KE</td>\n",
       "      <td>0.789159</td>\n",
       "      <td>34.871739</td>\n",
       "      <td></td>\n",
       "    </tr>\n",
       "    <tr>\n",
       "      <th>84</th>\n",
       "      <td>gs://street2sat-uploaded/KENYA/2021-07-05-T1/G...</td>\n",
       "      <td>KE</td>\n",
       "      <td>-0.171622</td>\n",
       "      <td>35.975577</td>\n",
       "      <td>5 0.849385529756546 0.6006783843040466 0.06457...</td>\n",
       "    </tr>\n",
       "    <tr>\n",
       "      <th>423</th>\n",
       "      <td>gs://street2sat-uploaded/Uganda/2021-06-23_lut...</td>\n",
       "      <td>UG</td>\n",
       "      <td>-0.342029</td>\n",
       "      <td>30.113613</td>\n",
       "      <td>2 0.6035992217898832 0.3190661478599222 0.0671...</td>\n",
       "    </tr>\n",
       "    <tr>\n",
       "      <th>64</th>\n",
       "      <td>gs://street2sat-uploaded/USA/2021-08-20-cropto...</td>\n",
       "      <td>US</td>\n",
       "      <td>40.450689</td>\n",
       "      <td>-85.393629</td>\n",
       "      <td></td>\n",
       "    </tr>\n",
       "    <tr>\n",
       "      <th>435</th>\n",
       "      <td>gs://street2sat-uploaded/KENYA/2021_07_20_T2/1...</td>\n",
       "      <td>KE</td>\n",
       "      <td>0.129701</td>\n",
       "      <td>34.313333</td>\n",
       "      <td>5 0.40175097276264593 0.5979247730220493 0.058...</td>\n",
       "    </tr>\n",
       "  </tbody>\n",
       "</table>\n",
       "</div>"
      ],
      "text/plain": [
       "                                                  path  cc        lat  \\\n",
       "413  gs://street2sat-uploaded/KENYA/2021_08_05_T2/1...  KE   0.789159   \n",
       "84   gs://street2sat-uploaded/KENYA/2021-07-05-T1/G...  KE  -0.171622   \n",
       "423  gs://street2sat-uploaded/Uganda/2021-06-23_lut...  UG  -0.342029   \n",
       "64   gs://street2sat-uploaded/USA/2021-08-20-cropto...  US  40.450689   \n",
       "435  gs://street2sat-uploaded/KENYA/2021_07_20_T2/1...  KE   0.129701   \n",
       "\n",
       "           lon                                     bounding_boxes  \n",
       "413  34.871739                                                     \n",
       "84   35.975577  5 0.849385529756546 0.6006783843040466 0.06457...  \n",
       "423  30.113613  2 0.6035992217898832 0.3190661478599222 0.0671...  \n",
       "64  -85.393629                                                     \n",
       "435  34.313333  5 0.40175097276264593 0.5979247730220493 0.058...  "
      ]
     },
     "execution_count": 69,
     "metadata": {},
     "output_type": "execute_result"
    }
   ],
   "source": [
    "train_set.sample(5)"
   ]
  },
  {
   "cell_type": "markdown",
   "metadata": {},
   "source": [
    "#### Track updates to train.csv and val.csv in google cloud \n",
    "- Add and commit changes by doing: \n",
    "\n",
    "``` \n",
    "dvc commit data/train.csv.dvc\n",
    "dvc commit data/val.csv.dvc\n",
    "dvc push data/train.csv.dvc\n",
    "dvc push data/val.csv.dvc\n",
    "\n",
    "git add data/train.csv.dvc\n",
    "git add data/val.csv.dvc\n",
    "git commit -m \"changed train and val\"\n",
    "git push\n",
    "```\n"
   ]
  },
  {
   "cell_type": "code",
   "execution_count": 70,
   "metadata": {},
   "outputs": [],
   "source": [
    "# upload from data/train.csv and data/val.csv \n",
    "train_set.to_csv('../data/train.csv')\n",
    "val_set.to_csv('../data/val.csv')"
   ]
  },
  {
   "cell_type": "code",
   "execution_count": null,
   "metadata": {},
   "outputs": [],
   "source": []
  }
 ],
 "metadata": {
  "interpreter": {
   "hash": "18299326acd67c3347301aa46e10944c681f8646864aedc6c136bb4609b8c46d"
  },
  "kernelspec": {
   "display_name": "Python 3.7.11 ('lacuna')",
   "language": "python",
   "name": "python3"
  },
  "language_info": {
   "codemirror_mode": {
    "name": "ipython",
    "version": 3
   },
   "file_extension": ".py",
   "mimetype": "text/x-python",
   "name": "python",
   "nbconvert_exporter": "python",
   "pygments_lexer": "ipython3",
   "version": "3.7.11"
  },
  "orig_nbformat": 4
 },
 "nbformat": 4,
 "nbformat_minor": 2
}

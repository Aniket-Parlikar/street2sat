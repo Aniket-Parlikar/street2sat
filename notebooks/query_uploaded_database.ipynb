{
 "cells": [
  {
   "cell_type": "code",
   "execution_count": 1,
   "metadata": {},
   "outputs": [],
   "source": [
    "from google.cloud import firestore\n",
    "from google.cloud import storage, aiplatform\n",
    "import pandas as pd\n",
    "pd.set_option('display.max_columns', 500)\n",
    "pd.set_option('display.width', 1000)\n",
    "from yolov5 import detect\n",
    "import sys\n",
    "import yaml\n",
    "import os\n",
    "import shutil\n",
    "import reverse_geocoder as rg\n",
    "import random\n",
    "from tqdm import tqdm\n",
    "import collections\n",
    "from datetime import datetime"
   ]
  },
  {
   "cell_type": "markdown",
   "metadata": {},
   "source": [
    "#### Connect to Gcloud"
   ]
  },
  {
   "cell_type": "code",
   "execution_count": 2,
   "metadata": {},
   "outputs": [],
   "source": [
    "# Initialize connections to cloud storage and database\n",
    "# !gcloud auth login\n",
    "# !gcloud config set account <>\n",
    "# !gcloud config set project bsos-geog-harvest1\n",
    "# !gcloud auth application-default login\n",
    "client = storage.Client()\n",
    "db = firestore.Client()\n",
    "gcloud_labeling_bucket_str = 'street2sat-gcloud-labeling'\n",
    "gcloud_uploaded_bucket_str = 'street2sat-uploaded'\n",
    "coll = db.collection(\"street2sat\")"
   ]
  },
  {
   "cell_type": "code",
   "execution_count": 3,
   "metadata": {},
   "outputs": [
    {
     "data": {
      "text/plain": [
       "{'tobacco': 0,\n",
       " 'coffee': 1,\n",
       " 'banana': 2,\n",
       " 'tea': 3,\n",
       " 'beans': 4,\n",
       " 'maize': 5,\n",
       " 'sorghum': 6,\n",
       " 'millet': 7,\n",
       " 'sweet_potatoes': 8,\n",
       " 'cassava': 9,\n",
       " 'rice': 10,\n",
       " 'sugarcane': 11,\n",
       " 'soybean': 12}"
      ]
     },
     "execution_count": 3,
     "metadata": {},
     "output_type": "execute_result"
    }
   ],
   "source": [
    "region_to_folder = {'KE': 'KENYA', 'US': 'USA', 'UG': 'Uganda', '':''}\n",
    "\n",
    "gcloud_uploaded_bucket = client.bucket(gcloud_uploaded_bucket_str)\n",
    "\n",
    "\n",
    "classes_dict = {}\n",
    "with open('../street2sat_utils/crop_info/classes.txt') as classes_file: \n",
    "    for i, line in enumerate(classes_file):\n",
    "        classes_dict[line.strip()] = i\n",
    "classes_dict\n"
   ]
  },
  {
   "cell_type": "markdown",
   "metadata": {},
   "source": [
    "### Steps: \n",
    "1. Select if you want to query for crop, region, or both\n",
    "    -  If querying for region, pull random images from the specified folder in street2sat uploaded bucket\n",
    "    -  If querying for crop, pull random images from all of street2sat uploaded \n",
    "2. Check if image is already in street2sat data labeling bucket \n",
    "3. Save images to local directory \n",
    "4. Run detect.py on the images --> change conf_thres, and iou_thres to get a good number of detections\n",
    "5. Analyze those dections and if they look good then create data labeling task with those images \n",
    "\n",
    "*** Note *** if rerunning to get new images, make sure you delete the dataset folder and the runs/detect/exp folder. "
   ]
  },
  {
   "cell_type": "code",
   "execution_count": 4,
   "metadata": {},
   "outputs": [
    {
     "name": "stderr",
     "output_type": "stream",
     "text": [
      "1278791it [04:16, 4982.19it/s] \n"
     ]
    }
   ],
   "source": [
    "query_for_crop = 'banana' # choose from any of the available crops\n",
    "query_for_region = 'UG' # choose from country code find in split_labels.ipynb \n",
    "num_of_images = 250 # num images to search \n",
    "\n",
    "\n",
    "# yaml file describing data for trained model\n",
    "folder = '/gpfs/data1/cmongp1/mpaliyam/street2sat/data'\n",
    "dataset_name = 'DATASET_2022-02-28_01:13:06_474346'\n",
    "yaml_file = os.path.join(folder, dataset_name, 'data_info.yaml')\n",
    "\n",
    "weights= '/gpfs/data1/cmongp1/mpaliyam/street2sat/yolov5/runs/train/exp18/weights/best.pt'   # model.pt path(s)\n",
    "source= '/gpfs/data1/cmongp1/mpaliyam/street2sat/data' # file/dir/URL/glob, 0 for webcam\n",
    "data = yaml_file # dataset.yaml path\n",
    "imgsz= 640  # inference size (height, width)\n",
    "conf_thres = 0.05  # confidence threshold\n",
    "iou_thres = 0.05  # NMS IOU threshold\n",
    "max_det = 1000  # maximum detections per image\n",
    "project = 'runs/detect'  # save results to project/name\n",
    "name ='exp'  # save results to project/name\n",
    "\n",
    "\n",
    "\n",
    "save_dir = os.path.join(source, f'crop_{query_for_crop}_region_{query_for_region}') # will be saved to save dir \n",
    "\n",
    "# Load in all available paths for given prefix, this will take 3 minutes or so\n",
    "all_paths = [blob.name for blob in tqdm(client.list_blobs(gcloud_uploaded_bucket_str, prefix=f\"{region_to_folder[query_for_region]}\"))]  \n",
    "random.shuffle(all_paths)\n",
    "\n"
   ]
  },
  {
   "cell_type": "code",
   "execution_count": 5,
   "metadata": {},
   "outputs": [
    {
     "name": "stderr",
     "output_type": "stream",
     "text": [
      "Get already labelled: 100%|██████████| 23/23 [00:08<00:00,  2.65it/s]\n"
     ]
    },
    {
     "data": {
      "text/plain": [
       "'250 images left'"
      ]
     },
     "execution_count": 5,
     "metadata": {},
     "output_type": "execute_result"
    }
   ],
   "source": [
    "def get_images_already_being_labelled():\n",
    "    \"\"\"Gets images already labelled\"\"\"\n",
    "    images_already_being_labelled = []\n",
    "    csv_names = [blob.name for blob in client.list_blobs(gcloud_labeling_bucket_str, prefix=\"\") if blob.name.endswith(\".csv\")]\n",
    "\n",
    "    for csv_name in tqdm(csv_names, desc=\"Get already labelled\"):\n",
    "        uris = pd.read_csv(f\"gs://{gcloud_labeling_bucket_str}/{csv_name}\", header=None, sep=\"\\n\")[0]\n",
    "        images_already_being_labelled += uris.to_list()\n",
    "\n",
    "    # Ensure there are no duplicates in images already being labelled\n",
    "    dupes = [item for item, count in collections.Counter(images_already_being_labelled).items() if count > 1]\n",
    "    dupes.remove('0') # An index of 0 was erroneously output in previous csv\n",
    "    assert len(dupes) == 0, \"Found duplicates in images being labelled. One of the labeling tasks needs to be removed.\"\n",
    "    return set(images_already_being_labelled)\n",
    "\n",
    "# randomly sample images from all paths available\n",
    "potential_images = random.sample(all_paths, num_of_images)\n",
    "# filter by already labeled images \n",
    "already_labeled = get_images_already_being_labelled()\n",
    "for image in potential_images: \n",
    "    if image in already_labeled: \n",
    "        potential_images.remove(image)\n",
    "        print(f\"{image} already being labeled, removing.\")\n",
    "        \n",
    "str(len(potential_images)) + ' images left'"
   ]
  },
  {
   "cell_type": "code",
   "execution_count": 6,
   "metadata": {},
   "outputs": [],
   "source": [
    "# create directory to save images to \n",
    "if not os.path.exists(save_dir):\n",
    "    os.makedirs(save_dir)\n",
    "# download images \n",
    "for image in potential_images: \n",
    "    blob = gcloud_uploaded_bucket.blob(image)\n",
    "    blob.download_to_filename(os.path.join(save_dir, image.replace('/', '*$')))\n"
   ]
  },
  {
   "cell_type": "markdown",
   "metadata": {},
   "source": [
    "#### Run detect.py \n",
    "\n",
    "Configure conf_thres and iou_thres here to adjust the amount/quality of bounding boxes returned. "
   ]
  },
  {
   "cell_type": "code",
   "execution_count": 7,
   "metadata": {},
   "outputs": [
    {
     "name": "stdout",
     "output_type": "stream",
     "text": [
      "\u001b[34m\u001b[1mdetect: \u001b[0mweights=['/gpfs/data1/cmongp1/mpaliyam/street2sat/yolov5/runs/train/exp18/weights/best.pt'], source=/gpfs/data1/cmongp1/mpaliyam/street2sat/data/crop_banana_region_UG, imgsz=[640, 640], conf_thres=0.05, iou_thres=0.05, max_det=1000, device=, view_img=False, save_txt=True, save_conf=True, save_crop=True, nosave=False, classes=[2], agnostic_nms=False, augment=False, visualize=False, update=False, project=runs/detect, name=exp, exist_ok=True, line_thickness=3, hide_labels=False, hide_conf=False, half=False, dnn=False\n",
      "INFO:yolov5.utils.torch_utils:YOLOv5 🚀 2022-2-16 torch 1.10.2+cu102 CUDA:0 (Tesla V100-PCIE-16GB, 16160.5MB)\n",
      "\n",
      "INFO:models.yolo:Fusing layers... \n",
      "INFO:yolov5.utils.torch_utils:Model Summary: 369 layers, 20919810 parameters, 0 gradients, 48.2 GFLOPs\n"
     ]
    },
    {
     "name": "stderr",
     "output_type": "stream",
     "text": [
      "/home/paliyamm/.conda/envs/lacuna/lib/python3.7/site-packages/torch/functional.py:445: UserWarning: torch.meshgrid: in an upcoming release, it will be required to pass the indexing argument. (Triggered internally at  ../aten/src/ATen/native/TensorShape.cpp:2157.)\n",
      "  return _VF.meshgrid(tensors, **kwargs)  # type: ignore[attr-defined]\n"
     ]
    },
    {
     "name": "stdout",
     "output_type": "stream",
     "text": [
      "image 1/250 /gpfs/data1/cmongp1/mpaliyam/street2sat/data/crop_banana_region_UG/Uganda*$1829244*$2020-06-21_Edrick_21_24*$104GOPRO*$G0048016.JPG: 480x640 Done. (0.012s)\n",
      "image 2/250 /gpfs/data1/cmongp1/mpaliyam/street2sat/data/crop_banana_region_UG/Uganda*$1829244*$2020-06-21_Edrick_21_24*$106GOPRO*$G0049536.JPG: 480x640 Done. (0.011s)\n",
      "image 3/250 /gpfs/data1/cmongp1/mpaliyam/street2sat/data/crop_banana_region_UG/Uganda*$1829244*$2020-06-21_Edrick_21_24*$114GOPRO*$G0077932.JPG: 480x640 3 bananas, Done. (0.012s)\n",
      "image 4/250 /gpfs/data1/cmongp1/mpaliyam/street2sat/data/crop_banana_region_UG/Uganda*$1829244*$2020-06-21_Edrick_21_24*$120GOPRO*$G0092633.JPG: 480x640 4 bananas, Done. (0.011s)\n",
      "image 5/250 /gpfs/data1/cmongp1/mpaliyam/street2sat/data/crop_banana_region_UG/Uganda*$1829244*$2020-06-21_Edrick_21_24*$122GOPRO*$G0094404.JPG: 480x640 2 bananas, Done. (0.011s)\n",
      "image 6/250 /gpfs/data1/cmongp1/mpaliyam/street2sat/data/crop_banana_region_UG/Uganda*$1829244*$2020-06-21_Edrick_21_24*$123GOPRO*$G0105206.JPG: 480x640 2 bananas, Done. (0.011s)\n",
      "image 7/250 /gpfs/data1/cmongp1/mpaliyam/street2sat/data/crop_banana_region_UG/Uganda*$1829244*$2020-06-21_Edrick_21_24*$125GOPRO*$G0107921.JPG: 480x640 3 bananas, Done. (0.010s)\n",
      "image 8/250 /gpfs/data1/cmongp1/mpaliyam/street2sat/data/crop_banana_region_UG/Uganda*$1829244*$2020-06-21_Edrick_21_24*$2020-06-21_Edrick_21_24*$101GOPRO*$G0044446.JPG: 480x640 Done. (0.010s)\n",
      "image 9/250 /gpfs/data1/cmongp1/mpaliyam/street2sat/data/crop_banana_region_UG/Uganda*$1829244*$2020-06-21_Edrick_21_24*$2020-06-21_Edrick_21_24*$121GOPRO*$G0093776.JPG: 480x640 3 bananas, Done. (0.010s)\n",
      "image 10/250 /gpfs/data1/cmongp1/mpaliyam/street2sat/data/crop_banana_region_UG/Uganda*$1829244*$2020-06-21_Edrick_21_24*$2020-06-21_Edrick_21_24*$124GOPRO*$G0106839.JPG: 480x640 1 banana, Done. (0.009s)\n",
      "image 11/250 /gpfs/data1/cmongp1/mpaliyam/street2sat/data/crop_banana_region_UG/Uganda*$1829244*$2020-06-21_Edrick_21_24*$2020-06-21_Edrick_21_24*$142GOPRO*$G0163870.JPG: 480x640 Done. (0.010s)\n",
      "image 12/250 /gpfs/data1/cmongp1/mpaliyam/street2sat/data/crop_banana_region_UG/Uganda*$1829244*$2020-06-21_Edrick_21_24*$2020-06-21_Edrick_21_24*$154GOPRO*$G0184972.JPG: 480x640 2 bananas, Done. (0.010s)\n",
      "image 13/250 /gpfs/data1/cmongp1/mpaliyam/street2sat/data/crop_banana_region_UG/Uganda*$1829244*$2020-06-21_Edrick_21_24*$2020-06-21_Edrick_21_24*$162GOPRO*$G0211143.JPG: 480x640 2 bananas, Done. (0.010s)\n",
      "image 14/250 /gpfs/data1/cmongp1/mpaliyam/street2sat/data/crop_banana_region_UG/Uganda*$1829244*$2020-06-22_Edrick*$102GOPRO*$G0052773.JPG: 480x640 Done. (0.010s)\n",
      "image 15/250 /gpfs/data1/cmongp1/mpaliyam/street2sat/data/crop_banana_region_UG/Uganda*$1829244*$2020-06-22_Edrick*$2020-06-22_Edrick*$103GOPRO*$G0054043.JPG: 480x640 1 banana, Done. (0.011s)\n",
      "image 16/250 /gpfs/data1/cmongp1/mpaliyam/street2sat/data/crop_banana_region_UG/Uganda*$1829244*$2020-06-22_Edrick*$2020-06-22_Edrick*$107GOPRO*$G0097875.JPG: 480x640 1 banana, Done. (0.010s)\n",
      "image 17/250 /gpfs/data1/cmongp1/mpaliyam/street2sat/data/crop_banana_region_UG/Uganda*$1829244*$2020-06-23_Edrick*$2020-06-23_Edrick*$109GOPRO*$G0112073.JPG: 480x640 Done. (0.011s)\n",
      "image 18/250 /gpfs/data1/cmongp1/mpaliyam/street2sat/data/crop_banana_region_UG/Uganda*$1829244*$2020-06-23_Edrick_2*$2020-06-23_Edrick_2*$100GOPRO*$G0099549.JPG: 480x640 Done. (0.016s)\n",
      "image 19/250 /gpfs/data1/cmongp1/mpaliyam/street2sat/data/crop_banana_region_UG/Uganda*$1829244*$2020-06-23_Edrick_2*$2020-06-23_Edrick_2*$102GOPRO*$G0150939.JPG: 480x640 Done. (0.017s)\n",
      "image 20/250 /gpfs/data1/cmongp1/mpaliyam/street2sat/data/crop_banana_region_UG/Uganda*$1829244*$2020-06-23_Edrick_2*$2020-06-23_Edrick_2*$111GOPRO*$G0267030.JPG: 480x640 Done. (0.009s)\n",
      "image 21/250 /gpfs/data1/cmongp1/mpaliyam/street2sat/data/crop_banana_region_UG/Uganda*$1829244*$2020-06-23_Edrick_2*$2020-06-23_Edrick_2*$111GOPRO*$G0267076.JPG: 480x640 Done. (0.014s)\n",
      "image 22/250 /gpfs/data1/cmongp1/mpaliyam/street2sat/data/crop_banana_region_UG/Uganda*$1829244*$2020-06-23_Edrick_23_24*$102GOPRO*$G0014483.JPG: 480x640 Done. (0.010s)\n",
      "image 23/250 /gpfs/data1/cmongp1/mpaliyam/street2sat/data/crop_banana_region_UG/Uganda*$1829244*$2020-06-23_Edrick_23_24*$102GOPRO*$G0014927.JPG: 480x640 Done. (0.012s)\n",
      "image 24/250 /gpfs/data1/cmongp1/mpaliyam/street2sat/data/crop_banana_region_UG/Uganda*$1829244*$2020-06-23_Edrick_23_24*$2020-06-23_Edrick_23_24*$101GOPRO*$G0013736.JPG: 480x640 Done. (0.012s)\n",
      "image 25/250 /gpfs/data1/cmongp1/mpaliyam/street2sat/data/crop_banana_region_UG/Uganda*$1829244*$2020-06-23_Edrick_23_24*$2020-06-23_Edrick_23_24*$110GOPRO*$G0112673.JPG: 480x640 Done. (0.011s)\n",
      "image 26/250 /gpfs/data1/cmongp1/mpaliyam/street2sat/data/crop_banana_region_UG/Uganda*$1829244*$2020-06-23_Edrick_23_24*$2020-06-23_Edrick_23_24*$111GOPRO*$G0113009.JPG: 480x640 3 bananas, Done. (0.009s)\n",
      "image 27/250 /gpfs/data1/cmongp1/mpaliyam/street2sat/data/crop_banana_region_UG/Uganda*$1829244*$2020-06-23_Edrick_23_24*$2020-06-23_Edrick_23_24*$112GOPRO*$G0144992.JPG: 480x640 Done. (0.013s)\n",
      "image 28/250 /gpfs/data1/cmongp1/mpaliyam/street2sat/data/crop_banana_region_UG/Uganda*$1829244*$2020-06-23_Edrick_23_24*$2020-06-23_Edrick_23_24*$116GOPRO*$G0157993.JPG: 480x640 Done. (0.016s)\n",
      "image 29/250 /gpfs/data1/cmongp1/mpaliyam/street2sat/data/crop_banana_region_UG/Uganda*$1829244*$2020-06-23_Edrick_23_24*$2020-06-23_Edrick_23_24*$119GOPRO*$G0170867.JPG: 480x640 Done. (0.013s)\n",
      "image 30/250 /gpfs/data1/cmongp1/mpaliyam/street2sat/data/crop_banana_region_UG/Uganda*$1829244*$2020-06-23_Edrick_23_24*$2020-06-23_Edrick_23_24*$120GOPRO*$G0171559.JPG: 480x640 Done. (0.009s)\n",
      "image 31/250 /gpfs/data1/cmongp1/mpaliyam/street2sat/data/crop_banana_region_UG/Uganda*$1829244*$2020-06-24_Edrick*$103GOPRO*$G0062464.JPG: 480x640 1 banana, Done. (0.013s)\n",
      "image 32/250 /gpfs/data1/cmongp1/mpaliyam/street2sat/data/crop_banana_region_UG/Uganda*$1829244*$2020-06-24_Edrick*$2020-06-24_Edrick*$101GOPRO*$G0030963.JPG: 480x640 Done. (0.010s)\n",
      "image 33/250 /gpfs/data1/cmongp1/mpaliyam/street2sat/data/crop_banana_region_UG/Uganda*$1829244*$2020-06-24_Edrick*$2020-06-24_Edrick*$105GOPRO*$G0094443.JPG: 480x640 Done. (0.012s)\n",
      "image 34/250 /gpfs/data1/cmongp1/mpaliyam/street2sat/data/crop_banana_region_UG/Uganda*$1829244*$2020-06-24_Edrick_2*$101GOPRO*$G0030987.JPG: 480x640 Done. (0.011s)\n",
      "image 35/250 /gpfs/data1/cmongp1/mpaliyam/street2sat/data/crop_banana_region_UG/Uganda*$1829244*$2020-06-24_Edrick_2*$110GOPRO*$G0069038.JPG: 480x640 Done. (0.011s)\n",
      "image 36/250 /gpfs/data1/cmongp1/mpaliyam/street2sat/data/crop_banana_region_UG/Uganda*$1829244*$2020-06-24_Edrick_2*$115GOPRO*$G0113308.JPG: 480x640 Done. (0.011s)\n",
      "image 37/250 /gpfs/data1/cmongp1/mpaliyam/street2sat/data/crop_banana_region_UG/Uganda*$1829244*$2020-06-24_Edrick_2*$124GOPRO*$G0181432.JPG: 480x640 Done. (0.011s)\n",
      "image 38/250 /gpfs/data1/cmongp1/mpaliyam/street2sat/data/crop_banana_region_UG/Uganda*$1829244*$2020-06-24_Edrick_2*$2020-06-24_Edrick_2*$105GOPRO*$G0044285.JPG: 480x640 Done. (0.012s)\n",
      "image 39/250 /gpfs/data1/cmongp1/mpaliyam/street2sat/data/crop_banana_region_UG/Uganda*$1829244*$2020-06-24_Edrick_2*$2020-06-24_Edrick_2*$113GOPRO*$G0101239.JPG: 480x640 3 bananas, Done. (0.012s)\n",
      "image 40/250 /gpfs/data1/cmongp1/mpaliyam/street2sat/data/crop_banana_region_UG/Uganda*$1829244*$2020-06-24_Edrick_2*$2020-06-24_Edrick_2*$118GOPRO*$G0146123.JPG: 480x640 1 banana, Done. (0.015s)\n",
      "image 41/250 /gpfs/data1/cmongp1/mpaliyam/street2sat/data/crop_banana_region_UG/Uganda*$1829244*$2020-06-24_Edrick_2*$2020-06-24_Edrick_2*$118GOPRO*$G0146129.JPG: 480x640 Done. (0.013s)\n",
      "image 42/250 /gpfs/data1/cmongp1/mpaliyam/street2sat/data/crop_banana_region_UG/Uganda*$1829244*$2020-06-24_Edrick_2*$2020-06-24_Edrick_2*$118GOPRO*$G0166465.JPG: 480x640 Done. (0.009s)\n",
      "image 43/250 /gpfs/data1/cmongp1/mpaliyam/street2sat/data/crop_banana_region_UG/Uganda*$1829244*$2020-06-24_Edrick_2*$2020-06-24_Edrick_2*$119GOPRO*$G0167727.JPG: 480x640 Done. (0.012s)\n",
      "image 44/250 /gpfs/data1/cmongp1/mpaliyam/street2sat/data/crop_banana_region_UG/Uganda*$1829244*$2020-06-24_Edrick_2*$2020-06-24_Edrick_2*$120GOPRO*$G0168077.JPG: 480x640 1 banana, Done. (0.011s)\n",
      "image 45/250 /gpfs/data1/cmongp1/mpaliyam/street2sat/data/crop_banana_region_UG/Uganda*$1829244*$2020-06-24_Edrick_2*$2020-06-24_Edrick_2*$124GOPRO*$G0181535.JPG: 480x640 1 banana, Done. (0.012s)\n",
      "image 46/250 /gpfs/data1/cmongp1/mpaliyam/street2sat/data/crop_banana_region_UG/Uganda*$1829244*$2020-06-25_Edrick*$100GOPRO*$G0054150.JPG: 480x640 Done. (0.014s)\n",
      "image 47/250 /gpfs/data1/cmongp1/mpaliyam/street2sat/data/crop_banana_region_UG/Uganda*$1829244*$2020-06-25_Edrick*$103GOPRO*$G0086449.JPG: 480x640 Done. (0.014s)\n",
      "image 48/250 /gpfs/data1/cmongp1/mpaliyam/street2sat/data/crop_banana_region_UG/Uganda*$1829244*$2020-06-25_Edrick*$114GOPRO*$G0207040.JPG: 480x640 Done. (0.012s)\n",
      "image 49/250 /gpfs/data1/cmongp1/mpaliyam/street2sat/data/crop_banana_region_UG/Uganda*$1829244*$2020-06-25_Edrick*$2020-06-25_Edrick*$105GOPRO*$G0118488.JPG: 480x640 3 bananas, Done. (0.011s)\n",
      "image 50/250 /gpfs/data1/cmongp1/mpaliyam/street2sat/data/crop_banana_region_UG/Uganda*$1829244*$2020-06-25_Edrick*$2020-06-25_Edrick*$107GOPRO*$G0130589.JPG: 480x640 Done. (0.012s)\n",
      "image 51/250 /gpfs/data1/cmongp1/mpaliyam/street2sat/data/crop_banana_region_UG/Uganda*$1829244*$2020-06-25_Edrick*$2020-06-25_Edrick*$111GOPRO*$G0184084.JPG: 480x640 Done. (0.010s)\n",
      "image 52/250 /gpfs/data1/cmongp1/mpaliyam/street2sat/data/crop_banana_region_UG/Uganda*$1829244*$2020-06-25_Edrick_2*$103GOPRO*$G0092130.JPG: 480x640 Done. (0.012s)\n",
      "image 53/250 /gpfs/data1/cmongp1/mpaliyam/street2sat/data/crop_banana_region_UG/Uganda*$1829244*$2020-06-25_Edrick_2*$110GOPRO*$G0199866.JPG: 480x640 3 bananas, Done. (0.012s)\n",
      "image 54/250 /gpfs/data1/cmongp1/mpaliyam/street2sat/data/crop_banana_region_UG/Uganda*$1829244*$2020-06-25_Edrick_2*$2020-06-25_Edrick_2*$105GOPRO*$G0124074.JPG: 480x640 Done. (0.009s)\n",
      "image 55/250 /gpfs/data1/cmongp1/mpaliyam/street2sat/data/crop_banana_region_UG/Uganda*$1829244*$2020-06-26_Edrick*$2020-06-26_Edrick*$101GOPRO*$G0027798.JPG: 480x640 Done. (0.011s)\n",
      "image 56/250 /gpfs/data1/cmongp1/mpaliyam/street2sat/data/crop_banana_region_UG/Uganda*$1829244*$2020-06-26_Edrick*$2020-06-26_Edrick*$112GOPRO*$G0118237.JPG: 480x640 Done. (0.011s)\n",
      "image 57/250 /gpfs/data1/cmongp1/mpaliyam/street2sat/data/crop_banana_region_UG/Uganda*$1829244*$2020-06-26_Edrick*$2020-06-26_Edrick*$118GOPRO*$G0183209.JPG: 480x640 Done. (0.014s)\n",
      "image 58/250 /gpfs/data1/cmongp1/mpaliyam/street2sat/data/crop_banana_region_UG/Uganda*$1829244*$2020-06-26_Edrick*$2020-06-26_Edrick*$118GOPRO*$G0183452.JPG: 480x640 Done. (0.010s)\n",
      "image 59/250 /gpfs/data1/cmongp1/mpaliyam/street2sat/data/crop_banana_region_UG/Uganda*$1829244*$2020-06-26_Edrick*$2020-06-26_Edrick*$127GOPRO*$G0281093.JPG: 480x640 Done. (0.010s)\n",
      "image 60/250 /gpfs/data1/cmongp1/mpaliyam/street2sat/data/crop_banana_region_UG/Uganda*$1829244*$2020-06-26_Edrick*$2020-06-26_Edrick*$128GOPRO*$G0292981.JPG: 480x640 Done. (0.010s)\n",
      "image 61/250 /gpfs/data1/cmongp1/mpaliyam/street2sat/data/crop_banana_region_UG/Uganda*$1829244*$2020-06-28_Edrick*$107GOPRO*$G0071360.JPG: 480x640 Done. (0.011s)\n",
      "image 62/250 /gpfs/data1/cmongp1/mpaliyam/street2sat/data/crop_banana_region_UG/Uganda*$1829244*$2020-06-28_Edrick*$108GOPRO*$G0092483.JPG: 480x640 Done. (0.012s)\n",
      "image 63/250 /gpfs/data1/cmongp1/mpaliyam/street2sat/data/crop_banana_region_UG/Uganda*$1829244*$2020-06-28_Edrick*$108GOPRO*$G0092927.JPG: 480x640 2 bananas, Done. (0.010s)\n",
      "image 64/250 /gpfs/data1/cmongp1/mpaliyam/street2sat/data/crop_banana_region_UG/Uganda*$1829244*$2020-06-28_Edrick*$112GOPRO*$G0186758.JPG: 480x640 Done. (0.010s)\n",
      "image 65/250 /gpfs/data1/cmongp1/mpaliyam/street2sat/data/crop_banana_region_UG/Uganda*$1829244*$2020-06-28_Edrick*$2020-06-28_Edrick*$106GOPRO*$G0060574.JPG: 480x640 Done. (0.009s)\n",
      "image 66/250 /gpfs/data1/cmongp1/mpaliyam/street2sat/data/crop_banana_region_UG/Uganda*$1829244*$2020-06-28_Edrick*$2020-06-28_Edrick*$107GOPRO*$G0081487.JPG: 480x640 Done. (0.010s)\n",
      "image 67/250 /gpfs/data1/cmongp1/mpaliyam/street2sat/data/crop_banana_region_UG/Uganda*$1829244*$2020-06-28_Edrick*$2020-06-28_Edrick*$114GOPRO*$G0198248.JPG: 480x640 1 banana, Done. (0.010s)\n",
      "image 68/250 /gpfs/data1/cmongp1/mpaliyam/street2sat/data/crop_banana_region_UG/Uganda*$1829244*$2020-06-28_Edrick_2*$100GOPRO*$G0020402.JPG: 480x640 Done. (0.012s)\n",
      "image 69/250 /gpfs/data1/cmongp1/mpaliyam/street2sat/data/crop_banana_region_UG/Uganda*$1829244*$2020-06-28_Edrick_2*$2020-06-28_Edrick_2*$102GOPRO*$G0022700.JPG: 480x640 Done. (0.010s)\n",
      "image 70/250 /gpfs/data1/cmongp1/mpaliyam/street2sat/data/crop_banana_region_UG/Uganda*$1829244*$2020-06-28_Edrick_2*$2020-06-28_Edrick_2*$114GOPRO*$G0153316.JPG: 480x640 Done. (0.011s)\n",
      "image 71/250 /gpfs/data1/cmongp1/mpaliyam/street2sat/data/crop_banana_region_UG/Uganda*$1829244*$2020-06-28_Edrick_2*$2020-06-28_Edrick_2*$123GOPRO*$G0271876.JPG: 480x640 1 banana, Done. (0.010s)\n",
      "image 72/250 /gpfs/data1/cmongp1/mpaliyam/street2sat/data/crop_banana_region_UG/Uganda*$1829244*$2020-06-28_Edrick_2*$2020-06-28_Edrick_2*$128GOPRO*$G0376583.JPG: 480x640 3 bananas, Done. (0.009s)\n",
      "image 73/250 /gpfs/data1/cmongp1/mpaliyam/street2sat/data/crop_banana_region_UG/Uganda*$1829244*$2020-06-29_Edrick_2*$101GOPRO*$G0050379.JPG: 480x640 Done. (0.010s)\n",
      "image 74/250 /gpfs/data1/cmongp1/mpaliyam/street2sat/data/crop_banana_region_UG/Uganda*$1829244*$2020-06-29_Edrick_2*$101GOPRO*$G0050786.JPG: 480x640 Done. (0.010s)\n",
      "image 75/250 /gpfs/data1/cmongp1/mpaliyam/street2sat/data/crop_banana_region_UG/Uganda*$1829244*$2020-06-29_Edrick_2*$102GOPRO*$G0051191.JPG: 480x640 Done. (0.010s)\n",
      "image 76/250 /gpfs/data1/cmongp1/mpaliyam/street2sat/data/crop_banana_region_UG/Uganda*$1829244*$2020-06-29_Edrick_2*$106GOPRO*$G0135902.JPG: 480x640 3 bananas, Done. (0.010s)\n",
      "image 77/250 /gpfs/data1/cmongp1/mpaliyam/street2sat/data/crop_banana_region_UG/Uganda*$1829244*$2020-06-29_Edrick_2*$107GOPRO*$G0146508.JPG: 480x640 2 bananas, Done. (0.011s)\n",
      "image 78/250 /gpfs/data1/cmongp1/mpaliyam/street2sat/data/crop_banana_region_UG/Uganda*$1829244*$2020-06-29_Edrick_2*$108GOPRO*$G0167243.JPG: 480x640 1 banana, Done. (0.011s)\n",
      "image 79/250 /gpfs/data1/cmongp1/mpaliyam/street2sat/data/crop_banana_region_UG/Uganda*$1829244*$2020-06-29_Edrick_2*$114GOPRO*$G0272891.JPG: 480x640 Done. (0.010s)\n",
      "image 80/250 /gpfs/data1/cmongp1/mpaliyam/street2sat/data/crop_banana_region_UG/Uganda*$1829244*$2021-07-03_Kabarole*$102GOPRO*$G0014914.JPG: 480x640 1 banana, Done. (0.010s)\n",
      "image 81/250 /gpfs/data1/cmongp1/mpaliyam/street2sat/data/crop_banana_region_UG/Uganda*$2021-06-15_NACCRI-Catherine*$105GOPRO*$G0015306.JPG: 480x640 Done. (0.010s)\n",
      "image 82/250 /gpfs/data1/cmongp1/mpaliyam/street2sat/data/crop_banana_region_UG/Uganda*$2021-06-15_NACCRI-Kenan*$114GOPRO*$G0043052.JPG: 480x640 Done. (0.010s)\n",
      "image 83/250 /gpfs/data1/cmongp1/mpaliyam/street2sat/data/crop_banana_region_UG/Uganda*$2021-06-15_NACCRI_Annet*$2021-06-15_NACCRI_Annet*$107GOPRO*$G0037098.JPG: 480x640 4 bananas, Done. (0.010s)\n",
      "image 84/250 /gpfs/data1/cmongp1/mpaliyam/street2sat/data/crop_banana_region_UG/Uganda*$2021-06-15_NACCRI_Annet*$2021-06-15_NACCRI_Annet*$107GOPRO*$G0037290.JPG: 480x640 Done. (0.010s)\n",
      "image 85/250 /gpfs/data1/cmongp1/mpaliyam/street2sat/data/crop_banana_region_UG/Uganda*$2021-06-17_NACCRI-Kenan-Handlebars*$2021-06-17_NACCRI-Kenan-Handlebars*$DCIM*$100GOPRO*$G0012671.JPG: 480x640 Done. (0.010s)\n",
      "image 86/250 /gpfs/data1/cmongp1/mpaliyam/street2sat/data/crop_banana_region_UG/Uganda*$2021-06-17_NACCRI-Kenan-Handlebars*$2021-06-17_NACCRI-Kenan-Handlebars*$DCIM*$117GOPRO*$G0209701.JPG: 480x640 Done. (0.010s)\n",
      "image 87/250 /gpfs/data1/cmongp1/mpaliyam/street2sat/data/crop_banana_region_UG/Uganda*$2021-06-17_NACCRI-Kenan-Handlebars*$2021-06-17_NACCRI-Kenan-Handlebars*$DCIM*$119GOPRO*$G0210706.JPG: 480x640 Done. (0.010s)\n",
      "image 88/250 /gpfs/data1/cmongp1/mpaliyam/street2sat/data/crop_banana_region_UG/Uganda*$2021-06-17_NACCRI-Kenan-Handlebars*$2021-06-17_NACCRI-Kenan-Handlebars*$DCIM*$121GOPRO*$G0222534.JPG: 480x640 Done. (0.010s)\n",
      "image 89/250 /gpfs/data1/cmongp1/mpaliyam/street2sat/data/crop_banana_region_UG/Uganda*$2021-06-17_NACCRI-Kenan-Handlebars*$2021-06-17_NACCRI-Kenan-Handlebars*$DCIM*$124GOPRO*$G0235162.JPG: 480x640 Done. (0.011s)\n",
      "image 90/250 /gpfs/data1/cmongp1/mpaliyam/street2sat/data/crop_banana_region_UG/Uganda*$2021-06-17_NACCRI-Kenan-Handlebars*$DCIM*$119GOPRO*$G0210892.JPG: 480x640 Done. (0.011s)\n",
      "image 91/250 /gpfs/data1/cmongp1/mpaliyam/street2sat/data/crop_banana_region_UG/Uganda*$2021-06-17_NACCRI-Kenan-Handlebars*$DCIM*$121GOPRO*$G0212057.JPG: 480x640 Done. (0.009s)\n",
      "image 92/250 /gpfs/data1/cmongp1/mpaliyam/street2sat/data/crop_banana_region_UG/Uganda*$2021-06-17_NACCRI-Kenan-Helmet*$116GOPRO*$G0141036.JPG: 480x640 Done. (0.010s)\n",
      "image 93/250 /gpfs/data1/cmongp1/mpaliyam/street2sat/data/crop_banana_region_UG/Uganda*$2021-06-17_NACCRI-Kenan-Helmet*$116GOPRO*$G0141132.JPG: 480x640 Done. (0.010s)\n",
      "image 94/250 /gpfs/data1/cmongp1/mpaliyam/street2sat/data/crop_banana_region_UG/Uganda*$2021-06-17_NACCRI-Kenan-Helmet*$116GOPRO*$G0161874.JPG: 480x640 4 bananas, Done. (0.010s)\n",
      "image 95/250 /gpfs/data1/cmongp1/mpaliyam/street2sat/data/crop_banana_region_UG/Uganda*$2021-06-17_NACCRI-Kenan-Helmet*$117GOPRO*$G0172697.JPG: 480x640 Done. (0.010s)\n",
      "image 96/250 /gpfs/data1/cmongp1/mpaliyam/street2sat/data/crop_banana_region_UG/Uganda*$2021-06-17_NACCRI-Kenan-Helmet*$118GOPRO*$G0183983.JPG: 480x640 Done. (0.009s)\n",
      "image 97/250 /gpfs/data1/cmongp1/mpaliyam/street2sat/data/crop_banana_region_UG/Uganda*$2021-06-17_NACCRI-Kenan-Helmet*$2021-06-17_NACCRI-Kenan-Helmet*$102GOPRO*$G0028581.JPG: 480x640 Done. (0.010s)\n",
      "image 98/250 /gpfs/data1/cmongp1/mpaliyam/street2sat/data/crop_banana_region_UG/Uganda*$2021-06-17_NACCRI-Kenan-Helmet*$2021-06-17_NACCRI-Kenan-Helmet*$105GOPRO*$G0051645.JPG: 480x640 1 banana, Done. (0.010s)\n",
      "image 99/250 /gpfs/data1/cmongp1/mpaliyam/street2sat/data/crop_banana_region_UG/Uganda*$2021-06-17_NACCRI-Kenan-Helmet*$2021-06-17_NACCRI-Kenan-Helmet*$106GOPRO*$G0052075.JPG: 480x640 Done. (0.010s)\n",
      "image 100/250 /gpfs/data1/cmongp1/mpaliyam/street2sat/data/crop_banana_region_UG/Uganda*$2021-06-17_NACCRI-Kenan-Helmet*$2021-06-17_NACCRI-Kenan-Helmet*$116GOPRO*$G0141302.JPG: 480x640 Done. (0.010s)\n",
      "image 101/250 /gpfs/data1/cmongp1/mpaliyam/street2sat/data/crop_banana_region_UG/Uganda*$2021-06-17_NACCRI-Kenan-Helmet*$2021-06-17_NACCRI-Kenan-Helmet*$116GOPRO*$G0161500.JPG: 480x640 Done. (0.010s)\n",
      "image 102/250 /gpfs/data1/cmongp1/mpaliyam/street2sat/data/crop_banana_region_UG/Uganda*$2021-06-17_NACCRI-Kenan-Helmet*$2021-06-17_NACCRI-Kenan-Helmet*$117GOPRO*$G0172662.JPG: 480x640 Done. (0.010s)\n",
      "image 103/250 /gpfs/data1/cmongp1/mpaliyam/street2sat/data/crop_banana_region_UG/Uganda*$2021-06-17_NACCRI-Kenan-Helmet*$2021-06-17_NACCRI-Kenan-Helmet*$119GOPRO*$G0194730.JPG: 480x640 Done. (0.010s)\n",
      "image 104/250 /gpfs/data1/cmongp1/mpaliyam/street2sat/data/crop_banana_region_UG/Uganda*$2021-06-17_NACCRI-Sekidde*$101GOPRO*$G0011674.JPG: 480x640 3 bananas, Done. (0.010s)\n",
      "image 105/250 /gpfs/data1/cmongp1/mpaliyam/street2sat/data/crop_banana_region_UG/Uganda*$2021-06-17_NACCRI-Sekidde*$107GOPRO*$G0037889.JPG: 480x640 Done. (0.010s)\n",
      "image 106/250 /gpfs/data1/cmongp1/mpaliyam/street2sat/data/crop_banana_region_UG/Uganda*$2021-06-17_NACCRI-Sekidde*$109GOPRO*$G0039909.JPG: 480x640 Done. (0.009s)\n",
      "image 107/250 /gpfs/data1/cmongp1/mpaliyam/street2sat/data/crop_banana_region_UG/Uganda*$2021-06-17_NACCRI-Sekidde*$116GOPRO*$G0085292.JPG: 480x640 Done. (0.010s)\n",
      "image 108/250 /gpfs/data1/cmongp1/mpaliyam/street2sat/data/crop_banana_region_UG/Uganda*$2021-06-17_NACCRI-Sekidde*$120GOPRO*$G0089672.JPG: 480x640 Done. (0.009s)\n",
      "image 109/250 /gpfs/data1/cmongp1/mpaliyam/street2sat/data/crop_banana_region_UG/Uganda*$2021-06-17_NACCRI-Sekidde*$2021-06-17_NACCRI-Sekidde*$102GOPRO*$G0012856.JPG: 480x640 1 banana, Done. (0.011s)\n",
      "image 110/250 /gpfs/data1/cmongp1/mpaliyam/street2sat/data/crop_banana_region_UG/Uganda*$2021-06-17_NACCRI-Sekidde*$2021-06-17_NACCRI-Sekidde*$112GOPRO*$G0081648.JPG: 480x640 Done. (0.009s)\n",
      "image 111/250 /gpfs/data1/cmongp1/mpaliyam/street2sat/data/crop_banana_region_UG/Uganda*$2021-06-17_NACCRI-Sekidde*$2021-06-17_NACCRI-Sekidde*$122GOPRO*$G0090116.JPG: 480x640 Done. (0.011s)\n",
      "image 112/250 /gpfs/data1/cmongp1/mpaliyam/street2sat/data/crop_banana_region_UG/Uganda*$2021-06-17_NACCRI-Sekidde*$60-52=~8*$6=256+835*$101GOPRO*$G0011660.JPG: 480x640 Done. (0.012s)\n",
      "image 113/250 /gpfs/data1/cmongp1/mpaliyam/street2sat/data/crop_banana_region_UG/Uganda*$2021-06-17_NACCRI-Sekidde*$60-52=~8*$6=256+835*$103GOPRO*$G0013400.JPG: 480x640 2 bananas, Done. (0.013s)\n",
      "image 114/250 /gpfs/data1/cmongp1/mpaliyam/street2sat/data/crop_banana_region_UG/Uganda*$2021-06-17_NACCRI-Sekidde*$60-52=~8*$6=256+835*$2021-06-17_NACCRI-Sekidde*$104GOPRO*$G0014045.JPG: 480x640 Done. (0.013s)\n",
      "image 115/250 /gpfs/data1/cmongp1/mpaliyam/street2sat/data/crop_banana_region_UG/Uganda*$2021-06-17_NACCRI-Sekidde*$60-52=~8*$6=256+835*$2021-06-17_NACCRI-Sekidde*$104GOPRO*$G0014335.JPG: 480x640 3 bananas, Done. (0.012s)\n",
      "image 116/250 /gpfs/data1/cmongp1/mpaliyam/street2sat/data/crop_banana_region_UG/Uganda*$2021-06-17_NACCRI-Sekidde*$60-52=~8*$6=256+835*$2021-06-17_NACCRI-Sekidde*$109GOPRO*$G0039168.JPG: 480x640 1 banana, Done. (0.009s)\n",
      "image 117/250 /gpfs/data1/cmongp1/mpaliyam/street2sat/data/crop_banana_region_UG/Uganda*$2021-06-21_East_Team*$101GOPRO*$G0044404.JPG: 480x640 Done. (0.011s)\n",
      "image 118/250 /gpfs/data1/cmongp1/mpaliyam/street2sat/data/crop_banana_region_UG/Uganda*$2021-06-21_East_Team*$107GOPRO*$G0050477.JPG: 480x640 Done. (0.011s)\n",
      "image 119/250 /gpfs/data1/cmongp1/mpaliyam/street2sat/data/crop_banana_region_UG/Uganda*$2021-06-21_East_Team*$111GOPRO*$G0064588.JPG: 480x640 Done. (0.011s)\n",
      "image 120/250 /gpfs/data1/cmongp1/mpaliyam/street2sat/data/crop_banana_region_UG/Uganda*$2021-06-22_Kyambura_left*$102GOPRO*$G0031890.JPG: 480x640 1 banana, Done. (0.011s)\n",
      "image 121/250 /gpfs/data1/cmongp1/mpaliyam/street2sat/data/crop_banana_region_UG/Uganda*$2021-06-22_Kyambura_left*$106GOPRO*$G0035051.JPG: 480x640 Done. (0.011s)\n",
      "image 122/250 /gpfs/data1/cmongp1/mpaliyam/street2sat/data/crop_banana_region_UG/Uganda*$2021-06-23_East_Team*$130GOPRO*$G0142460.JPG: 480x640 Done. (0.013s)\n",
      "image 123/250 /gpfs/data1/cmongp1/mpaliyam/street2sat/data/crop_banana_region_UG/Uganda*$2021-06-23_East_Team*$139GOPRO*$G0160253.JPG: 480x640 Done. (0.012s)\n",
      "image 124/250 /gpfs/data1/cmongp1/mpaliyam/street2sat/data/crop_banana_region_UG/Uganda*$2021-06-23_Lutoto_right*$102GOPRO*$G0019625.JPG: 480x640 3 bananas, Done. (0.012s)\n",
      "image 125/250 /gpfs/data1/cmongp1/mpaliyam/street2sat/data/crop_banana_region_UG/Uganda*$2021-06-23_Lutoto_right*$104GOPRO*$G0021153.JPG: 480x640 2 bananas, Done. (0.011s)\n",
      "image 126/250 /gpfs/data1/cmongp1/mpaliyam/street2sat/data/crop_banana_region_UG/Uganda*$2021-06-23_Lutoto_right*$108GOPRO*$G0035976.JPG: 480x640 Done. (0.011s)\n",
      "image 127/250 /gpfs/data1/cmongp1/mpaliyam/street2sat/data/crop_banana_region_UG/Uganda*$2021-06-23_lutoto_left*$104GOPRO*$G0021815.JPG: 480x640 3 bananas, Done. (0.011s)\n",
      "image 128/250 /gpfs/data1/cmongp1/mpaliyam/street2sat/data/crop_banana_region_UG/Uganda*$2021-06-23_lutoto_left*$107GOPRO*$G0034988.JPG: 480x640 Done. (0.012s)\n",
      "image 129/250 /gpfs/data1/cmongp1/mpaliyam/street2sat/data/crop_banana_region_UG/Uganda*$2021-06-23_lutoto_left2*$2021-06-23_lutoto_left*$106GOPRO*$G0023866.JPG: 480x640 3 bananas, Done. (0.012s)\n",
      "image 130/250 /gpfs/data1/cmongp1/mpaliyam/street2sat/data/crop_banana_region_UG/Uganda*$2021-06-23_lutoto_left2*$2021-06-23_lutoto_left*$107GOPRO*$G0024213.JPG: 480x640 Done. (0.012s)\n",
      "image 131/250 /gpfs/data1/cmongp1/mpaliyam/street2sat/data/crop_banana_region_UG/Uganda*$2021-06-24_East_Team*$2021-06-24_East_Team*$153GOPRO*$G0183488.JPG: 480x640 Done. (0.011s)\n",
      "image 132/250 /gpfs/data1/cmongp1/mpaliyam/street2sat/data/crop_banana_region_UG/Uganda*$2021-06-24_East_Team*$2021-06-24_East_Team*$154GOPRO*$G0184344.JPG: 480x640 1 banana, Done. (0.012s)\n",
      "image 133/250 /gpfs/data1/cmongp1/mpaliyam/street2sat/data/crop_banana_region_UG/Uganda*$2021-06-24_East_Team*$2021-06-24_East_Team*$163GOPRO*$G0212586.JPG: 480x640 Done. (0.012s)\n",
      "image 134/250 /gpfs/data1/cmongp1/mpaliyam/street2sat/data/crop_banana_region_UG/Uganda*$2021-06-24_East_Team*$2021-06-24_East_Team*$165GOPRO*$G0214578.JPG: 480x640 Done. (0.013s)\n",
      "image 135/250 /gpfs/data1/cmongp1/mpaliyam/street2sat/data/crop_banana_region_UG/Uganda*$2021-06-24_East_Team*$2021-06-24_East_Team*$165GOPRO*$G0214768.JPG: 480x640 Done. (0.012s)\n",
      "image 136/250 /gpfs/data1/cmongp1/mpaliyam/street2sat/data/crop_banana_region_UG/Uganda*$2021-06-24_Kasese_Annet_left*$2021-06-24_Kasese_Annet_left*$100GOPRO*$G0017543.JPG: 480x640 Done. (0.012s)\n",
      "image 137/250 /gpfs/data1/cmongp1/mpaliyam/street2sat/data/crop_banana_region_UG/Uganda*$2021-06-24_Kasese_Annet_left*$2021-06-24_Kasese_Annet_left*$106GOPRO*$G0022538.JPG: 480x640 Done. (0.013s)\n",
      "image 138/250 /gpfs/data1/cmongp1/mpaliyam/street2sat/data/crop_banana_region_UG/Uganda*$2021-06-24_Kasese_Catherine_left*$100GOPRO*$G0026584.JPG: 480x640 Done. (0.013s)\n",
      "image 139/250 /gpfs/data1/cmongp1/mpaliyam/street2sat/data/crop_banana_region_UG/Uganda*$2021-06-24_Kasese_Catherine_left*$101GOPRO*$G0027664.JPG: 480x640 Done. (0.011s)\n",
      "image 140/250 /gpfs/data1/cmongp1/mpaliyam/street2sat/data/crop_banana_region_UG/Uganda*$2021-06-24_Kasese_Catherine_left*$103GOPRO*$G0029811.JPG: 480x640 Done. (0.012s)\n",
      "image 141/250 /gpfs/data1/cmongp1/mpaliyam/street2sat/data/crop_banana_region_UG/Uganda*$2021-06-24_Kasese_Catherine_left*$110GOPRO*$G0035902.JPG: 480x640 Done. (0.013s)\n",
      "image 142/250 /gpfs/data1/cmongp1/mpaliyam/street2sat/data/crop_banana_region_UG/Uganda*$2021-06-25_Congo_Hannahleft*$2021-06-25_Congo_Hannahleft*$100GOPRO*$GPAD6758.JPG: 480x640 Done. (0.012s)\n",
      "image 143/250 /gpfs/data1/cmongp1/mpaliyam/street2sat/data/crop_banana_region_UG/Uganda*$2021-06-25_Congo_Hannahleft*$2021-06-25_Congo_Hannahleft*$101GOPRO*$GPAG7368.JPG: 480x640 1 banana, Done. (0.011s)\n",
      "image 144/250 /gpfs/data1/cmongp1/mpaliyam/street2sat/data/crop_banana_region_UG/Uganda*$2021-06-25_Congo_Hannahleft*$2021-06-25_Congo_Hannahleft*$104GOPRO*$GPAI0110.JPG: 480x640 Done. (0.011s)\n",
      "image 145/250 /gpfs/data1/cmongp1/mpaliyam/street2sat/data/crop_banana_region_UG/Uganda*$2021-06-25_Congo_Hannahleft*$2021-06-25_Congo_Hannahleft*$109GOPRO*$GPAL5282.JPG: 480x640 3 bananas, Done. (0.010s)\n",
      "image 146/250 /gpfs/data1/cmongp1/mpaliyam/street2sat/data/crop_banana_region_UG/Uganda*$2021-06-25_Congo_Hannahleft*$2021-06-25_Congo_Hannahleft*$112GOPRO*$GPAL8257.JPG: 480x640 1 banana, Done. (0.012s)\n",
      "image 147/250 /gpfs/data1/cmongp1/mpaliyam/street2sat/data/crop_banana_region_UG/Uganda*$2021-06-25_Congo_Hannahleft*$2021-06-25_Congo_Hannahleft*$115GOPRO*$GPAM0888.JPG: 480x640 Done. (0.010s)\n",
      "image 148/250 /gpfs/data1/cmongp1/mpaliyam/street2sat/data/crop_banana_region_UG/Uganda*$2021-06-25_Edrick_Helmet_left*$101GOPRO*$G0025789.JPG: 480x640 Done. (0.011s)\n",
      "image 149/250 /gpfs/data1/cmongp1/mpaliyam/street2sat/data/crop_banana_region_UG/Uganda*$2021-06-25_Edrick_Helmet_left*$2021-06-25_Edrick_Helmet_left*$100GOPRO*$G0025123.JPG: 480x640 Done. (0.010s)\n",
      "image 150/250 /gpfs/data1/cmongp1/mpaliyam/street2sat/data/crop_banana_region_UG/Uganda*$2021-06-25_Edrick_Helmet_left*$2021-06-25_Edrick_Helmet_left*$102GOPRO*$G0027499.JPG: 480x640 Done. (0.011s)\n",
      "image 151/250 /gpfs/data1/cmongp1/mpaliyam/street2sat/data/crop_banana_region_UG/Uganda*$2021-06-25_Edrick_Helmet_left*$2021-06-25_Edrick_Helmet_left*$106GOPRO*$G0040858.JPG: 480x640 Done. (0.011s)\n",
      "image 152/250 /gpfs/data1/cmongp1/mpaliyam/street2sat/data/crop_banana_region_UG/Uganda*$2021-06-25_Edrick_Helmet_left*$2021-06-25_Edrick_Helmet_left*$108GOPRO*$G0042514.JPG: 480x640 Done. (0.010s)\n",
      "image 153/250 /gpfs/data1/cmongp1/mpaliyam/street2sat/data/crop_banana_region_UG/Uganda*$2021-06-25_Edrick_Helmet_left*$2021-06-25_Edrick_Helmet_left*$121GOPRO*$G0104565.JPG: 480x640 3 bananas, Done. (0.009s)\n",
      "image 154/250 /gpfs/data1/cmongp1/mpaliyam/street2sat/data/crop_banana_region_UG/Uganda*$2021-06-25_Edrick_Helmet_left*$2021-06-25_Edrick_Helmet_left*$124GOPRO*$G0117030.JPG: 480x640 1 banana, Done. (0.009s)\n",
      "image 155/250 /gpfs/data1/cmongp1/mpaliyam/street2sat/data/crop_banana_region_UG/Uganda*$2021-06-25_Edrick_Helmet_left*$2021-06-25_Edrick_Helmet_left*$125GOPRO*$G0128839.JPG: 480x640 Done. (0.010s)\n",
      "image 156/250 /gpfs/data1/cmongp1/mpaliyam/street2sat/data/crop_banana_region_UG/Uganda*$2021-06-25_Edrick_Helmet_left_morning*$101GOPRO*$G0015453.JPG: 480x640 1 banana, Done. (0.011s)\n",
      "image 157/250 /gpfs/data1/cmongp1/mpaliyam/street2sat/data/crop_banana_region_UG/Uganda*$2021-06-25_Edrick_Helmet_left_morning*$110GOPRO*$G0054072.JPG: 480x640 2 bananas, Done. (0.011s)\n",
      "image 158/250 /gpfs/data1/cmongp1/mpaliyam/street2sat/data/crop_banana_region_UG/Uganda*$2021-06-25_Edrick_Helmet_left_morning*$111GOPRO*$G0065418.JPG: 480x640 Done. (0.010s)\n",
      "image 159/250 /gpfs/data1/cmongp1/mpaliyam/street2sat/data/crop_banana_region_UG/Uganda*$2021-06-25_Edrick_Helmet_left_morning*$112GOPRO*$G0066172.JPG: 480x640 4 bananas, Done. (0.009s)\n",
      "image 160/250 /gpfs/data1/cmongp1/mpaliyam/street2sat/data/crop_banana_region_UG/Uganda*$2021-06-25_Edrick_Helmet_left_morning*$2021-06-25_Edrick_Helmet_left_morning*$101GOPRO*$G0016140.JPG: 480x640 Done. (0.010s)\n",
      "image 161/250 /gpfs/data1/cmongp1/mpaliyam/street2sat/data/crop_banana_region_UG/Uganda*$2021-06-25_Edrick_Helmet_left_morning*$2021-06-25_Edrick_Helmet_left_morning*$112GOPRO*$G0066006.JPG: 480x640 2 bananas, Done. (0.010s)\n",
      "image 162/250 /gpfs/data1/cmongp1/mpaliyam/street2sat/data/crop_banana_region_UG/Uganda*$2021-06-26_Edrick_Helmet_left*$100GOPRO*$G0010669.JPG: 480x640 Done. (0.010s)\n",
      "image 163/250 /gpfs/data1/cmongp1/mpaliyam/street2sat/data/crop_banana_region_UG/Uganda*$2021-06-26_Edrick_Helmet_left*$100GOPRO*$G0010743.JPG: 480x640 2 bananas, Done. (0.009s)\n",
      "image 164/250 /gpfs/data1/cmongp1/mpaliyam/street2sat/data/crop_banana_region_UG/Uganda*$2021-06-26_Edrick_Helmet_left*$106GOPRO*$G0036202.JPG: 480x640 4 bananas, Done. (0.010s)\n",
      "image 165/250 /gpfs/data1/cmongp1/mpaliyam/street2sat/data/crop_banana_region_UG/Uganda*$2021-06-27_Drive_SW_NW_left*$101GOPRO*$G0027013.JPG: 480x640 Done. (0.011s)\n",
      "image 166/250 /gpfs/data1/cmongp1/mpaliyam/street2sat/data/crop_banana_region_UG/Uganda*$2021-06-27_Drive_SW_NW_left*$108GOPRO*$G0073266.JPG: 480x640 Done. (0.011s)\n",
      "image 167/250 /gpfs/data1/cmongp1/mpaliyam/street2sat/data/crop_banana_region_UG/Uganda*$2021-06-27_Drive_SW_NW_left*$109GOPRO*$G0074815.JPG: 480x640 Done. (0.010s)\n",
      "image 168/250 /gpfs/data1/cmongp1/mpaliyam/street2sat/data/crop_banana_region_UG/Uganda*$2021-06-27_Drive_SW_NW_left*$110GOPRO*$G0075474.JPG: 480x640 Done. (0.010s)\n",
      "image 169/250 /gpfs/data1/cmongp1/mpaliyam/street2sat/data/crop_banana_region_UG/Uganda*$2021-06-27_Drive_SW_NW_left*$111GOPRO*$G0076777.JPG: 480x640 Done. (0.010s)\n",
      "image 170/250 /gpfs/data1/cmongp1/mpaliyam/street2sat/data/crop_banana_region_UG/Uganda*$2021-06-27_Drive_SW_NW_left*$2021-06-27_Drive_SW_NW_left*$103GOPRO*$G0028696.JPG: 480x640 Done. (0.010s)\n",
      "image 171/250 /gpfs/data1/cmongp1/mpaliyam/street2sat/data/crop_banana_region_UG/Uganda*$2021-06-27_Drive_SW_NW_left*$2021-06-27_Drive_SW_NW_left*$109GOPRO*$G0074679.JPG: 480x640 Done. (0.009s)\n",
      "image 172/250 /gpfs/data1/cmongp1/mpaliyam/street2sat/data/crop_banana_region_UG/Uganda*$2021-06-27_Drive_SW_NW_left*$2021-06-27_Drive_SW_NW_left*$111GOPRO*$G0076757.JPG: 480x640 Done. (0.010s)\n",
      "image 173/250 /gpfs/data1/cmongp1/mpaliyam/street2sat/data/crop_banana_region_UG/Uganda*$2021-06-27_Drive_SW_NW_left*$2021-06-27_Drive_SW_NW_left*$117GOPRO*$G0081000.JPG: 480x640 Done. (0.010s)\n",
      "image 174/250 /gpfs/data1/cmongp1/mpaliyam/street2sat/data/crop_banana_region_UG/Uganda*$2021-06-27_Drive_SW_NW_left*$2021-06-27_Drive_SW_NW_left*$122GOPRO*$G0096252.JPG: 480x640 Done. (0.010s)\n",
      "image 175/250 /gpfs/data1/cmongp1/mpaliyam/street2sat/data/crop_banana_region_UG/Uganda*$2021-06-27_Drive_SW_NW_left*$2021-06-27_Drive_SW_NW_left*$130GOPRO*$G0133286.JPG: 480x640 Done. (0.010s)\n",
      "image 176/250 /gpfs/data1/cmongp1/mpaliyam/street2sat/data/crop_banana_region_UG/Uganda*$2021-06-28_west_nile_Catherine_left_needs_flip_help*$105GOPRO*$GPAL7827.JPG: 480x640 Done. (0.009s)\n",
      "image 177/250 /gpfs/data1/cmongp1/mpaliyam/street2sat/data/crop_banana_region_UG/Uganda*$2021-06-28_west_nile_Catherine_left_needs_flip_help*$112GOPRO*$GPBE4756.JPG: 480x640 Done. (0.010s)\n",
      "image 178/250 /gpfs/data1/cmongp1/mpaliyam/street2sat/data/crop_banana_region_UG/Uganda*$2021-06-28_west_nile_Hannah_left*$2021-06-28_west_nile_Hannah_left*$144GOPRO*$G0176494.JPG: 480x640 Done. (0.010s)\n",
      "image 179/250 /gpfs/data1/cmongp1/mpaliyam/street2sat/data/crop_banana_region_UG/Uganda*$2021-06-28_west_nile_Hannah_left*$2021-06-28_west_nile_Hannah_left*$151GOPRO*$G0202926.JPG: 480x640 Done. (0.010s)\n",
      "image 180/250 /gpfs/data1/cmongp1/mpaliyam/street2sat/data/crop_banana_region_UG/Uganda*$2021-06-28_west_nile_Hannah_left*$2021-06-28_west_nile_Hannah_left*$154GOPRO*$G0205860.JPG: 480x640 Done. (0.011s)\n",
      "image 181/250 /gpfs/data1/cmongp1/mpaliyam/street2sat/data/crop_banana_region_UG/Uganda*$2021-06-29_Olwiyo_Catherine_left*$104GOPRO*$GPAD0316.JPG: 480x640 Done. (0.010s)\n",
      "image 182/250 /gpfs/data1/cmongp1/mpaliyam/street2sat/data/crop_banana_region_UG/Uganda*$2021-06-29_Olwiyo_Catherine_left*$111GOPRO*$GPAM7813.JPG: 480x640 Done. (0.010s)\n",
      "image 183/250 /gpfs/data1/cmongp1/mpaliyam/street2sat/data/crop_banana_region_UG/Uganda*$2021-06-29_Olwiyo_Catherine_left*$113GOPRO*$GPAM9962.JPG: 480x640 Done. (0.011s)\n",
      "image 184/250 /gpfs/data1/cmongp1/mpaliyam/street2sat/data/crop_banana_region_UG/Uganda*$2021-06-29_Olwiyo_Catherine_left*$2021-06-29_Olwiyo_Catherine_left*$116GOPRO*$GPAO1526.JPG: 480x640 Done. (0.010s)\n",
      "image 185/250 /gpfs/data1/cmongp1/mpaliyam/street2sat/data/crop_banana_region_UG/Uganda*$2021-06-29_Olwiyo_Hannah_left*$100GOPRO*$G0017068.JPG: 480x640 Done. (0.010s)\n",
      "image 186/250 /gpfs/data1/cmongp1/mpaliyam/street2sat/data/crop_banana_region_UG/Uganda*$2021-06-29_Olwiyo_Hannah_left*$106GOPRO*$G0032967.JPG: 480x640 Done. (0.010s)\n",
      "image 187/250 /gpfs/data1/cmongp1/mpaliyam/street2sat/data/crop_banana_region_UG/Uganda*$2021-06-29_Olwiyo_Hannah_left*$108GOPRO*$G0034837.JPG: 480x640 Done. (0.010s)\n",
      "image 188/250 /gpfs/data1/cmongp1/mpaliyam/street2sat/data/crop_banana_region_UG/Uganda*$2021-06-29_Olwiyo_Hannah_left*$109GOPRO*$G0035809.JPG: 480x640 Done. (0.010s)\n",
      "image 189/250 /gpfs/data1/cmongp1/mpaliyam/street2sat/data/crop_banana_region_UG/Uganda*$2021-06-29_Olwiyo_Hannah_left*$2021-06-29_Olwiyo_Hannah_left*$100GOPRO*$G0017762.JPG: 480x640 Done. (0.010s)\n",
      "image 190/250 /gpfs/data1/cmongp1/mpaliyam/street2sat/data/crop_banana_region_UG/Uganda*$2021-06-29_Olwiyo_Hannah_left*$2021-06-29_Olwiyo_Hannah_left*$102GOPRO*$G0019185.JPG: 480x640 Done. (0.010s)\n",
      "image 191/250 /gpfs/data1/cmongp1/mpaliyam/street2sat/data/crop_banana_region_UG/Uganda*$2021-06-29_Olwiyo_Hannah_left*$2021-06-29_Olwiyo_Hannah_left*$111GOPRO*$G0037969.JPG: 480x640 Done. (0.010s)\n",
      "image 192/250 /gpfs/data1/cmongp1/mpaliyam/street2sat/data/crop_banana_region_UG/Uganda*$2021-06-29_Olwiyo_Hannah_left*$2021-06-29_Olwiyo_Hannah_left*$113GOPRO*$G0039796.JPG: 480x640 Done. (0.010s)\n",
      "image 193/250 /gpfs/data1/cmongp1/mpaliyam/street2sat/data/crop_banana_region_UG/Uganda*$2021-06-2_East_Team*$121GOPRO*$G0093041.JPG: 480x640 Done. (0.010s)\n",
      "image 194/250 /gpfs/data1/cmongp1/mpaliyam/street2sat/data/crop_banana_region_UG/Uganda*$2021-06-2_East_Team*$121GOPRO*$G0093048.JPG: 480x640 Done. (0.010s)\n",
      "image 195/250 /gpfs/data1/cmongp1/mpaliyam/street2sat/data/crop_banana_region_UG/Uganda*$2021-06-2_East_Team*$2021-06-22_East_Team*$120GOPRO*$G0092824.JPG: 480x640 Done. (0.010s)\n",
      "image 196/250 /gpfs/data1/cmongp1/mpaliyam/street2sat/data/crop_banana_region_UG/Uganda*$2021-06-2_East_Team*$2021-06-22_East_Team*$121GOPRO*$G0093708.JPG: 480x640 Done. (0.009s)\n",
      "image 197/250 /gpfs/data1/cmongp1/mpaliyam/street2sat/data/crop_banana_region_UG/Uganda*$2021-06-2_East_Team*$2021-06-22_East_Team*$126GOPRO*$G0108221.JPG: 480x640 3 bananas, Done. (0.010s)\n",
      "image 198/250 /gpfs/data1/cmongp1/mpaliyam/street2sat/data/crop_banana_region_UG/Uganda*$2021-07-01_Drive_NW_to_Kampala*$112GOPRO*$G0052236.JPG: 480x640 Done. (0.010s)\n",
      "image 199/250 /gpfs/data1/cmongp1/mpaliyam/street2sat/data/crop_banana_region_UG/Uganda*$2021-07-01_Drive_NW_to_Kampala*$2021-07-01_Drive_NW_to_Kampala*$101GOPRO*$G0011792.JPG: 480x640 Done. (0.010s)\n",
      "image 200/250 /gpfs/data1/cmongp1/mpaliyam/street2sat/data/crop_banana_region_UG/Uganda*$2021-07-01_Drive_NW_to_Kampala*$2021-07-01_Drive_NW_to_Kampala*$102GOPRO*$G0023411.JPG: 480x640 Done. (0.010s)\n",
      "image 201/250 /gpfs/data1/cmongp1/mpaliyam/street2sat/data/crop_banana_region_UG/Uganda*$2021-07-01_Drive_NW_to_Kampala*$2021-07-01_Drive_NW_to_Kampala*$108GOPRO*$G0039171.JPG: 480x640 Done. (0.010s)\n",
      "image 202/250 /gpfs/data1/cmongp1/mpaliyam/street2sat/data/crop_banana_region_UG/Uganda*$2021-07-01_Drive_NW_to_Kampala*$2021-07-01_Drive_NW_to_Kampala*$110GOPRO*$G0040066.JPG: 480x640 Done. (0.009s)\n",
      "image 203/250 /gpfs/data1/cmongp1/mpaliyam/street2sat/data/crop_banana_region_UG/Uganda*$2021-07-01_Drive_NW_to_Kampala*$2021-07-01_Drive_NW_to_Kampala*$110GOPRO*$G0040312.JPG: 480x640 Done. (0.010s)\n",
      "image 204/250 /gpfs/data1/cmongp1/mpaliyam/street2sat/data/crop_banana_region_UG/Uganda*$2021-07-01_Drive_NW_to_Kampala*$2021-07-01_Drive_NW_to_Kampala*$110GOPRO*$G0040789.JPG: 480x640 1 banana, Done. (0.011s)\n",
      "image 205/250 /gpfs/data1/cmongp1/mpaliyam/street2sat/data/crop_banana_region_UG/Uganda*$2021-07-01_Drive_NW_to_Kampala*$2021-07-01_Drive_NW_to_Kampala*$112GOPRO*$G0052656.JPG: 480x640 Done. (0.010s)\n",
      "image 206/250 /gpfs/data1/cmongp1/mpaliyam/street2sat/data/crop_banana_region_UG/Uganda*$2021-07-21_boda_kenan*$2021-07-21_boda_kenan*$100GOPRO*$G0016302.JPG: 480x640 4 bananas, Done. (0.010s)\n",
      "image 207/250 /gpfs/data1/cmongp1/mpaliyam/street2sat/data/crop_banana_region_UG/Uganda*$2021-07-21_boda_kenan*$2021-07-21_boda_kenan*$106GOPRO*$G0091341.JPG: 480x640 Done. (0.011s)\n",
      "image 208/250 /gpfs/data1/cmongp1/mpaliyam/street2sat/data/crop_banana_region_UG/Uganda*$2021-07-21_boda_kenan*$2021-07-21_boda_kenan*$112GOPRO*$G0257139.JPG: 480x640 1 banana, Done. (0.009s)\n",
      "image 209/250 /gpfs/data1/cmongp1/mpaliyam/street2sat/data/crop_banana_region_UG/Uganda*$2021-07-21_boda_kenan*$2021-07-21_boda_kenan*$121GOPRO*$G0375620.JPG: 480x640 Done. (0.010s)\n",
      "image 210/250 /gpfs/data1/cmongp1/mpaliyam/street2sat/data/crop_banana_region_UG/Uganda*$2021-07-23_boda_sekidde*$2021-07-23_boda_sekidde*$101GOPRO*$G0014042.JPG: 480x640 Done. (0.010s)\n",
      "image 211/250 /gpfs/data1/cmongp1/mpaliyam/street2sat/data/crop_banana_region_UG/Uganda*$2021-07-23_boda_sekidde*$2021-07-23_boda_sekidde*$101GOPRO*$G0014043.JPG: 480x640 Done. (0.010s)\n",
      "image 212/250 /gpfs/data1/cmongp1/mpaliyam/street2sat/data/crop_banana_region_UG/Uganda*$2021-07-23_boda_sekidde*$2021-07-23_boda_sekidde*$108GOPRO*$G0100456.JPG: 480x640 Done. (0.010s)\n",
      "image 213/250 /gpfs/data1/cmongp1/mpaliyam/street2sat/data/crop_banana_region_UG/Uganda*$2021-07-23_boda_sekidde*$2021-07-23_boda_sekidde*$117GOPRO*$G0169874.JPG: 480x640 Done. (0.010s)\n",
      "image 214/250 /gpfs/data1/cmongp1/mpaliyam/street2sat/data/crop_banana_region_UG/Uganda*$2021-07-24_boda_kenan*$110GOPRO*$G0069067.JPG: 480x640 Done. (0.010s)\n",
      "image 215/250 /gpfs/data1/cmongp1/mpaliyam/street2sat/data/crop_banana_region_UG/Uganda*$2021-07-24_boda_kenan*$124GOPRO*$G0181309.JPG: 480x640 Done. (0.010s)\n",
      "image 216/250 /gpfs/data1/cmongp1/mpaliyam/street2sat/data/crop_banana_region_UG/Uganda*$2021-07-24_boda_kenan*$2021-07-24_boda_kenan*$104GOPRO*$G0043608.JPG: 480x640 Done. (0.010s)\n",
      "image 217/250 /gpfs/data1/cmongp1/mpaliyam/street2sat/data/crop_banana_region_UG/Uganda*$2021-07-24_boda_kenan*$2021-07-24_boda_kenan*$109GOPRO*$G0068844.JPG: 480x640 Done. (0.010s)\n",
      "image 218/250 /gpfs/data1/cmongp1/mpaliyam/street2sat/data/crop_banana_region_UG/Uganda*$2021-07-24_boda_kenan*$2021-07-24_boda_kenan*$112GOPRO*$G0090177.JPG: 480x640 Done. (0.010s)\n",
      "image 219/250 /gpfs/data1/cmongp1/mpaliyam/street2sat/data/crop_banana_region_UG/Uganda*$2021-07-24_boda_kenan_head_camera*$101GOPRO*$G0050171.JPG: 480x640 Done. (0.010s)\n",
      "image 220/250 /gpfs/data1/cmongp1/mpaliyam/street2sat/data/crop_banana_region_UG/Uganda*$2021-07-24_boda_kenan_head_camera*$101GOPRO*$G0070342.JPG: 480x640 2 bananas, Done. (0.011s)\n",
      "image 221/250 /gpfs/data1/cmongp1/mpaliyam/street2sat/data/crop_banana_region_UG/Uganda*$2021-07-24_boda_kenan_head_camera*$103GOPRO*$G0092225.JPG: 480x640 3 bananas, Done. (0.010s)\n",
      "image 222/250 /gpfs/data1/cmongp1/mpaliyam/street2sat/data/crop_banana_region_UG/Uganda*$2021-07-24_boda_kenan_head_camera*$106GOPRO*$G0145454.JPG: 480x640 2 bananas, Done. (0.010s)\n",
      "image 223/250 /gpfs/data1/cmongp1/mpaliyam/street2sat/data/crop_banana_region_UG/Uganda*$2021-07-24_boda_kenan_head_camera*$106GOPRO*$G0145692.JPG: 480x640 2 bananas, Done. (0.010s)\n",
      "image 224/250 /gpfs/data1/cmongp1/mpaliyam/street2sat/data/crop_banana_region_UG/Uganda*$2021-07-24_boda_kenan_head_camera*$113GOPRO*$G0211173.JPG: 480x640 Done. (0.010s)\n",
      "image 225/250 /gpfs/data1/cmongp1/mpaliyam/street2sat/data/crop_banana_region_UG/Uganda*$2021-07-24_boda_kenan_head_camera*$113GOPRO*$G0211233.JPG: 480x640 Done. (0.010s)\n",
      "image 226/250 /gpfs/data1/cmongp1/mpaliyam/street2sat/data/crop_banana_region_UG/Uganda*$2021-07-24_boda_kenan_head_camera*$115GOPRO*$G0233226.JPG: 480x640 Done. (0.009s)\n",
      "image 227/250 /gpfs/data1/cmongp1/mpaliyam/street2sat/data/crop_banana_region_UG/Uganda*$2021-07-24_boda_kenan_head_camera*$117GOPRO*$G0235004.JPG: 480x640 Done. (0.010s)\n",
      "image 228/250 /gpfs/data1/cmongp1/mpaliyam/street2sat/data/crop_banana_region_UG/Uganda*$2021-07-25_boda_kenan_side_mirror*$101GOPRO*$G0074855.JPG: 480x640 1 banana, Done. (0.010s)\n",
      "image 229/250 /gpfs/data1/cmongp1/mpaliyam/street2sat/data/crop_banana_region_UG/Uganda*$2021-07-25_boda_kenan_side_mirror*$109GOPRO*$G0162402.JPG: 480x640 Done. (0.010s)\n",
      "image 230/250 /gpfs/data1/cmongp1/mpaliyam/street2sat/data/crop_banana_region_UG/Uganda*$2021-07-25_boda_kenan_side_mirror*$109GOPRO*$G0162761.JPG: 480x640 1 banana, Done. (0.010s)\n",
      "image 231/250 /gpfs/data1/cmongp1/mpaliyam/street2sat/data/crop_banana_region_UG/Uganda*$2021-07-25_boda_kenan_side_mirror*$2021-07-25_boda_kenan_side_mirror*$101GOPRO*$G0074909.JPG: 480x640 Done. (0.010s)\n",
      "image 232/250 /gpfs/data1/cmongp1/mpaliyam/street2sat/data/crop_banana_region_UG/Uganda*$2021-07-25_boda_kenan_side_mirror*$2021-07-25_boda_kenan_side_mirror*$107GOPRO*$G0130370.JPG: 480x640 1 banana, Done. (0.010s)\n",
      "image 233/250 /gpfs/data1/cmongp1/mpaliyam/street2sat/data/crop_banana_region_UG/Uganda*$2021-07-25_boda_kenan_side_mirror*$2021-07-25_boda_kenan_side_mirror*$109GOPRO*$G0162937.JPG: 480x640 Done. (0.010s)\n",
      "image 234/250 /gpfs/data1/cmongp1/mpaliyam/street2sat/data/crop_banana_region_UG/Uganda*$2021-07-25_boda_kenan_side_mirror*$2021-07-25_boda_kenan_side_mirror*$113GOPRO*$G0206556.JPG: 480x640 Done. (0.010s)\n",
      "image 235/250 /gpfs/data1/cmongp1/mpaliyam/street2sat/data/crop_banana_region_UG/Uganda*$2021-07-26_boda_sekidde*$109GOPRO*$G0095393.JPG: 480x640 Done. (0.010s)\n",
      "image 236/250 /gpfs/data1/cmongp1/mpaliyam/street2sat/data/crop_banana_region_UG/Uganda*$2021-07-26_boda_sekidde*$127GOPRO*$G0281670.JPG: 480x640 Done. (0.011s)\n",
      "image 237/250 /gpfs/data1/cmongp1/mpaliyam/street2sat/data/crop_banana_region_UG/Uganda*$2021-07-26_boda_sekidde*$2021-07-26_boda_sekidde*$107GOPRO*$G0033417.JPG: 480x640 Done. (0.010s)\n",
      "image 238/250 /gpfs/data1/cmongp1/mpaliyam/street2sat/data/crop_banana_region_UG/Uganda*$2021-07-26_boda_sekidde*$2021-07-26_boda_sekidde*$111GOPRO*$G0107885.JPG: 480x640 1 banana, Done. (0.009s)\n",
      "image 239/250 /gpfs/data1/cmongp1/mpaliyam/street2sat/data/crop_banana_region_UG/Uganda*$2021-07-26_boda_sekidde*$2021-07-26_boda_sekidde*$112GOPRO*$G0118310.JPG: 480x640 Done. (0.010s)\n",
      "image 240/250 /gpfs/data1/cmongp1/mpaliyam/street2sat/data/crop_banana_region_UG/Uganda*$2021-07-26_boda_sekidde*$2021-07-26_boda_sekidde*$123GOPRO*$G0268613.JPG: 480x640 2 bananas, Done. (0.010s)\n",
      "image 241/250 /gpfs/data1/cmongp1/mpaliyam/street2sat/data/crop_banana_region_UG/Uganda*$2021-07-26_boda_sekidde*$2021-07-26_boda_sekidde*$128GOPRO*$G0282282.JPG: 480x640 Done. (0.011s)\n",
      "image 242/250 /gpfs/data1/cmongp1/mpaliyam/street2sat/data/crop_banana_region_UG/Uganda*$2021-07-26_boda_sekidde*$2021-07-26_boda_sekidde*$130GOPRO*$G0294615.JPG: 480x640 Done. (0.010s)\n",
      "image 243/250 /gpfs/data1/cmongp1/mpaliyam/street2sat/data/crop_banana_region_UG/Uganda*$2021-07-28_boda_kenan*$100GOPRO*$G0010068.JPG: 480x640 Done. (0.010s)\n",
      "image 244/250 /gpfs/data1/cmongp1/mpaliyam/street2sat/data/crop_banana_region_UG/Uganda*$2021-07-28_boda_kenan*$102GOPRO*$G0022915.JPG: 480x640 1 banana, Done. (0.009s)\n",
      "image 245/250 /gpfs/data1/cmongp1/mpaliyam/street2sat/data/crop_banana_region_UG/Uganda*$2021-07-28_boda_ssekidde*$100GOPRO*$G0014736.JPG: 480x640 Done. (0.010s)\n",
      "image 246/250 /gpfs/data1/cmongp1/mpaliyam/street2sat/data/crop_banana_region_UG/Uganda*$2021-07-28_boda_ssekidde*$2021-07-28_boda_ssekidde*$103GOPRO*$G0037766.JPG: 480x640 Done. (0.010s)\n",
      "image 247/250 /gpfs/data1/cmongp1/mpaliyam/street2sat/data/crop_banana_region_UG/Uganda*$2021-07-28_boda_ssekidde*$2021-07-28_boda_ssekidde*$107GOPRO*$G0071348.JPG: 480x640 Done. (0.010s)\n",
      "image 248/250 /gpfs/data1/cmongp1/mpaliyam/street2sat/data/crop_banana_region_UG/Uganda*$2021-07-28_boda_ssekidde*$2021-07-28_boda_ssekidde*$112GOPRO*$G0186516.JPG: 480x640 Done. (0.010s)\n",
      "image 249/250 /gpfs/data1/cmongp1/mpaliyam/street2sat/data/crop_banana_region_UG/Uganda*$2021-07_boda_kenan*$108GOPRO*$G0167921.JPG: 480x640 2 bananas, Done. (0.010s)\n",
      "image 250/250 /gpfs/data1/cmongp1/mpaliyam/street2sat/data/crop_banana_region_UG/Uganda*$2021-07_boda_kenan*$112GOPRO*$G0210354.JPG: 480x640 Done. (0.009s)\n",
      "Speed: 0.5ms pre-process, 10.6ms inference, 0.7ms NMS per image at shape (1, 3, 640, 640)\n",
      "Results saved to \u001b[1mruns/detect/exp\u001b[0m\n",
      "145 labels saved to runs/detect/exp/labels\n"
     ]
    }
   ],
   "source": [
    "conf_thres = conf_thres\n",
    "iou_thres = iou_thres\n",
    "\n",
    "# runs the detect script from yolov5 libary\n",
    "to_parse = f\"detect.py \" \\\n",
    "            + f\"--weights {weights} \" \\\n",
    "            + f\"--source {save_dir} \" \\\n",
    "            + f\"--imgsz {imgsz} \" \\\n",
    "            + f\"--conf-thres {conf_thres} \" \\\n",
    "            + f\"--iou-thres {iou_thres} \" \\\n",
    "            + f\"--classes {classes_dict[query_for_crop]} \" \\\n",
    "            + f\"--max-det {max_det} \" \\\n",
    "            + f\"--project {project} \" \\\n",
    "            + f\"--name {name} \" \\\n",
    "            + f\"--exist-ok \" \\\n",
    "            + f\"--save-crop \" \\\n",
    "            + f\"--save-txt \" \\\n",
    "            + f\"--save-conf \" \\\n",
    "\n",
    "to_parse = to_parse.split()\n",
    "sys.argv = to_parse \n",
    "detect.main()"
   ]
  },
  {
   "cell_type": "code",
   "execution_count": 8,
   "metadata": {},
   "outputs": [
    {
     "name": "stdout",
     "output_type": "stream",
     "text": [
      "67\n"
     ]
    },
    {
     "name": "stderr",
     "output_type": "stream",
     "text": [
      "CSV Generation:   0%|          | 0/1 [00:00<?, ?it/s]"
     ]
    },
    {
     "name": "stdout",
     "output_type": "stream",
     "text": [
      "Saving to 2022-03-15_11-34-02_crop_banana_region_UG.csv\n"
     ]
    },
    {
     "name": "stderr",
     "output_type": "stream",
     "text": [
      "CSV Generation: 100%|██████████| 1/1 [00:00<00:00,  2.49it/s]\n"
     ]
    }
   ],
   "source": [
    "# Generate CSV, find detected images in the directory and convert back to database format \n",
    "# these contain the txt files of labels that detect.py found, if the class was not \n",
    "# present it will not be in this directory\n",
    "images_with_labels = [x.replace('.txt', '.JPG').replace('*$', '/') for x in os.listdir(os.path.join(project, name, 'labels'))]\n",
    "images_with_labels = set(images_with_labels)\n",
    "\n",
    "# filter the potential images to label by the ones which were detected \n",
    "potential_images = [image for image in potential_images if image in images_with_labels]\n",
    "\n",
    "# fix the format to be google cloud paths\n",
    "potential_images = [f\"gs://{gcloud_uploaded_bucket_str}/\" + image for image in potential_images]\n",
    "\n",
    "print(len(potential_images))\n",
    "\n",
    "# create csv with each row having the image path from potential images \n",
    "amount_of_csvs_to_generate = 1\n",
    "for i in tqdm(range(amount_of_csvs_to_generate), desc=\"CSV Generation\"):\n",
    "    images_to_label = potential_images\n",
    "    csv_name = datetime.now().strftime(\"%Y-%m-%d_%H-%M-%S_\") + f'crop_{query_for_crop}_region_{query_for_region}' + '.csv'\n",
    "    print(f\"Saving to {csv_name}\")\n",
    "    df = pd.DataFrame(images_to_label)\n",
    "    df.to_csv(f\"gs://{gcloud_labeling_bucket_str}/{csv_name}\", sep=\"\\n\", index=False, header=False)"
   ]
  },
  {
   "cell_type": "code",
   "execution_count": 9,
   "metadata": {},
   "outputs": [
    {
     "data": {
      "text/plain": [
       "'gs://street2sat-gcloud-labeling/2022-03-15_11-34-02_crop_banana_region_UG.csv'"
      ]
     },
     "execution_count": 9,
     "metadata": {},
     "output_type": "execute_result"
    }
   ],
   "source": [
    "# location of csv in google cloud \n",
    "f\"gs://{gcloud_labeling_bucket_str}/{csv_name}\""
   ]
  },
  {
   "cell_type": "code",
   "execution_count": 10,
   "metadata": {},
   "outputs": [
    {
     "name": "stdout",
     "output_type": "stream",
     "text": [
      "INFO:google.cloud.aiplatform.datasets.dataset:Creating ImageDataset\n",
      "INFO:google.cloud.aiplatform.datasets.dataset:Create ImageDataset backing LRO: projects/1012768714927/locations/us-central1/datasets/9121113057425096704/operations/4717991819122573312\n"
     ]
    }
   ],
   "source": [
    "# create dataset \n",
    "ds = aiplatform.ImageDataset.create(\n",
    "        display_name=csv_name.split('.')[0],\n",
    "        gcs_source=f\"gs://{gcloud_labeling_bucket_str}/{csv_name}\",\n",
    "        import_schema_uri=aiplatform.schema.dataset.ioformat.image.bounding_box,\n",
    "        sync=False,\n",
    "    )"
   ]
  },
  {
   "cell_type": "code",
   "execution_count": 11,
   "metadata": {},
   "outputs": [
    {
     "ename": "AttributeError",
     "evalue": "'ImageDataset' object has no attribute '_gsa_resource'",
     "output_type": "error",
     "traceback": [
      "\u001b[0;31m---------------------------------------------------------------------------\u001b[0m",
      "\u001b[0;31mAttributeError\u001b[0m                            Traceback (most recent call last)",
      "\u001b[0;32m/tmp/ipykernel_110367/2256445710.py\u001b[0m in \u001b[0;36m<module>\u001b[0;34m\u001b[0m\n\u001b[0;32m----> 1\u001b[0;31m \u001b[0mds\u001b[0m\u001b[0;34m.\u001b[0m\u001b[0m_gsa_resource\u001b[0m\u001b[0;34m\u001b[0m\u001b[0;34m\u001b[0m\u001b[0m\n\u001b[0m",
      "\u001b[0;31mAttributeError\u001b[0m: 'ImageDataset' object has no attribute '_gsa_resource'"
     ]
    },
    {
     "name": "stdout",
     "output_type": "stream",
     "text": [
      "INFO:google.cloud.aiplatform.datasets.dataset:ImageDataset created. Resource name: projects/1012768714927/locations/us-central1/datasets/9121113057425096704\n",
      "INFO:google.cloud.aiplatform.datasets.dataset:To use this ImageDataset in another session:\n",
      "INFO:google.cloud.aiplatform.datasets.dataset:ds = aiplatform.ImageDataset('projects/1012768714927/locations/us-central1/datasets/9121113057425096704')\n",
      "INFO:google.cloud.aiplatform.datasets.dataset:Importing ImageDataset data: projects/1012768714927/locations/us-central1/datasets/9121113057425096704\n",
      "INFO:google.cloud.aiplatform.datasets.dataset:Import ImageDataset data backing LRO: projects/1012768714927/locations/us-central1/datasets/9121113057425096704/operations/9121386354784075776\n",
      "INFO:google.cloud.aiplatform.datasets.dataset:ImageDataset data imported. Resource name: projects/1012768714927/locations/us-central1/datasets/9121113057425096704\n"
     ]
    }
   ],
   "source": [
    "ds._gsa_resource"
   ]
  }
 ],
 "metadata": {
  "interpreter": {
   "hash": "c6e19b068c9dc8e9abbb63f4ebe6ba72967bfa9808ead93b8c4d20f84e90dab6"
  },
  "kernelspec": {
   "display_name": "Python 3.7.7 ('mads')",
   "language": "python",
   "name": "python3"
  },
  "language_info": {
   "codemirror_mode": {
    "name": "ipython",
    "version": 3
   },
   "file_extension": ".py",
   "mimetype": "text/x-python",
   "name": "python",
   "nbconvert_exporter": "python",
   "pygments_lexer": "ipython3",
   "version": "3.7.11"
  },
  "orig_nbformat": 4
 },
 "nbformat": 4,
 "nbformat_minor": 2
}

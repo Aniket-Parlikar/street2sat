{
 "cells": [
  {
   "cell_type": "code",
   "execution_count": 1,
   "metadata": {},
   "outputs": [],
   "source": [
    "from google.cloud import storage\n",
    "import pandas as pd\n",
    "from yolov5 import val\n",
    "import sys\n",
    "import yaml\n",
    "import os\n",
    "import shutil\n",
    "import reverse_geocoder as rg\n",
    "from collections import OrderedDict"
   ]
  },
  {
   "cell_type": "markdown",
   "metadata": {},
   "source": [
    "# Analyze Predictions\n",
    "\n",
    "**Author:** Madhava Paliyam (madhavapaliyam@gmail.com)\n",
    "\n",
    "**Description:** Analyzes the model output using the YOLOv5 validation script. Breaks down model performance by crop type for a given region. \n",
    "\n",
    "\n",
    "**Inputs**: Region to analyze, train/val dataset csv\n",
    "\n",
    "**Outputs**: YOLOv5 validation performance \n",
    "\n"
   ]
  },
  {
   "cell_type": "code",
   "execution_count": 9,
   "metadata": {},
   "outputs": [
    {
     "name": "stdout",
     "output_type": "stream",
     "text": [
      "\u001b[0m"
     ]
    }
   ],
   "source": [
    "!dvc pull -q -f"
   ]
  },
  {
   "cell_type": "code",
   "execution_count": 10,
   "metadata": {},
   "outputs": [],
   "source": [
    "#### SET PARAMETERS HERE #####\n",
    "\n",
    "# Country to analyze, choose from US, KE, UG\n",
    "COUNTRY = 'KE'\n",
    "\n",
    "# download folder \n",
    "FOLDER = 'dataset'\n",
    "\n",
    "# save output images here\n",
    "SAVE_FOLDER = 'runs/val'\n",
    "\n",
    "# exp name \n",
    "EXP_NAME = 'all'\n",
    "\n",
    "# path to model weights \n",
    "model_weights_path = '/gpfs/data1/cmongp1/mpaliyam/street2sat/yolov5/runs/train/exp18/weights/best.pt'  \n",
    "\n",
    "# confidence threshold \n",
    "conf_thresh = .0001\n",
    "\n",
    "# IOU threshold\n",
    "iou_thresh = .1"
   ]
  },
  {
   "cell_type": "markdown",
   "metadata": {},
   "source": [
    "#### Run following cells to download images from particular country"
   ]
  },
  {
   "cell_type": "code",
   "execution_count": 12,
   "metadata": {},
   "outputs": [
    {
     "name": "stderr",
     "output_type": "stream",
     "text": [
      "/home/paliyamm/.conda/envs/lacuna/lib/python3.7/site-packages/IPython/core/interactiveshell.py:3457: DtypeWarning: Columns (7) have mixed types.Specify dtype option on import or set low_memory=False.\n",
      "  exec(code_obj, self.user_global_ns, self.user_ns)\n"
     ]
    },
    {
     "name": "stdout",
     "output_type": "stream",
     "text": [
      "gs://street2sat-uploaded/KENYA/2021_07_10_T2/110GOPRO/GPED4063.JPG\n",
      "gs://street2sat-uploaded/KENYA/2021_07_15_T2/103GOPRO/GPCV6094.JPG\n",
      "gs://street2sat-uploaded/KENYA/2021_07_13_T2/106GOPRO/GPBY2219.JPG\n",
      "gs://street2sat-uploaded/KENYA/2021-07-06-T1/GPBC3759.JPG\n",
      "gs://street2sat-uploaded/KENYA/2021-07-23-T1/GPAR2964.JPG\n",
      "gs://street2sat-uploaded/KENYA/2021_07_10_T2/111GOPRO/GPET5778.JPG\n",
      "gs://street2sat-uploaded/KENYA/2021-08-03-T1/GPAJ5589.JPG\n",
      "gs://street2sat-uploaded/KENYA/2021_07_12_T2/105GOPRO/GPCR0235.JPG\n",
      "gs://street2sat-uploaded/KENYA/2021-07-17-T1/GPQP2454.JPG\n",
      "gs://street2sat-uploaded/KENYA/2021-08-02-T1/GPAM4051.JPG\n",
      "gs://street2sat-uploaded/KENYA/2021-07-26-T1/GPAE8743.JPG\n",
      "gs://street2sat-uploaded/KENYA/2021-07-06-T1/GPBO4072.JPG\n",
      "gs://street2sat-uploaded/KENYA/2021_07_12_T2/103GOPRO/GPCA9066.JPG\n",
      "gs://street2sat-uploaded/KENYA/2021_07_10_T2/111GOPRO/GPES5766.JPG\n",
      "gs://street2sat-uploaded/KENYA/2021-08-04-T1/GPAS9205.JPG\n",
      "gs://street2sat-uploaded/KENYA/2021_07_12_T2/108GOPRO/GPEE3512.JPG\n",
      "gs://street2sat-uploaded/KENYA/2021_07_12_T2/104GOPRO/GPCF9520.JPG\n",
      "gs://street2sat-uploaded/KENYA/2021_07_12_T2/103GOPRO/GPBR8724.JPG\n",
      "gs://street2sat-uploaded/KENYA/2021_07_19_T2/116GOPRO/GPEM5423.JPG\n",
      "gs://street2sat-uploaded/KENYA/2021-07-31-T1/GPRC9249.JPG\n",
      "gs://street2sat-uploaded/KENYA/2021-07-10-T1/GPIL3614.JPG\n",
      "gs://street2sat-uploaded/KENYA/2021_07_12_T2/110GOPRO/GPFK5419.JPG\n",
      "gs://street2sat-uploaded/KENYA/2021-07-09-T1/GPGC0417.JPG\n",
      "gs://street2sat-uploaded/KENYA/2021_07_13_T2/115GOPRO/GPET0746.JPG\n",
      "gs://street2sat-uploaded/KENYA/2021-08-04-T1/GPAK8168.JPG\n",
      "gs://street2sat-uploaded/KENYA/2021-07-07-T1/GPCS6126.JPG\n",
      "gs://street2sat-uploaded/KENYA/2021_08_05_T2/102GOPRO/GPEZ9673.JPG\n",
      "gs://street2sat-uploaded/KENYA/2021-08-03-T1/GPAS6801.JPG\n",
      "gs://street2sat-uploaded/KENYA/2021-07-27-T1/GPCW1642.JPG\n",
      "gs://street2sat-uploaded/KENYA/2021-07-29-T1/GPAM5544.JPG\n",
      "gs://street2sat-uploaded/KENYA/2021-07-10-T1/GPHW2661.JPG\n",
      "gs://street2sat-uploaded/KENYA/2021_07_12_T2/111GOPRO/GPFR6424.JPG\n",
      "gs://street2sat-uploaded/KENYA/2021_07_18_T2/106GOPRO/GPGE4787.JPG\n",
      "gs://street2sat-uploaded/KENYA/2021_07_13_T2/106GOPRO/GPBZ2280.JPG\n",
      "gs://street2sat-uploaded/KENYA/2021-07-07-T1/GPDG6822.JPG\n",
      "gs://street2sat-uploaded/KENYA/2021-08-04-T1/GPAS9197.JPG\n",
      "gs://street2sat-uploaded/KENYA/2021_07_21_T2/101GOPRO/GPBA1843.JPG\n",
      "gs://street2sat-uploaded/KENYA/2021-08-03-T1/GPAP6489.JPG\n",
      "gs://street2sat-uploaded/KENYA/2021-07-26-T1/GPBB9600.JPG\n",
      "gs://street2sat-uploaded/KENYA/2021-08-02-T1/GPAL3887.JPG\n",
      "gs://street2sat-uploaded/KENYA/2021_07_15_T2/103GOPRO/GPCT5994.JPG\n",
      "gs://street2sat-uploaded/KENYA/2021_07_19_T2/122GOPRO/GPJK0406.JPG\n",
      "gs://street2sat-uploaded/KENYA/2021_07_13_T2/105GOPRO/GPBK1275.JPG\n",
      "gs://street2sat-uploaded/KENYA/2021-07-24-T1/GPAW5212.JPG\n",
      "gs://street2sat-uploaded/KENYA/2021_07_20_T2/108GOPRO/GPIA0202.JPG\n",
      "gs://street2sat-uploaded/KENYA/2021_07_13_T2/102GOPRO/GPAZ9614.JPG\n",
      "gs://street2sat-uploaded/KENYA/2021-07-27-T1/GPDG2199.JPG\n",
      "gs://street2sat-uploaded/KENYA/2021-07-06-T1/GPCO5590.JPG\n",
      "gs://street2sat-uploaded/KENYA/2021_07_19_T2/123GOPRO/GPJV1077.JPG\n",
      "gs://street2sat-uploaded/KENYA/2021-07-08-T1/GPEM8206.JPG\n",
      "gs://street2sat-uploaded/KENYA/2021_07_12_T2/106GOPRO/GPDP1784.JPG\n",
      "gs://street2sat-uploaded/KENYA/2021_07_27_T2/102GOPRO/GPED2953.JPG\n",
      "gs://street2sat-uploaded/KENYA/2021_07_19_T2/119GOPRO/GPIA8750.JPG\n",
      "gs://street2sat-uploaded/KENYA/2021_07_29_T2/104GOPRO/GPDU2307.JPG\n",
      "gs://street2sat-uploaded/KENYA/2021_07_20_T2/107GOPRO/GPHQ9927.JPG\n",
      "gs://street2sat-uploaded/KENYA/2021-07-10-T1/GPHU2527.JPG\n",
      "gs://street2sat-uploaded/KENYA/2021_08_03_T2/100GOPRO/GPDK8342.JPG\n",
      "gs://street2sat-uploaded/KENYA/2021_07_19_T2/118GOPRO/GPGJ7145.JPG\n",
      "gs://street2sat-uploaded/KENYA/2021_07_19_T2/120GOPRO/GPIK9036.JPG\n",
      "gs://street2sat-uploaded/KENYA/2021-07-26-T1/GPBJ9997.JPG\n",
      "gs://street2sat-uploaded/KENYA/2021_07_16_T2/103GOPRO/GPCI2969.JPG\n",
      "gs://street2sat-uploaded/KENYA/2021-07-22-T1/GPXG9135.JPG\n",
      "gs://street2sat-uploaded/KENYA/2021_07_13_T2/102GOPRO/GPAU9054.JPG\n",
      "gs://street2sat-uploaded/KENYA/2021_07_12_T2/107GOPRO/GPDV2543.JPG\n",
      "gs://street2sat-uploaded/KENYA/2021_07_13_T2/103GOPRO/GPBC9849.JPG\n",
      "gs://street2sat-uploaded/KENYA/2021_07_12_T2/106GOPRO/GPDP1799.JPG\n",
      "gs://street2sat-uploaded/KENYA/2021-07-09-T1/GPFZ0265.JPG\n",
      "gs://street2sat-uploaded/KENYA/2021-07-06-T1/GPBP4248.JPG\n",
      "gs://street2sat-uploaded/KENYA/2021-07-27-T1/GPDL2503.JPG\n",
      "gs://street2sat-uploaded/KENYA/2021_07_19_T2/123GOPRO/GPJU1008.JPG\n",
      "gs://street2sat-uploaded/KENYA/2021_07_13_T2/106GOPRO/GPCG2766.JPG\n",
      "gs://street2sat-uploaded/KENYA/2021-07-09-T1/GPGB0373.JPG\n",
      "gs://street2sat-uploaded/KENYA/2021_08_04_T2/100GOPRO/GPAC3660.JPG\n",
      "gs://street2sat-uploaded/KENYA/2021_07_21_T2/101GOPRO/GPBK2320.JPG\n",
      "gs://street2sat-uploaded/KENYA/2021_07_12_T2/109GOPRO/GPFH4762.JPG\n",
      "gs://street2sat-uploaded/KENYA/2021-08-02-T1/GPAD1764.JPG\n",
      "gs://street2sat-uploaded/KENYA/2021_07_20_T2/105GOPRO/GPEF7897.JPG\n",
      "gs://street2sat-uploaded/KENYA/2021-08-04-T1/GPAE7731.JPG\n",
      "gs://street2sat-uploaded/KENYA/2021_07_08_T2/GPFX1225.JPG\n",
      "gs://street2sat-uploaded/KENYA/2021-07-22-T1/GPYI0129.JPG\n",
      "gs://street2sat-uploaded/KENYA/2021_07_21_T2/104GOPRO/GPEM4976.JPG\n",
      "gs://street2sat-uploaded/KENYA/2021-07-05-T1/GPAH2394.JPG\n",
      "gs://street2sat-uploaded/KENYA/2021_07_12_T2/106GOPRO/GPDL1546.JPG\n",
      "gs://street2sat-uploaded/KENYA/2021_07_17_T2/103GOPRO/GPES7872.JPG\n",
      "gs://street2sat-uploaded/KENYA/2021_07_12_T2/103GOPRO/GPCE9399.JPG\n",
      "gs://street2sat-uploaded/KENYA/2021_07_17_T2/102GOPRO/GPDD6414.JPG\n",
      "gs://street2sat-uploaded/KENYA/2021_07_10_T2/111GOPRO/GPEN5308.JPG\n",
      "gs://street2sat-uploaded/KENYA/2021-07-29-T1/GPBI6374.JPG\n",
      "gs://street2sat-uploaded/KENYA/2021_07_08_T2/GPHB2581.JPG\n",
      "gs://street2sat-uploaded/KENYA/2021_07_10_T2/110GOPRO/GPED4127.JPG\n",
      "gs://street2sat-uploaded/KENYA/2021-08-02-T1/GPAE3322.JPG\n",
      "gs://street2sat-uploaded/KENYA/2021_07_13_T2/100GOPRO/GPAA6913.JPG\n",
      "gs://street2sat-uploaded/KENYA/2021_07_12_T2/107GOPRO/GPDV2535.JPG\n",
      "gs://street2sat-uploaded/KENYA/2021-07-08-T1/GPEF8057.JPG\n",
      "gs://street2sat-uploaded/KENYA/2021-07-28-T1/GPFB4735.JPG\n",
      "gs://street2sat-uploaded/KENYA/2021-07-18-T1/GPSS4763.JPG\n",
      "gs://street2sat-uploaded/KENYA/2021-08-02-T1/GPAG3408.JPG\n",
      "gs://street2sat-uploaded/KENYA/2021_07_13_T2/113GOPRO/GPEM9629.JPG\n",
      "gs://street2sat-uploaded/KENYA/2021-07-05-T1/GPAJ2532.JPG\n",
      "gs://street2sat-uploaded/KENYA/2021-07-11-T1/GPJS6090.JPG\n",
      "gs://street2sat-uploaded/KENYA/2021_07_16_T2/102GOPRO/GPBK1329.JPG\n",
      "gs://street2sat-uploaded/KENYA/2021_07_08_T2/GPJB6280.JPG\n",
      "gs://street2sat-uploaded/KENYA/2021-07-22-T1/GPXT9710.JPG\n",
      "gs://street2sat-uploaded/KENYA/2021_07_10_T2/112GOPRO/GPFG6848.JPG\n",
      "gs://street2sat-uploaded/KENYA/2021-07-31-T1/GPAB8115.JPG\n",
      "gs://street2sat-uploaded/KENYA/2021-07-12-T1/GPKN6971.JPG\n",
      "gs://street2sat-uploaded/KENYA/2021_07_16_T2/103GOPRO/GPBT2118.JPG\n",
      "gs://street2sat-uploaded/KENYA/2021-07-22-T1/GPZG0818.JPG\n",
      "gs://street2sat-uploaded/KENYA/2021_07_16_T2/104GOPRO/GPDD3905.JPG\n",
      "gs://street2sat-uploaded/KENYA/2021_07_05_T2/GPAV7351.JPG\n",
      "gs://street2sat-uploaded/KENYA/2021-07-22-T1/GPZK0861.JPG\n",
      "gs://street2sat-uploaded/KENYA/2021_07_30_T2/102GOPRO/GPCQ6869.JPG\n",
      "gs://street2sat-uploaded/KENYA/2021-07-27-T1/GPCP1291.JPG\n",
      "gs://street2sat-uploaded/KENYA/2021_08_04_T2/102GOPRO/GPBR5743.JPG\n",
      "gs://street2sat-uploaded/KENYA/2021_07_17_T2/104GOPRO/GPEZ8236.JPG\n",
      "gs://street2sat-uploaded/KENYA/2021_07_16_T2/101GOPRO/GPBD0814.JPG\n",
      "gs://street2sat-uploaded/KENYA/2021_07_19_T2/117GOPRO/GPFM6329.JPG\n",
      "gs://street2sat-uploaded/KENYA/2021-07-06-T1/GPBU4887.JPG\n",
      "gs://street2sat-uploaded/KENYA/2021-07-27-T1/GPCO1280.JPG\n"
     ]
    }
   ],
   "source": [
    "train_set = pd.read_csv('../data/train.csv')\n",
    "val_set = pd.read_csv('../data/val.csv')\n",
    "database_info = pd.read_csv('../data/database-info.csv', index_col = 0)\n",
    "\n",
    "client = storage.Client()\n",
    "gcloud_uploaded_bucket = client.bucket('street2sat-uploaded')\n",
    "\n",
    "# This function downloads the images into directories as needed for training YOLO\n",
    "def download_to_folder(folder, dataset, country_code):\n",
    "    if not os.path.exists(folder):\n",
    "        os.makedirs(os.path.join(folder, 'images'))\n",
    "        os.makedirs(os.path.join(folder, 'labels'))\n",
    "\n",
    "    for i,image in dataset.iterrows():\n",
    "        # download image to directory if country code matches \n",
    "        match = database_info[database_info['input_img'] == image['path']]\n",
    "        assert len(match) == 1, 'Multiple images found for same path!'\n",
    "\n",
    "        if match.iloc[0]['cc'] != country_code:\n",
    "            continue \n",
    "        print(image['path'])\n",
    "        path = image['path'].replace('gs://street2sat-uploaded/', '')\n",
    "        blob = gcloud_uploaded_bucket.blob(path)\n",
    "        blob.download_to_filename(os.path.join(folder,'images',str(i) + '.jpg'))\n",
    "        \n",
    "        # create txt file and download \n",
    "        if isinstance(image['bounding_boxes'], str): \n",
    "            with open(os.path.join(folder, 'labels', str(i) + '.txt'), 'w') as f: \n",
    "                f.write(image['bounding_boxes'])\n",
    "                \n",
    "\n",
    "download_to_folder(os.path.join(FOLDER, 'train'), train_set, COUNTRY)\n",
    "download_to_folder(os.path.join(FOLDER, 'val'), val_set, COUNTRY)\n"
   ]
  },
  {
   "cell_type": "code",
   "execution_count": 13,
   "metadata": {},
   "outputs": [],
   "source": [
    "# open the classes to index dictionary\n",
    "classes_dict = OrderedDict()\n",
    "with open('../street2sat_utils/crop_info/classes.txt') as classes_file: \n",
    "    for i, line in enumerate(classes_file):\n",
    "        classes_dict[line.strip()] = i\n",
    "\n",
    "\n",
    "# Create yaml file \n",
    "path = os.path.abspath(FOLDER)\n",
    "training_yaml = {'train' : os.path.join(path, 'train', 'images'), \n",
    "                    'val' : os.path.join(path, 'val', 'images'), \n",
    "                    'nc' : len(classes_dict), \n",
    "                    'names' : list(classes_dict.keys())}\n",
    "\n",
    "with open(f\"{FOLDER}/data_info.yaml\", 'w') as file: \n",
    "    yaml.dump(training_yaml, file, default_flow_style=None)\n",
    "\n",
    "folder = os.path.abspath(FOLDER)\n",
    "yaml_file = os.path.join(folder, 'data_info.yaml')"
   ]
  },
  {
   "cell_type": "markdown",
   "metadata": {},
   "source": [
    "### Runs validation script with parameters\n",
    "\n",
    "https://github.com/ultralytics/yolov5/blob/63ddb6f0d06f6309aa42bababd08c859197a27af/val.py#L319\n"
   ]
  },
  {
   "cell_type": "code",
   "execution_count": 14,
   "metadata": {},
   "outputs": [
    {
     "name": "stderr",
     "output_type": "stream",
     "text": [
      "YOLOv5 🚀 2022-2-16 torch 1.10.2+cu102 CUDA:0 (Tesla V100-PCIE-16GB, 16160.5MB)\n",
      "\n"
     ]
    },
    {
     "name": "stdout",
     "output_type": "stream",
     "text": [
      "\u001b[34m\u001b[1mval: \u001b[0mdata=/gpfs/data1/cmongp1/mpaliyam/street2sat/street2sat/notebooks/dataset/data_info.yaml, weights=['/gpfs/data1/cmongp1/mpaliyam/street2sat/yolov5/runs/train/exp18/weights/best.pt'], batch_size=1, imgsz=800, conf_thres=0.0001, iou_thres=0.1, task=val, device=, single_cls=False, augment=False, verbose=True, save_txt=False, save_hybrid=False, save_conf=False, save_json=False, project=runs/val, name=exp, exist_ok=True, half=False\n"
     ]
    },
    {
     "name": "stderr",
     "output_type": "stream",
     "text": [
      "Fusing layers... \n",
      "/home/paliyamm/.conda/envs/lacuna/lib/python3.7/site-packages/torch/functional.py:445: UserWarning: torch.meshgrid: in an upcoming release, it will be required to pass the indexing argument. (Triggered internally at  ../aten/src/ATen/native/TensorShape.cpp:2157.)\n",
      "  return _VF.meshgrid(tensors, **kwargs)  # type: ignore[attr-defined]\n",
      "Model Summary: 369 layers, 20919810 parameters, 0 gradients, 48.2 GFLOPs\n",
      "\u001b[34m\u001b[1mval: \u001b[0mScanning '/gpfs/data1/cmongp1/mpaliyam/street2sat/street2sat/notebooks/dataset/val/labels' images and labels...20 found, 5 missing, 0 empty, 0 corrupted: 100%|██████████| 25/25 [00:00<00:00, 71.85it/s]\n",
      "\u001b[34m\u001b[1mval: \u001b[0mNew cache created: /gpfs/data1/cmongp1/mpaliyam/street2sat/street2sat/notebooks/dataset/val/labels.cache\n",
      "               Class     Images     Labels          P          R     mAP@.5 mAP@.5:.95: 100%|██████████| 25/25 [00:03<00:00,  6.73it/s]\n"
     ]
    },
    {
     "name": "stdout",
     "output_type": "stream",
     "text": [
      "                 all         25         60       0.34      0.362      0.312      0.136\n",
      "              banana         25          1          0          0          0          0\n",
      "               maize         25         54      0.491      0.685      0.536      0.228\n",
      "           sugarcane         25          5       0.53        0.4      0.401       0.18\n",
      "Speed: 0.2ms pre-process, 10.5ms inference, 5.0ms NMS per image at shape (1, 3, 800, 800)\n",
      "Results saved to \u001b[1mruns/val/exp\u001b[0m\n"
     ]
    }
   ],
   "source": [
    "# runs the validate script from yolov5 libary\n",
    "to_parse = f\"val.py --data {yaml_file} \" \\\n",
    "            + f\"--weights {model_weights_path} \" \\\n",
    "            + f\"--batch-size {1} \" \\\n",
    "            + f\"--imgsz {800} \" \\\n",
    "            + f\"--conf-thres {conf_thresh} \" \\\n",
    "            + f\"--iou-thres {iou_thresh} \" \\\n",
    "            + f\"--verbose \" \\\n",
    "            + f\"--exist-ok \" \\\n",
    "            + f\"--task val \" \\\n",
    "            # + f\"--device cpu\"\\\n",
    "\n",
    "to_parse = to_parse.split()\n",
    "sys.argv = to_parse \n",
    "val.main()"
   ]
  },
  {
   "cell_type": "markdown",
   "metadata": {},
   "source": [
    "![alt text](runs/val/exp/confusion_matrix.png \"Confusion Matrix\")"
   ]
  },
  {
   "cell_type": "markdown",
   "metadata": {},
   "source": [
    "![alt text](runs/val/exp/F1_curve.png \"F1\")"
   ]
  }
 ],
 "metadata": {
  "interpreter": {
   "hash": "18299326acd67c3347301aa46e10944c681f8646864aedc6c136bb4609b8c46d"
  },
  "kernelspec": {
   "display_name": "Python 3.7.11 ('lacuna')",
   "language": "python",
   "name": "python3"
  },
  "language_info": {
   "codemirror_mode": {
    "name": "ipython",
    "version": 3
   },
   "file_extension": ".py",
   "mimetype": "text/x-python",
   "name": "python",
   "nbconvert_exporter": "python",
   "pygments_lexer": "ipython3",
   "version": "3.7.11"
  },
  "orig_nbformat": 4
 },
 "nbformat": 4,
 "nbformat_minor": 2
}
